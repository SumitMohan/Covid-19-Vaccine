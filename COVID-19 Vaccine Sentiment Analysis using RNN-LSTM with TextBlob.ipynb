{
  "cells": [
    {
      "cell_type": "markdown",
      "metadata": {
        "id": "view-in-github",
        "colab_type": "text"
      },
      "source": [
        "<a href=\"https://colab.research.google.com/github/SumitMohan/Covid-19-Vaccine/blob/main/COVID-19%20Vaccine%20Sentiment%20Analysis%20using%20RNN-LSTM%20with%20TextBlob.ipynb\" target=\"_parent\"><img src=\"https://colab.research.google.com/assets/colab-badge.svg\" alt=\"Open In Colab\"/></a>"
      ]
    },
    {
      "cell_type": "code",
      "source": [
        "from google.colab import drive\n",
        "drive.mount('/content/drive')"
      ],
      "metadata": {
        "colab": {
          "base_uri": "https://localhost:8080/"
        },
        "id": "dEi0fZggC1R-",
        "outputId": "b2503664-3de6-4e84-acb4-c8700caac46f"
      },
      "id": "dEi0fZggC1R-",
      "execution_count": 4,
      "outputs": [
        {
          "output_type": "stream",
          "name": "stdout",
          "text": [
            "Mounted at /content/drive\n"
          ]
        }
      ]
    },
    {
      "cell_type": "code",
      "execution_count": 2,
      "id": "uniform-inflation",
      "metadata": {
        "execution": {
          "iopub.execute_input": "2021-04-28T10:19:41.115932Z",
          "iopub.status.busy": "2021-04-28T10:19:41.115395Z",
          "iopub.status.idle": "2021-04-28T10:19:41.117832Z",
          "shell.execute_reply": "2021-04-28T10:19:41.118251Z"
        },
        "papermill": {
          "duration": 0.035835,
          "end_time": "2021-04-28T10:19:41.118420",
          "exception": false,
          "start_time": "2021-04-28T10:19:41.082585",
          "status": "completed"
        },
        "tags": [],
        "id": "uniform-inflation"
      },
      "outputs": [],
      "source": [
        "#import library\n",
        "\n",
        "import pandas as pd\n",
        "import numpy as np\n",
        "\n",
        "import matplotlib.pyplot as plt\n",
        "%matplotlib inline\n"
      ]
    },
    {
      "cell_type": "markdown",
      "id": "handed-making",
      "metadata": {
        "papermill": {
          "duration": 0.027109,
          "end_time": "2021-04-28T10:19:41.172431",
          "exception": false,
          "start_time": "2021-04-28T10:19:41.145322",
          "status": "completed"
        },
        "tags": [],
        "id": "handed-making"
      },
      "source": [
        "**Import Data**"
      ]
    },
    {
      "cell_type": "code",
      "execution_count": 5,
      "id": "eight-makeup",
      "metadata": {
        "execution": {
          "iopub.execute_input": "2021-04-28T10:19:41.231671Z",
          "iopub.status.busy": "2021-04-28T10:19:41.231142Z",
          "iopub.status.idle": "2021-04-28T10:19:45.457776Z",
          "shell.execute_reply": "2021-04-28T10:19:45.458164Z"
        },
        "papermill": {
          "duration": 4.258846,
          "end_time": "2021-04-28T10:19:45.458306",
          "exception": false,
          "start_time": "2021-04-28T10:19:41.199460",
          "status": "completed"
        },
        "tags": [],
        "colab": {
          "base_uri": "https://localhost:8080/",
          "height": 545
        },
        "id": "eight-makeup",
        "outputId": "3b6b993a-da07-4eb9-eecd-ed621b5b003a"
      },
      "outputs": [
        {
          "output_type": "execute_result",
          "data": {
            "text/html": [
              "<div>\n",
              "<style scoped>\n",
              "    .dataframe tbody tr th:only-of-type {\n",
              "        vertical-align: middle;\n",
              "    }\n",
              "\n",
              "    .dataframe tbody tr th {\n",
              "        vertical-align: top;\n",
              "    }\n",
              "\n",
              "    .dataframe thead th {\n",
              "        text-align: right;\n",
              "    }\n",
              "</style>\n",
              "<table border=\"1\" class=\"dataframe\">\n",
              "  <thead>\n",
              "    <tr style=\"text-align: right;\">\n",
              "      <th></th>\n",
              "      <th>id</th>\n",
              "      <th>conversation_id</th>\n",
              "      <th>created_at</th>\n",
              "      <th>date</th>\n",
              "      <th>time</th>\n",
              "      <th>timezone</th>\n",
              "      <th>user_id</th>\n",
              "      <th>username</th>\n",
              "      <th>name</th>\n",
              "      <th>place</th>\n",
              "      <th>tweet</th>\n",
              "      <th>language</th>\n",
              "      <th>mentions</th>\n",
              "      <th>urls</th>\n",
              "      <th>photos</th>\n",
              "      <th>replies_count</th>\n",
              "      <th>retweets_count</th>\n",
              "      <th>likes_count</th>\n",
              "      <th>hashtags</th>\n",
              "      <th>cashtags</th>\n",
              "      <th>link</th>\n",
              "      <th>retweet</th>\n",
              "      <th>quote_url</th>\n",
              "      <th>video</th>\n",
              "      <th>thumbnail</th>\n",
              "      <th>near</th>\n",
              "      <th>geo</th>\n",
              "      <th>source</th>\n",
              "      <th>user_rt_id</th>\n",
              "      <th>user_rt</th>\n",
              "      <th>retweet_id</th>\n",
              "      <th>reply_to</th>\n",
              "      <th>retweet_date</th>\n",
              "      <th>translate</th>\n",
              "      <th>trans_src</th>\n",
              "      <th>trans_dest</th>\n",
              "    </tr>\n",
              "  </thead>\n",
              "  <tbody>\n",
              "    <tr>\n",
              "      <th>0</th>\n",
              "      <td>1319174447442448384</td>\n",
              "      <td>1319153697406906369</td>\n",
              "      <td>2020-10-22 12:41:12 India Standard Time</td>\n",
              "      <td>2020-10-22</td>\n",
              "      <td>12:41:12</td>\n",
              "      <td>530</td>\n",
              "      <td>270371054</td>\n",
              "      <td>to_fly_to_live</td>\n",
              "      <td>Flynn Rider</td>\n",
              "      <td>NaN</td>\n",
              "      <td>@ANI Isn't it the best poll promise ever?? Fre...</td>\n",
              "      <td>en</td>\n",
              "      <td>['ani']</td>\n",
              "      <td>[]</td>\n",
              "      <td>[]</td>\n",
              "      <td>0</td>\n",
              "      <td>0</td>\n",
              "      <td>0</td>\n",
              "      <td>[]</td>\n",
              "      <td>[]</td>\n",
              "      <td>https://twitter.com/to_fly_to_live/status/1319...</td>\n",
              "      <td>NaN</td>\n",
              "      <td>NaN</td>\n",
              "      <td>0</td>\n",
              "      <td>NaN</td>\n",
              "      <td>NaN</td>\n",
              "      <td>NaN</td>\n",
              "      <td>NaN</td>\n",
              "      <td>NaN</td>\n",
              "      <td>NaN</td>\n",
              "      <td>NaN</td>\n",
              "      <td>{'user_id': '355989081', 'username': 'ANI'}</td>\n",
              "      <td>NaN</td>\n",
              "      <td>NaN</td>\n",
              "      <td>NaN</td>\n",
              "      <td>NaN</td>\n",
              "    </tr>\n",
              "    <tr>\n",
              "      <th>1</th>\n",
              "      <td>1319174381503852544</td>\n",
              "      <td>1319174381503852544</td>\n",
              "      <td>2020-10-22 12:40:56 India Standard Time</td>\n",
              "      <td>2020-10-22</td>\n",
              "      <td>12:40:56</td>\n",
              "      <td>530</td>\n",
              "      <td>864189073858084864</td>\n",
              "      <td>utkarshsinha07</td>\n",
              "      <td>Utkarsh Sinha</td>\n",
              "      <td>NaN</td>\n",
              "      <td>Now states shall have wait for thier Vidhan Sa...</td>\n",
              "      <td>en</td>\n",
              "      <td>[]</td>\n",
              "      <td>[]</td>\n",
              "      <td>[]</td>\n",
              "      <td>0</td>\n",
              "      <td>0</td>\n",
              "      <td>0</td>\n",
              "      <td>['biharpolls']</td>\n",
              "      <td>[]</td>\n",
              "      <td>https://twitter.com/utkarshsinha07/status/1319...</td>\n",
              "      <td>NaN</td>\n",
              "      <td>https://twitter.com/ani/status/131915369740690...</td>\n",
              "      <td>0</td>\n",
              "      <td>NaN</td>\n",
              "      <td>NaN</td>\n",
              "      <td>NaN</td>\n",
              "      <td>NaN</td>\n",
              "      <td>NaN</td>\n",
              "      <td>NaN</td>\n",
              "      <td>NaN</td>\n",
              "      <td>{'user_id': None, 'username': None}</td>\n",
              "      <td>NaN</td>\n",
              "      <td>NaN</td>\n",
              "      <td>NaN</td>\n",
              "      <td>NaN</td>\n",
              "    </tr>\n",
              "    <tr>\n",
              "      <th>2</th>\n",
              "      <td>1319174114779643905</td>\n",
              "      <td>1319174114779643905</td>\n",
              "      <td>2020-10-22 12:39:52 India Standard Time</td>\n",
              "      <td>2020-10-22</td>\n",
              "      <td>12:39:52</td>\n",
              "      <td>530</td>\n",
              "      <td>116114711</td>\n",
              "      <td>batolebazi</td>\n",
              "      <td>BATOLEBAZI</td>\n",
              "      <td>NaN</td>\n",
              "      <td>जिस मदारी ने ट्रेन तक नहीं चलाई और तुम पत्नी व...</td>\n",
              "      <td>hi</td>\n",
              "      <td>[]</td>\n",
              "      <td>[]</td>\n",
              "      <td>['https://pbs.twimg.com/media/Ek6l2igUwAEbmnD....</td>\n",
              "      <td>0</td>\n",
              "      <td>0</td>\n",
              "      <td>1</td>\n",
              "      <td>['biharpolls', 'covidvaccine']</td>\n",
              "      <td>[]</td>\n",
              "      <td>https://twitter.com/BATOLEBAZI/status/13191741...</td>\n",
              "      <td>NaN</td>\n",
              "      <td>NaN</td>\n",
              "      <td>1</td>\n",
              "      <td>https://pbs.twimg.com/media/Ek6l2igUwAEbmnD.jpg</td>\n",
              "      <td>NaN</td>\n",
              "      <td>NaN</td>\n",
              "      <td>NaN</td>\n",
              "      <td>NaN</td>\n",
              "      <td>NaN</td>\n",
              "      <td>NaN</td>\n",
              "      <td>{'user_id': None, 'username': None}</td>\n",
              "      <td>NaN</td>\n",
              "      <td>NaN</td>\n",
              "      <td>NaN</td>\n",
              "      <td>NaN</td>\n",
              "    </tr>\n",
              "    <tr>\n",
              "      <th>3</th>\n",
              "      <td>1319174091232833536</td>\n",
              "      <td>1319172728851591174</td>\n",
              "      <td>2020-10-22 12:39:47 India Standard Time</td>\n",
              "      <td>2020-10-22</td>\n",
              "      <td>12:39:47</td>\n",
              "      <td>530</td>\n",
              "      <td>1249338116</td>\n",
              "      <td>bak_sahil</td>\n",
              "      <td>sahil</td>\n",
              "      <td>NaN</td>\n",
              "      <td>@MisseeMonis They said vaccine for all but not...</td>\n",
              "      <td>en</td>\n",
              "      <td>['misseemonis']</td>\n",
              "      <td>[]</td>\n",
              "      <td>[]</td>\n",
              "      <td>0</td>\n",
              "      <td>0</td>\n",
              "      <td>0</td>\n",
              "      <td>[]</td>\n",
              "      <td>[]</td>\n",
              "      <td>https://twitter.com/bak_sahil/status/131917409...</td>\n",
              "      <td>NaN</td>\n",
              "      <td>NaN</td>\n",
              "      <td>0</td>\n",
              "      <td>NaN</td>\n",
              "      <td>NaN</td>\n",
              "      <td>NaN</td>\n",
              "      <td>NaN</td>\n",
              "      <td>NaN</td>\n",
              "      <td>NaN</td>\n",
              "      <td>NaN</td>\n",
              "      <td>{'user_id': '1105377223', 'username': 'MisseeM...</td>\n",
              "      <td>NaN</td>\n",
              "      <td>NaN</td>\n",
              "      <td>NaN</td>\n",
              "      <td>NaN</td>\n",
              "    </tr>\n",
              "    <tr>\n",
              "      <th>4</th>\n",
              "      <td>1319174029488476160</td>\n",
              "      <td>1319174029488476160</td>\n",
              "      <td>2020-10-22 12:39:32 India Standard Time</td>\n",
              "      <td>2020-10-22</td>\n",
              "      <td>12:39:32</td>\n",
              "      <td>530</td>\n",
              "      <td>804225890062319617</td>\n",
              "      <td>ivibhatweedy</td>\n",
              "      <td>𝐯𝐢𝐛𝐬 | 🐺</td>\n",
              "      <td>NaN</td>\n",
              "      <td>BJP really presenting \"free COVID vaccine\" as ...</td>\n",
              "      <td>en</td>\n",
              "      <td>[]</td>\n",
              "      <td>[]</td>\n",
              "      <td>[]</td>\n",
              "      <td>0</td>\n",
              "      <td>0</td>\n",
              "      <td>4</td>\n",
              "      <td>[]</td>\n",
              "      <td>[]</td>\n",
              "      <td>https://twitter.com/ivibhatweedy/status/131917...</td>\n",
              "      <td>NaN</td>\n",
              "      <td>NaN</td>\n",
              "      <td>0</td>\n",
              "      <td>NaN</td>\n",
              "      <td>NaN</td>\n",
              "      <td>NaN</td>\n",
              "      <td>NaN</td>\n",
              "      <td>NaN</td>\n",
              "      <td>NaN</td>\n",
              "      <td>NaN</td>\n",
              "      <td>{'user_id': None, 'username': None}</td>\n",
              "      <td>NaN</td>\n",
              "      <td>NaN</td>\n",
              "      <td>NaN</td>\n",
              "      <td>NaN</td>\n",
              "    </tr>\n",
              "  </tbody>\n",
              "</table>\n",
              "</div>"
            ],
            "text/plain": [
              "                    id      conversation_id  ... trans_src trans_dest\n",
              "0  1319174447442448384  1319153697406906369  ...       NaN        NaN\n",
              "1  1319174381503852544  1319174381503852544  ...       NaN        NaN\n",
              "2  1319174114779643905  1319174114779643905  ...       NaN        NaN\n",
              "3  1319174091232833536  1319172728851591174  ...       NaN        NaN\n",
              "4  1319174029488476160  1319174029488476160  ...       NaN        NaN\n",
              "\n",
              "[5 rows x 36 columns]"
            ]
          },
          "metadata": {},
          "execution_count": 5
        }
      ],
      "source": [
        "df= pd.read_csv('/content/drive/MyDrive/file.csv')\n",
        "\n",
        "df.head()"
      ]
    },
    {
      "cell_type": "markdown",
      "id": "executive-scheme",
      "metadata": {
        "papermill": {
          "duration": 0.027228,
          "end_time": "2021-04-28T10:19:45.512856",
          "exception": false,
          "start_time": "2021-04-28T10:19:45.485628",
          "status": "completed"
        },
        "tags": [],
        "id": "executive-scheme"
      },
      "source": [
        "**Only Englsih language tweet**"
      ]
    },
    {
      "cell_type": "code",
      "execution_count": 6,
      "id": "designed-profession",
      "metadata": {
        "execution": {
          "iopub.execute_input": "2021-04-28T10:19:45.619763Z",
          "iopub.status.busy": "2021-04-28T10:19:45.619250Z",
          "iopub.status.idle": "2021-04-28T10:19:45.693484Z",
          "shell.execute_reply": "2021-04-28T10:19:45.693030Z"
        },
        "papermill": {
          "duration": 0.14841,
          "end_time": "2021-04-28T10:19:45.693598",
          "exception": false,
          "start_time": "2021-04-28T10:19:45.545188",
          "status": "completed"
        },
        "tags": [],
        "id": "designed-profession"
      },
      "outputs": [],
      "source": [
        "df = df[df['language']=='en']"
      ]
    },
    {
      "cell_type": "code",
      "execution_count": 7,
      "id": "formal-knock",
      "metadata": {
        "execution": {
          "iopub.execute_input": "2021-04-28T10:19:45.764912Z",
          "iopub.status.busy": "2021-04-28T10:19:45.755338Z",
          "iopub.status.idle": "2021-04-28T10:19:45.769816Z",
          "shell.execute_reply": "2021-04-28T10:19:45.769359Z"
        },
        "papermill": {
          "duration": 0.048397,
          "end_time": "2021-04-28T10:19:45.769929",
          "exception": false,
          "start_time": "2021-04-28T10:19:45.721532",
          "status": "completed"
        },
        "tags": [],
        "colab": {
          "base_uri": "https://localhost:8080/",
          "height": 200
        },
        "id": "formal-knock",
        "outputId": "6a569840-7f24-4643-90d1-6db69aff8ed6"
      },
      "outputs": [
        {
          "output_type": "execute_result",
          "data": {
            "text/html": [
              "<div>\n",
              "<style scoped>\n",
              "    .dataframe tbody tr th:only-of-type {\n",
              "        vertical-align: middle;\n",
              "    }\n",
              "\n",
              "    .dataframe tbody tr th {\n",
              "        vertical-align: top;\n",
              "    }\n",
              "\n",
              "    .dataframe thead th {\n",
              "        text-align: right;\n",
              "    }\n",
              "</style>\n",
              "<table border=\"1\" class=\"dataframe\">\n",
              "  <thead>\n",
              "    <tr style=\"text-align: right;\">\n",
              "      <th></th>\n",
              "      <th>tweet</th>\n",
              "    </tr>\n",
              "  </thead>\n",
              "  <tbody>\n",
              "    <tr>\n",
              "      <th>0</th>\n",
              "      <td>@ANI Isn't it the best poll promise ever?? Fre...</td>\n",
              "    </tr>\n",
              "    <tr>\n",
              "      <th>1</th>\n",
              "      <td>Now states shall have wait for thier Vidhan Sa...</td>\n",
              "    </tr>\n",
              "    <tr>\n",
              "      <th>3</th>\n",
              "      <td>@MisseeMonis They said vaccine for all but not...</td>\n",
              "    </tr>\n",
              "    <tr>\n",
              "      <th>4</th>\n",
              "      <td>BJP really presenting \"free COVID vaccine\" as ...</td>\n",
              "    </tr>\n",
              "    <tr>\n",
              "      <th>5</th>\n",
              "      <td>Another dose of daily miserablism from Planet ...</td>\n",
              "    </tr>\n",
              "  </tbody>\n",
              "</table>\n",
              "</div>"
            ],
            "text/plain": [
              "                                               tweet\n",
              "0  @ANI Isn't it the best poll promise ever?? Fre...\n",
              "1  Now states shall have wait for thier Vidhan Sa...\n",
              "3  @MisseeMonis They said vaccine for all but not...\n",
              "4  BJP really presenting \"free COVID vaccine\" as ...\n",
              "5  Another dose of daily miserablism from Planet ..."
            ]
          },
          "metadata": {},
          "execution_count": 7
        }
      ],
      "source": [
        "data = df[['tweet']]\n",
        "data.head()"
      ]
    },
    {
      "cell_type": "code",
      "execution_count": 8,
      "id": "actual-testing",
      "metadata": {
        "execution": {
          "iopub.execute_input": "2021-04-28T10:19:45.829763Z",
          "iopub.status.busy": "2021-04-28T10:19:45.829255Z",
          "iopub.status.idle": "2021-04-28T10:19:45.856168Z",
          "shell.execute_reply": "2021-04-28T10:19:45.855405Z"
        },
        "papermill": {
          "duration": 0.057694,
          "end_time": "2021-04-28T10:19:45.856315",
          "exception": false,
          "start_time": "2021-04-28T10:19:45.798621",
          "status": "completed"
        },
        "tags": [],
        "colab": {
          "base_uri": "https://localhost:8080/",
          "height": 200
        },
        "id": "actual-testing",
        "outputId": "7ffaf355-14c9-4fca-fb6c-903f0ed5202e"
      },
      "outputs": [
        {
          "output_type": "execute_result",
          "data": {
            "text/html": [
              "<div>\n",
              "<style scoped>\n",
              "    .dataframe tbody tr th:only-of-type {\n",
              "        vertical-align: middle;\n",
              "    }\n",
              "\n",
              "    .dataframe tbody tr th {\n",
              "        vertical-align: top;\n",
              "    }\n",
              "\n",
              "    .dataframe thead th {\n",
              "        text-align: right;\n",
              "    }\n",
              "</style>\n",
              "<table border=\"1\" class=\"dataframe\">\n",
              "  <thead>\n",
              "    <tr style=\"text-align: right;\">\n",
              "      <th></th>\n",
              "      <th>tweet</th>\n",
              "      <th>process_tweet</th>\n",
              "    </tr>\n",
              "  </thead>\n",
              "  <tbody>\n",
              "    <tr>\n",
              "      <th>0</th>\n",
              "      <td>@ANI Isn't it the best poll promise ever?? Fre...</td>\n",
              "      <td>@ANI Isn't it the best poll promise ever?? Fre...</td>\n",
              "    </tr>\n",
              "    <tr>\n",
              "      <th>1</th>\n",
              "      <td>Now states shall have wait for thier Vidhan Sa...</td>\n",
              "      <td>Now states shall have wait for thier Vidhan Sa...</td>\n",
              "    </tr>\n",
              "    <tr>\n",
              "      <th>2</th>\n",
              "      <td>@MisseeMonis They said vaccine for all but not...</td>\n",
              "      <td>@MisseeMonis They said vaccine for all but not...</td>\n",
              "    </tr>\n",
              "    <tr>\n",
              "      <th>3</th>\n",
              "      <td>BJP really presenting \"free COVID vaccine\" as ...</td>\n",
              "      <td>BJP really presenting \"free COVID vaccine\" as ...</td>\n",
              "    </tr>\n",
              "    <tr>\n",
              "      <th>4</th>\n",
              "      <td>Another dose of daily miserablism from Planet ...</td>\n",
              "      <td>Another dose of daily miserablism from Planet ...</td>\n",
              "    </tr>\n",
              "  </tbody>\n",
              "</table>\n",
              "</div>"
            ],
            "text/plain": [
              "                                               tweet                                      process_tweet\n",
              "0  @ANI Isn't it the best poll promise ever?? Fre...  @ANI Isn't it the best poll promise ever?? Fre...\n",
              "1  Now states shall have wait for thier Vidhan Sa...  Now states shall have wait for thier Vidhan Sa...\n",
              "2  @MisseeMonis They said vaccine for all but not...  @MisseeMonis They said vaccine for all but not...\n",
              "3  BJP really presenting \"free COVID vaccine\" as ...  BJP really presenting \"free COVID vaccine\" as ...\n",
              "4  Another dose of daily miserablism from Planet ...  Another dose of daily miserablism from Planet ..."
            ]
          },
          "metadata": {},
          "execution_count": 8
        }
      ],
      "source": [
        "data= data.reset_index(drop=True)\n",
        "data['process_tweet'] = data['tweet'].copy()\n",
        "data.head()"
      ]
    },
    {
      "cell_type": "markdown",
      "id": "positive-couple",
      "metadata": {
        "papermill": {
          "duration": 0.027561,
          "end_time": "2021-04-28T10:19:45.914042",
          "exception": false,
          "start_time": "2021-04-28T10:19:45.886481",
          "status": "completed"
        },
        "tags": [],
        "id": "positive-couple"
      },
      "source": [
        "**Import library**"
      ]
    },
    {
      "cell_type": "code",
      "source": [
        "!pip install transformers"
      ],
      "metadata": {
        "colab": {
          "base_uri": "https://localhost:8080/"
        },
        "id": "RCg6z0m9EBce",
        "outputId": "0d964a7c-1d32-4895-d534-cb898185a469"
      },
      "id": "RCg6z0m9EBce",
      "execution_count": 10,
      "outputs": [
        {
          "output_type": "stream",
          "name": "stdout",
          "text": [
            "Collecting transformers\n",
            "  Downloading transformers-4.12.5-py3-none-any.whl (3.1 MB)\n",
            "\u001b[K     |████████████████████████████████| 3.1 MB 5.1 MB/s \n",
            "\u001b[?25hRequirement already satisfied: regex!=2019.12.17 in /usr/local/lib/python3.7/dist-packages (from transformers) (2019.12.20)\n",
            "Collecting tokenizers<0.11,>=0.10.1\n",
            "  Downloading tokenizers-0.10.3-cp37-cp37m-manylinux_2_5_x86_64.manylinux1_x86_64.manylinux_2_12_x86_64.manylinux2010_x86_64.whl (3.3 MB)\n",
            "\u001b[K     |████████████████████████████████| 3.3 MB 39.4 MB/s \n",
            "\u001b[?25hRequirement already satisfied: numpy>=1.17 in /usr/local/lib/python3.7/dist-packages (from transformers) (1.19.5)\n",
            "Requirement already satisfied: requests in /usr/local/lib/python3.7/dist-packages (from transformers) (2.23.0)\n",
            "Requirement already satisfied: filelock in /usr/local/lib/python3.7/dist-packages (from transformers) (3.4.0)\n",
            "Requirement already satisfied: packaging>=20.0 in /usr/local/lib/python3.7/dist-packages (from transformers) (21.3)\n",
            "Collecting pyyaml>=5.1\n",
            "  Downloading PyYAML-6.0-cp37-cp37m-manylinux_2_5_x86_64.manylinux1_x86_64.manylinux_2_12_x86_64.manylinux2010_x86_64.whl (596 kB)\n",
            "\u001b[K     |████████████████████████████████| 596 kB 66.2 MB/s \n",
            "\u001b[?25hRequirement already satisfied: tqdm>=4.27 in /usr/local/lib/python3.7/dist-packages (from transformers) (4.62.3)\n",
            "Collecting sacremoses\n",
            "  Downloading sacremoses-0.0.46-py3-none-any.whl (895 kB)\n",
            "\u001b[K     |████████████████████████████████| 895 kB 62.4 MB/s \n",
            "\u001b[?25hRequirement already satisfied: importlib-metadata in /usr/local/lib/python3.7/dist-packages (from transformers) (4.8.2)\n",
            "Collecting huggingface-hub<1.0,>=0.1.0\n",
            "  Downloading huggingface_hub-0.2.1-py3-none-any.whl (61 kB)\n",
            "\u001b[K     |████████████████████████████████| 61 kB 497 kB/s \n",
            "\u001b[?25hRequirement already satisfied: typing-extensions>=3.7.4.3 in /usr/local/lib/python3.7/dist-packages (from huggingface-hub<1.0,>=0.1.0->transformers) (3.10.0.2)\n",
            "Requirement already satisfied: pyparsing!=3.0.5,>=2.0.2 in /usr/local/lib/python3.7/dist-packages (from packaging>=20.0->transformers) (3.0.6)\n",
            "Requirement already satisfied: zipp>=0.5 in /usr/local/lib/python3.7/dist-packages (from importlib-metadata->transformers) (3.6.0)\n",
            "Requirement already satisfied: urllib3!=1.25.0,!=1.25.1,<1.26,>=1.21.1 in /usr/local/lib/python3.7/dist-packages (from requests->transformers) (1.24.3)\n",
            "Requirement already satisfied: chardet<4,>=3.0.2 in /usr/local/lib/python3.7/dist-packages (from requests->transformers) (3.0.4)\n",
            "Requirement already satisfied: certifi>=2017.4.17 in /usr/local/lib/python3.7/dist-packages (from requests->transformers) (2021.10.8)\n",
            "Requirement already satisfied: idna<3,>=2.5 in /usr/local/lib/python3.7/dist-packages (from requests->transformers) (2.10)\n",
            "Requirement already satisfied: joblib in /usr/local/lib/python3.7/dist-packages (from sacremoses->transformers) (1.1.0)\n",
            "Requirement already satisfied: click in /usr/local/lib/python3.7/dist-packages (from sacremoses->transformers) (7.1.2)\n",
            "Requirement already satisfied: six in /usr/local/lib/python3.7/dist-packages (from sacremoses->transformers) (1.15.0)\n",
            "Installing collected packages: pyyaml, tokenizers, sacremoses, huggingface-hub, transformers\n",
            "  Attempting uninstall: pyyaml\n",
            "    Found existing installation: PyYAML 3.13\n",
            "    Uninstalling PyYAML-3.13:\n",
            "      Successfully uninstalled PyYAML-3.13\n",
            "Successfully installed huggingface-hub-0.2.1 pyyaml-6.0 sacremoses-0.0.46 tokenizers-0.10.3 transformers-4.12.5\n"
          ]
        }
      ]
    },
    {
      "cell_type": "code",
      "execution_count": 11,
      "id": "divided-blanket",
      "metadata": {
        "execution": {
          "iopub.execute_input": "2021-04-28T10:19:45.985329Z",
          "iopub.status.busy": "2021-04-28T10:19:45.980183Z",
          "iopub.status.idle": "2021-04-28T10:20:00.193543Z",
          "shell.execute_reply": "2021-04-28T10:20:00.192998Z"
        },
        "papermill": {
          "duration": 14.251183,
          "end_time": "2021-04-28T10:20:00.193659",
          "exception": false,
          "start_time": "2021-04-28T10:19:45.942476",
          "status": "completed"
        },
        "tags": [],
        "id": "divided-blanket"
      },
      "outputs": [],
      "source": [
        "import numpy as np\n",
        "import pandas as pd\n",
        "import torch\n",
        "import torch.nn as nn\n",
        "import transformers as ppb\n",
        "\n",
        "from tqdm import tqdm_notebook as tqdm\n",
        "import random\n",
        "import matplotlib.pyplot as plt\n",
        "import warnings\n",
        "\n",
        "\n",
        "#import library\n",
        "\n",
        "import pandas as pd\n",
        "import numpy as np\n",
        "\n",
        "import matplotlib.pyplot as plt\n",
        "%matplotlib inline\n",
        "\n",
        "from sklearn.model_selection import train_test_split\n",
        "from sklearn.preprocessing import LabelEncoder   ###########\n",
        "from sklearn.metrics import confusion_matrix , classification_report , accuracy_score\n",
        "from sklearn.manifold import TSNE ######\n",
        "from sklearn.feature_extraction.text import TfidfVectorizer #############\n",
        "\n",
        "from keras.preprocessing.text import Tokenizer         #######\n",
        "from keras.preprocessing.sequence import pad_sequences #######\n",
        "from keras.models import Sequential\n",
        "from keras.layers import Dropout , Conv1D ,MaxPool1D,Activation , Dense , Flatten , Embedding , LSTM ####\n",
        "\n",
        "from keras import utils\n",
        "from keras.callbacks import ReduceLROnPlateau , EarlyStopping\n",
        "\n",
        "\n",
        "#nltk\n",
        "\n",
        "import nltk\n",
        "from nltk.corpus import stopwords ########\n",
        "from nltk.stem import SnowballStemmer ############\n",
        "\n",
        "\n",
        "#word to vec\n",
        "import gensim\n",
        "\n",
        "import re #####\n",
        "import os\n",
        "from collections import Counter #######\n",
        "import logging ###\n",
        "import time\n",
        "import pickle ######\n",
        "import itertools ######\n",
        "\n",
        "\n",
        "from textblob import TextBlob # TextBlob - Python library for processing textual data\n",
        "\n",
        "\n",
        "\n"
      ]
    },
    {
      "cell_type": "markdown",
      "id": "swiss-municipality",
      "metadata": {
        "papermill": {
          "duration": 0.027446,
          "end_time": "2021-04-28T10:20:00.249534",
          "exception": false,
          "start_time": "2021-04-28T10:20:00.222088",
          "status": "completed"
        },
        "tags": [],
        "id": "swiss-municipality"
      },
      "source": [
        "**Data procesing**"
      ]
    },
    {
      "cell_type": "code",
      "execution_count": 12,
      "id": "figured-sending",
      "metadata": {
        "execution": {
          "iopub.execute_input": "2021-04-28T10:20:00.314624Z",
          "iopub.status.busy": "2021-04-28T10:20:00.313884Z",
          "iopub.status.idle": "2021-04-28T10:20:00.315771Z",
          "shell.execute_reply": "2021-04-28T10:20:00.316166Z"
        },
        "papermill": {
          "duration": 0.038463,
          "end_time": "2021-04-28T10:20:00.316398",
          "exception": false,
          "start_time": "2021-04-28T10:20:00.277935",
          "status": "completed"
        },
        "tags": [],
        "id": "figured-sending"
      },
      "outputs": [],
      "source": [
        "def clean_data(txt):\n",
        "  txt = txt.lower()  # lowercase\n",
        "  txt = re.sub(r'@[A-Za-z0-9_]+' , '' , txt)   #remove mentions\n",
        "  txt = re.sub(r'#' , '' , txt) #remove hashtags\n",
        "  txt = re.sub(r'RT : ','' , txt) # remove retweets\n",
        "  txt = re.sub(r'https?:\\/\\/[A-Za-z0-9\\./\\/]+' , '' , txt) #removes url\n",
        "  txt = re.sub('\\[.*?\\]' , '' , txt) #remove square brackets\n",
        "  txt = re.sub(r'[^\\w\\s]' , '' , txt) #remove puntuations\n",
        "  txt = re.sub('\\w*\\d\\w*' , '' ,txt) #removes words containig numbers\n",
        "  txt = re.sub('\\n' , '' ,txt) #remove new lines\n",
        "\n",
        "  return txt\n"
      ]
    },
    {
      "cell_type": "code",
      "execution_count": 13,
      "id": "awful-landscape",
      "metadata": {
        "execution": {
          "iopub.execute_input": "2021-04-28T10:20:00.379809Z",
          "iopub.status.busy": "2021-04-28T10:20:00.379146Z",
          "iopub.status.idle": "2021-04-28T10:20:05.295461Z",
          "shell.execute_reply": "2021-04-28T10:20:05.295849Z"
        },
        "papermill": {
          "duration": 4.950563,
          "end_time": "2021-04-28T10:20:05.296030",
          "exception": false,
          "start_time": "2021-04-28T10:20:00.345467",
          "status": "completed"
        },
        "tags": [],
        "id": "awful-landscape"
      },
      "outputs": [],
      "source": [
        "data['process_tweet'] = data['process_tweet'].apply(clean_data)"
      ]
    },
    {
      "cell_type": "markdown",
      "id": "virtual-universal",
      "metadata": {
        "papermill": {
          "duration": 0.029915,
          "end_time": "2021-04-28T10:20:05.355415",
          "exception": false,
          "start_time": "2021-04-28T10:20:05.325500",
          "status": "completed"
        },
        "tags": [],
        "id": "virtual-universal"
      },
      "source": [
        "**Remove Stopwords**"
      ]
    },
    {
      "cell_type": "code",
      "execution_count": 15,
      "id": "silent-alcohol",
      "metadata": {
        "execution": {
          "iopub.execute_input": "2021-04-28T10:20:05.426800Z",
          "iopub.status.busy": "2021-04-28T10:20:05.426278Z",
          "iopub.status.idle": "2021-04-28T10:20:05.450288Z",
          "shell.execute_reply": "2021-04-28T10:20:05.449740Z"
        },
        "papermill": {
          "duration": 0.061188,
          "end_time": "2021-04-28T10:20:05.450415",
          "exception": false,
          "start_time": "2021-04-28T10:20:05.389227",
          "status": "completed"
        },
        "tags": [],
        "colab": {
          "base_uri": "https://localhost:8080/"
        },
        "id": "silent-alcohol",
        "outputId": "503470a6-6e81-43ca-c07d-2247391ee914"
      },
      "outputs": [
        {
          "output_type": "stream",
          "name": "stdout",
          "text": [
            "[nltk_data] Downloading package stopwords to /root/nltk_data...\n",
            "[nltk_data]   Unzipping corpora/stopwords.zip.\n"
          ]
        }
      ],
      "source": [
        "import nltk\n",
        "nltk.download('stopwords')\n",
        "stopwords = nltk.corpus.stopwords.words('english')\n",
        "def remove_stopwords(txt):\n",
        "  rmv_stpwords = [i for i in txt.split() if i not in stopwords]\n",
        "  rmv_stpwords_join = ' '.join(rmv_stpwords)\n",
        "  return rmv_stpwords_join\n"
      ]
    },
    {
      "cell_type": "code",
      "execution_count": 16,
      "id": "literary-lancaster",
      "metadata": {
        "execution": {
          "iopub.execute_input": "2021-04-28T10:20:05.521098Z",
          "iopub.status.busy": "2021-04-28T10:20:05.520576Z",
          "iopub.status.idle": "2021-04-28T10:20:14.511058Z",
          "shell.execute_reply": "2021-04-28T10:20:14.510600Z"
        },
        "papermill": {
          "duration": 9.029888,
          "end_time": "2021-04-28T10:20:14.511171",
          "exception": false,
          "start_time": "2021-04-28T10:20:05.481283",
          "status": "completed"
        },
        "tags": [],
        "colab": {
          "base_uri": "https://localhost:8080/",
          "height": 200
        },
        "id": "literary-lancaster",
        "outputId": "4dfcdde7-3c10-48c8-ed7d-026281bd2f81"
      },
      "outputs": [
        {
          "output_type": "execute_result",
          "data": {
            "text/html": [
              "<div>\n",
              "<style scoped>\n",
              "    .dataframe tbody tr th:only-of-type {\n",
              "        vertical-align: middle;\n",
              "    }\n",
              "\n",
              "    .dataframe tbody tr th {\n",
              "        vertical-align: top;\n",
              "    }\n",
              "\n",
              "    .dataframe thead th {\n",
              "        text-align: right;\n",
              "    }\n",
              "</style>\n",
              "<table border=\"1\" class=\"dataframe\">\n",
              "  <thead>\n",
              "    <tr style=\"text-align: right;\">\n",
              "      <th></th>\n",
              "      <th>tweet</th>\n",
              "      <th>process_tweet</th>\n",
              "    </tr>\n",
              "  </thead>\n",
              "  <tbody>\n",
              "    <tr>\n",
              "      <th>0</th>\n",
              "      <td>@ANI Isn't it the best poll promise ever?? Fre...</td>\n",
              "      <td>isnt best poll promise ever free covid vaccine...</td>\n",
              "    </tr>\n",
              "    <tr>\n",
              "      <th>1</th>\n",
              "      <td>Now states shall have wait for thier Vidhan Sa...</td>\n",
              "      <td>states shall wait thier vidhan sabha election ...</td>\n",
              "    </tr>\n",
              "    <tr>\n",
              "      <th>2</th>\n",
              "      <td>@MisseeMonis They said vaccine for all but not...</td>\n",
              "      <td>said vaccine free covid vaccine new lakhs rs e...</td>\n",
              "    </tr>\n",
              "    <tr>\n",
              "      <th>3</th>\n",
              "      <td>BJP really presenting \"free COVID vaccine\" as ...</td>\n",
              "      <td>bjp really presenting free covid vaccine state...</td>\n",
              "    </tr>\n",
              "    <tr>\n",
              "      <th>4</th>\n",
              "      <td>Another dose of daily miserablism from Planet ...</td>\n",
              "      <td>another dose daily miserablism planet grauniad...</td>\n",
              "    </tr>\n",
              "  </tbody>\n",
              "</table>\n",
              "</div>"
            ],
            "text/plain": [
              "                                               tweet                                      process_tweet\n",
              "0  @ANI Isn't it the best poll promise ever?? Fre...  isnt best poll promise ever free covid vaccine...\n",
              "1  Now states shall have wait for thier Vidhan Sa...  states shall wait thier vidhan sabha election ...\n",
              "2  @MisseeMonis They said vaccine for all but not...  said vaccine free covid vaccine new lakhs rs e...\n",
              "3  BJP really presenting \"free COVID vaccine\" as ...  bjp really presenting free covid vaccine state...\n",
              "4  Another dose of daily miserablism from Planet ...  another dose daily miserablism planet grauniad..."
            ]
          },
          "metadata": {},
          "execution_count": 16
        }
      ],
      "source": [
        "data['process_tweet'] = data['process_tweet'].apply(remove_stopwords)\n",
        "\n",
        "data.head()#after removing stopwords"
      ]
    },
    {
      "cell_type": "markdown",
      "id": "subtle-trance",
      "metadata": {
        "papermill": {
          "duration": 0.030326,
          "end_time": "2021-04-28T10:20:14.573086",
          "exception": false,
          "start_time": "2021-04-28T10:20:14.542760",
          "status": "completed"
        },
        "tags": [],
        "id": "subtle-trance"
      },
      "source": [
        "**PorterStemmer**"
      ]
    },
    {
      "cell_type": "code",
      "execution_count": 17,
      "id": "pointed-machinery",
      "metadata": {
        "execution": {
          "iopub.execute_input": "2021-04-28T10:20:14.638959Z",
          "iopub.status.busy": "2021-04-28T10:20:14.637960Z",
          "iopub.status.idle": "2021-04-28T10:20:14.642335Z",
          "shell.execute_reply": "2021-04-28T10:20:14.641754Z"
        },
        "papermill": {
          "duration": 0.039019,
          "end_time": "2021-04-28T10:20:14.642466",
          "exception": false,
          "start_time": "2021-04-28T10:20:14.603447",
          "status": "completed"
        },
        "tags": [],
        "id": "pointed-machinery"
      },
      "outputs": [],
      "source": [
        "from nltk.stem import PorterStemmer\n",
        "st = PorterStemmer()"
      ]
    },
    {
      "cell_type": "code",
      "execution_count": 18,
      "id": "creative-western",
      "metadata": {
        "execution": {
          "iopub.execute_input": "2021-04-28T10:20:14.707862Z",
          "iopub.status.busy": "2021-04-28T10:20:14.707216Z",
          "iopub.status.idle": "2021-04-28T10:20:14.710897Z",
          "shell.execute_reply": "2021-04-28T10:20:14.710379Z"
        },
        "papermill": {
          "duration": 0.039157,
          "end_time": "2021-04-28T10:20:14.711057",
          "exception": false,
          "start_time": "2021-04-28T10:20:14.671900",
          "status": "completed"
        },
        "tags": [],
        "id": "creative-western"
      },
      "outputs": [],
      "source": [
        "def stemming(txt):\n",
        "  txt =[st.stem(word) for word in txt.split()]\n",
        "  txt_join = ' '.join(txt)\n",
        "  return txt_join"
      ]
    },
    {
      "cell_type": "code",
      "execution_count": 19,
      "id": "literary-wallpaper",
      "metadata": {
        "execution": {
          "iopub.execute_input": "2021-04-28T10:20:14.808342Z",
          "iopub.status.busy": "2021-04-28T10:20:14.805474Z",
          "iopub.status.idle": "2021-04-28T10:21:20.397902Z",
          "shell.execute_reply": "2021-04-28T10:21:20.398327Z"
        },
        "papermill": {
          "duration": 65.642315,
          "end_time": "2021-04-28T10:21:20.398469",
          "exception": false,
          "start_time": "2021-04-28T10:20:14.756154",
          "status": "completed"
        },
        "tags": [],
        "colab": {
          "base_uri": "https://localhost:8080/",
          "height": 200
        },
        "id": "literary-wallpaper",
        "outputId": "35ac5b62-91b6-4992-f97c-236233e3feee"
      },
      "outputs": [
        {
          "output_type": "execute_result",
          "data": {
            "text/html": [
              "<div>\n",
              "<style scoped>\n",
              "    .dataframe tbody tr th:only-of-type {\n",
              "        vertical-align: middle;\n",
              "    }\n",
              "\n",
              "    .dataframe tbody tr th {\n",
              "        vertical-align: top;\n",
              "    }\n",
              "\n",
              "    .dataframe thead th {\n",
              "        text-align: right;\n",
              "    }\n",
              "</style>\n",
              "<table border=\"1\" class=\"dataframe\">\n",
              "  <thead>\n",
              "    <tr style=\"text-align: right;\">\n",
              "      <th></th>\n",
              "      <th>tweet</th>\n",
              "      <th>process_tweet</th>\n",
              "    </tr>\n",
              "  </thead>\n",
              "  <tbody>\n",
              "    <tr>\n",
              "      <th>0</th>\n",
              "      <td>@ANI Isn't it the best poll promise ever?? Fre...</td>\n",
              "      <td>isnt best poll promis ever free covid vaccin v...</td>\n",
              "    </tr>\n",
              "    <tr>\n",
              "      <th>1</th>\n",
              "      <td>Now states shall have wait for thier Vidhan Sa...</td>\n",
              "      <td>state shall wait thier vidhan sabha elect get ...</td>\n",
              "    </tr>\n",
              "    <tr>\n",
              "      <th>2</th>\n",
              "      <td>@MisseeMonis They said vaccine for all but not...</td>\n",
              "      <td>said vaccin free covid vaccin new lakh rs ever...</td>\n",
              "    </tr>\n",
              "    <tr>\n",
              "      <th>3</th>\n",
              "      <td>BJP really presenting \"free COVID vaccine\" as ...</td>\n",
              "      <td>bjp realli present free covid vaccin state man...</td>\n",
              "    </tr>\n",
              "    <tr>\n",
              "      <th>4</th>\n",
              "      <td>Another dose of daily miserablism from Planet ...</td>\n",
              "      <td>anoth dose daili miserabl planet grauniad sub ...</td>\n",
              "    </tr>\n",
              "  </tbody>\n",
              "</table>\n",
              "</div>"
            ],
            "text/plain": [
              "                                               tweet                                      process_tweet\n",
              "0  @ANI Isn't it the best poll promise ever?? Fre...  isnt best poll promis ever free covid vaccin v...\n",
              "1  Now states shall have wait for thier Vidhan Sa...  state shall wait thier vidhan sabha elect get ...\n",
              "2  @MisseeMonis They said vaccine for all but not...  said vaccin free covid vaccin new lakh rs ever...\n",
              "3  BJP really presenting \"free COVID vaccine\" as ...  bjp realli present free covid vaccin state man...\n",
              "4  Another dose of daily miserablism from Planet ...  anoth dose daili miserabl planet grauniad sub ..."
            ]
          },
          "metadata": {},
          "execution_count": 19
        }
      ],
      "source": [
        "data['process_tweet'] = data['process_tweet'].apply(stemming)\n",
        "data.head()"
      ]
    },
    {
      "cell_type": "markdown",
      "id": "wicked-pontiac",
      "metadata": {
        "papermill": {
          "duration": 0.029591,
          "end_time": "2021-04-28T10:21:20.458889",
          "exception": false,
          "start_time": "2021-04-28T10:21:20.429298",
          "status": "completed"
        },
        "tags": [],
        "id": "wicked-pontiac"
      },
      "source": [
        "**Using TextBlob calculate the polarity**"
      ]
    },
    {
      "cell_type": "code",
      "execution_count": 20,
      "id": "curious-period",
      "metadata": {
        "execution": {
          "iopub.execute_input": "2021-04-28T10:21:20.524846Z",
          "iopub.status.busy": "2021-04-28T10:21:20.524344Z",
          "iopub.status.idle": "2021-04-28T10:21:20.526414Z",
          "shell.execute_reply": "2021-04-28T10:21:20.526829Z"
        },
        "papermill": {
          "duration": 0.038199,
          "end_time": "2021-04-28T10:21:20.527009",
          "exception": false,
          "start_time": "2021-04-28T10:21:20.488810",
          "status": "completed"
        },
        "tags": [],
        "id": "curious-period"
      },
      "outputs": [],
      "source": [
        "def get_text_polarity(txt):\n",
        "  return TextBlob(txt).sentiment.polarity"
      ]
    },
    {
      "cell_type": "code",
      "execution_count": 21,
      "id": "brown-leader",
      "metadata": {
        "execution": {
          "iopub.execute_input": "2021-04-28T10:21:20.591394Z",
          "iopub.status.busy": "2021-04-28T10:21:20.590778Z",
          "iopub.status.idle": "2021-04-28T10:21:54.898575Z",
          "shell.execute_reply": "2021-04-28T10:21:54.898952Z"
        },
        "papermill": {
          "duration": 34.341972,
          "end_time": "2021-04-28T10:21:54.899125",
          "exception": false,
          "start_time": "2021-04-28T10:21:20.557153",
          "status": "completed"
        },
        "tags": [],
        "id": "brown-leader"
      },
      "outputs": [],
      "source": [
        "data['Polarity'] = data['process_tweet'].apply(get_text_polarity)"
      ]
    },
    {
      "cell_type": "markdown",
      "id": "psychological-opinion",
      "metadata": {
        "papermill": {
          "duration": 0.029046,
          "end_time": "2021-04-28T10:21:54.958200",
          "exception": false,
          "start_time": "2021-04-28T10:21:54.929154",
          "status": "completed"
        },
        "tags": [],
        "id": "psychological-opinion"
      },
      "source": [
        "**Labeling using the polarity score**"
      ]
    },
    {
      "cell_type": "code",
      "execution_count": 22,
      "id": "inside-replication",
      "metadata": {
        "execution": {
          "iopub.execute_input": "2021-04-28T10:21:55.025592Z",
          "iopub.status.busy": "2021-04-28T10:21:55.024858Z",
          "iopub.status.idle": "2021-04-28T10:21:55.029418Z",
          "shell.execute_reply": "2021-04-28T10:21:55.028950Z"
        },
        "papermill": {
          "duration": 0.041343,
          "end_time": "2021-04-28T10:21:55.029542",
          "exception": false,
          "start_time": "2021-04-28T10:21:54.988199",
          "status": "completed"
        },
        "tags": [],
        "id": "inside-replication"
      },
      "outputs": [],
      "source": [
        "#Labeling\n",
        "def get_text_analysis(i):\n",
        "  if (i<-0.5):\n",
        "    return 'Strongly Negative'\n",
        "  elif ((i<0 ) and (i >= -0.5)):\n",
        "    return 'Negative'\n",
        "  elif (i == 0):\n",
        "    return 'Neutral'\n",
        "  elif (i>0 and i<=0.5):\n",
        "    return 'Positive'\n",
        "  else:\n",
        "    return 'Strongly Positive'\n"
      ]
    },
    {
      "cell_type": "code",
      "execution_count": 23,
      "id": "confirmed-heart",
      "metadata": {
        "execution": {
          "iopub.execute_input": "2021-04-28T10:21:55.103770Z",
          "iopub.status.busy": "2021-04-28T10:21:55.096129Z",
          "iopub.status.idle": "2021-04-28T10:21:55.240387Z",
          "shell.execute_reply": "2021-04-28T10:21:55.239853Z"
        },
        "papermill": {
          "duration": 0.180684,
          "end_time": "2021-04-28T10:21:55.240502",
          "exception": false,
          "start_time": "2021-04-28T10:21:55.059818",
          "status": "completed"
        },
        "tags": [],
        "id": "confirmed-heart"
      },
      "outputs": [],
      "source": [
        "data['Sentiment'] = data['Polarity'].apply(get_text_analysis)"
      ]
    },
    {
      "cell_type": "code",
      "execution_count": 24,
      "id": "proper-porter",
      "metadata": {
        "execution": {
          "iopub.execute_input": "2021-04-28T10:21:55.333086Z",
          "iopub.status.busy": "2021-04-28T10:21:55.307794Z",
          "iopub.status.idle": "2021-04-28T10:21:55.561189Z",
          "shell.execute_reply": "2021-04-28T10:21:55.561572Z"
        },
        "papermill": {
          "duration": 0.29088,
          "end_time": "2021-04-28T10:21:55.561719",
          "exception": false,
          "start_time": "2021-04-28T10:21:55.270839",
          "status": "completed"
        },
        "tags": [],
        "colab": {
          "base_uri": "https://localhost:8080/",
          "height": 216
        },
        "id": "proper-porter",
        "outputId": "6d8a1430-dbd7-45cb-8542-0d4a2ce5fe67"
      },
      "outputs": [
        {
          "output_type": "stream",
          "name": "stdout",
          "text": [
            "{'Positive': 0, 'Strongly Positive': 1, 'Neutral': 2, 'Negative': 3, 'Strongly Negative': 4}\n"
          ]
        },
        {
          "output_type": "execute_result",
          "data": {
            "text/html": [
              "<div>\n",
              "<style scoped>\n",
              "    .dataframe tbody tr th:only-of-type {\n",
              "        vertical-align: middle;\n",
              "    }\n",
              "\n",
              "    .dataframe tbody tr th {\n",
              "        vertical-align: top;\n",
              "    }\n",
              "\n",
              "    .dataframe thead th {\n",
              "        text-align: right;\n",
              "    }\n",
              "</style>\n",
              "<table border=\"1\" class=\"dataframe\">\n",
              "  <thead>\n",
              "    <tr style=\"text-align: right;\">\n",
              "      <th></th>\n",
              "      <th>Sentiment</th>\n",
              "      <th>process_tweet</th>\n",
              "      <th>label</th>\n",
              "    </tr>\n",
              "  </thead>\n",
              "  <tbody>\n",
              "    <tr>\n",
              "      <th>0</th>\n",
              "      <td>Positive</td>\n",
              "      <td>isnt best poll promis ever free covid vaccin v...</td>\n",
              "      <td>0</td>\n",
              "    </tr>\n",
              "    <tr>\n",
              "      <th>1</th>\n",
              "      <td>Strongly Positive</td>\n",
              "      <td>state shall wait thier vidhan sabha elect get ...</td>\n",
              "      <td>1</td>\n",
              "    </tr>\n",
              "    <tr>\n",
              "      <th>2</th>\n",
              "      <td>Positive</td>\n",
              "      <td>said vaccin free covid vaccin new lakh rs ever...</td>\n",
              "      <td>0</td>\n",
              "    </tr>\n",
              "    <tr>\n",
              "      <th>3</th>\n",
              "      <td>Positive</td>\n",
              "      <td>bjp realli present free covid vaccin state man...</td>\n",
              "      <td>0</td>\n",
              "    </tr>\n",
              "    <tr>\n",
              "      <th>4</th>\n",
              "      <td>Neutral</td>\n",
              "      <td>anoth dose daili miserabl planet grauniad sub ...</td>\n",
              "      <td>2</td>\n",
              "    </tr>\n",
              "  </tbody>\n",
              "</table>\n",
              "</div>"
            ],
            "text/plain": [
              "           Sentiment                                      process_tweet  label\n",
              "0           Positive  isnt best poll promis ever free covid vaccin v...      0\n",
              "1  Strongly Positive  state shall wait thier vidhan sabha elect get ...      1\n",
              "2           Positive  said vaccin free covid vaccin new lakh rs ever...      0\n",
              "3           Positive  bjp realli present free covid vaccin state man...      0\n",
              "4            Neutral  anoth dose daili miserabl planet grauniad sub ...      2"
            ]
          },
          "metadata": {},
          "execution_count": 24
        }
      ],
      "source": [
        "#for deep learning we need to only 2 colums(sentiment and process tweet)\n",
        "data = data[['Sentiment','process_tweet' ]]\n",
        "\n",
        "possible_labels = data.Sentiment.unique()\n",
        "\n",
        "label_dict = {}\n",
        "for index, possible_label in enumerate(possible_labels): \n",
        "#The enumerate() function takes a collection (e.g. a tuple) and returns it as an enumerate object.\n",
        "    label_dict[possible_label] = index\n",
        "\n",
        "data['label'] = data.Sentiment.replace(label_dict)\n",
        "\n",
        "\n",
        "print(label_dict)\n",
        "\n",
        "data.head()"
      ]
    },
    {
      "cell_type": "code",
      "execution_count": 25,
      "id": "alleged-screen",
      "metadata": {
        "execution": {
          "iopub.execute_input": "2021-04-28T10:21:55.677897Z",
          "iopub.status.busy": "2021-04-28T10:21:55.677398Z",
          "iopub.status.idle": "2021-04-28T10:21:55.909640Z",
          "shell.execute_reply": "2021-04-28T10:21:55.908903Z"
        },
        "papermill": {
          "duration": 0.315752,
          "end_time": "2021-04-28T10:21:55.909791",
          "exception": false,
          "start_time": "2021-04-28T10:21:55.594039",
          "status": "completed"
        },
        "tags": [],
        "colab": {
          "base_uri": "https://localhost:8080/",
          "height": 350
        },
        "id": "alleged-screen",
        "outputId": "0a6a644b-675e-47e8-ed56-e6b778120d61"
      },
      "outputs": [
        {
          "output_type": "execute_result",
          "data": {
            "text/plain": [
              "Text(0, 0.5, 'Label')"
            ]
          },
          "metadata": {},
          "execution_count": 25
        },
        {
          "output_type": "display_data",
          "data": {
            "image/png": "[encoded data removed]",
            "text/plain": [
              "<Figure size 720x360 with 1 Axes>"
            ]
          },
          "metadata": {
            "needs_background": "light"
          }
        }
      ],
      "source": [
        "import matplotlib.pyplot as plt\n",
        "plt.figure(figsize=(10,5))\n",
        "ax = data['Sentiment'].value_counts(sort=False).plot(kind='barh')\n",
        "ax.set_xlabel('Number of Samples in training Set')\n",
        "ax.set_ylabel('Label')"
      ]
    },
    {
      "cell_type": "markdown",
      "id": "preliminary-rebate",
      "metadata": {
        "papermill": {
          "duration": 0.049293,
          "end_time": "2021-04-28T10:21:56.008313",
          "exception": false,
          "start_time": "2021-04-28T10:21:55.959020",
          "status": "completed"
        },
        "tags": [],
        "id": "preliminary-rebate"
      },
      "source": [
        "**Total Unique words after pre processing**"
      ]
    },
    {
      "cell_type": "code",
      "execution_count": 26,
      "id": "educational-africa",
      "metadata": {
        "execution": {
          "iopub.execute_input": "2021-04-28T10:21:56.304466Z",
          "iopub.status.busy": "2021-04-28T10:21:56.303786Z",
          "iopub.status.idle": "2021-04-28T10:21:56.409442Z",
          "shell.execute_reply": "2021-04-28T10:21:56.408688Z"
        },
        "papermill": {
          "duration": 0.351779,
          "end_time": "2021-04-28T10:21:56.409591",
          "exception": false,
          "start_time": "2021-04-28T10:21:56.057812",
          "status": "completed"
        },
        "tags": [],
        "colab": {
          "base_uri": "https://localhost:8080/"
        },
        "id": "educational-africa",
        "outputId": "548e0d4f-2888-4dd5-ad0e-6858cfe5dbb1"
      },
      "outputs": [
        {
          "output_type": "stream",
          "name": "stdout",
          "text": [
            "163967\n"
          ]
        }
      ],
      "source": [
        "unique_words = set(data['process_tweet'])\n",
        "count = 0\n",
        "for word in unique_words:\n",
        "  count += 1\n",
        "print(count)"
      ]
    },
    {
      "cell_type": "markdown",
      "id": "gross-committee",
      "metadata": {
        "papermill": {
          "duration": 0.05024,
          "end_time": "2021-04-28T10:21:56.511734",
          "exception": false,
          "start_time": "2021-04-28T10:21:56.461494",
          "status": "completed"
        },
        "tags": [],
        "id": "gross-committee"
      },
      "source": [
        "**Tokenization**"
      ]
    },
    {
      "cell_type": "code",
      "execution_count": 27,
      "id": "touched-pendant",
      "metadata": {
        "execution": {
          "iopub.execute_input": "2021-04-28T10:21:56.625682Z",
          "iopub.status.busy": "2021-04-28T10:21:56.624956Z",
          "iopub.status.idle": "2021-04-28T10:22:03.716698Z",
          "shell.execute_reply": "2021-04-28T10:22:03.715874Z"
        },
        "papermill": {
          "duration": 7.153444,
          "end_time": "2021-04-28T10:22:03.716851",
          "exception": false,
          "start_time": "2021-04-28T10:21:56.563407",
          "status": "completed"
        },
        "tags": [],
        "id": "touched-pendant"
      },
      "outputs": [],
      "source": [
        "#tokenization\n",
        "tokenizer = Tokenizer(num_words=163967, split=' ')\n",
        "#num_words: the maximum number of words to keep, based on word frequency. Only the most common num_words-1 words will be kept.\n",
        "\n",
        "\n",
        "tokenizer.fit_on_texts(data['process_tweet'].values)\n",
        "\n",
        "X = tokenizer.texts_to_sequences(data['process_tweet'].values)"
      ]
    },
    {
      "cell_type": "code",
      "execution_count": 28,
      "id": "fixed-acting",
      "metadata": {
        "execution": {
          "iopub.execute_input": "2021-04-28T10:22:03.823071Z",
          "iopub.status.busy": "2021-04-28T10:22:03.822358Z",
          "iopub.status.idle": "2021-04-28T10:22:03.826063Z",
          "shell.execute_reply": "2021-04-28T10:22:03.826584Z"
        },
        "papermill": {
          "duration": 0.060447,
          "end_time": "2021-04-28T10:22:03.826753",
          "exception": false,
          "start_time": "2021-04-28T10:22:03.766306",
          "status": "completed"
        },
        "tags": [],
        "colab": {
          "base_uri": "https://localhost:8080/"
        },
        "id": "fixed-acting",
        "outputId": "f795c51b-af0f-44ec-c1d7-7366bf2f1b48"
      },
      "outputs": [
        {
          "output_type": "execute_result",
          "data": {
            "text/plain": [
              "[[200,\n",
              "  247,\n",
              "  365,\n",
              "  199,\n",
              "  225,\n",
              "  144,\n",
              "  2,\n",
              "  1,\n",
              "  291,\n",
              "  1808,\n",
              "  59,\n",
              "  16,\n",
              "  291,\n",
              "  91,\n",
              "  2430,\n",
              "  104,\n",
              "  177,\n",
              "  1116,\n",
              "  364,\n",
              "  1,\n",
              "  134,\n",
              "  860,\n",
              "  1808,\n",
              "  7304,\n",
              "  9652,\n",
              "  90,\n",
              "  345,\n",
              "  105,\n",
              "  1947,\n",
              "  450,\n",
              "  733],\n",
              " [134, 1771, 59, 7777, 28152, 14302, 93, 3, 2, 1, 10978],\n",
              " [52, 1, 144, 2, 1, 37, 1269, 1405, 124, 712, 576, 7532]]"
            ]
          },
          "metadata": {},
          "execution_count": 28
        }
      ],
      "source": [
        "X[:3] #before padding"
      ]
    },
    {
      "cell_type": "markdown",
      "id": "continuous-montreal",
      "metadata": {
        "papermill": {
          "duration": 0.049275,
          "end_time": "2021-04-28T10:22:03.926785",
          "exception": false,
          "start_time": "2021-04-28T10:22:03.877510",
          "status": "completed"
        },
        "tags": [],
        "id": "continuous-montreal"
      },
      "source": [
        "**Padding**"
      ]
    },
    {
      "cell_type": "code",
      "execution_count": 29,
      "id": "nervous-region",
      "metadata": {
        "execution": {
          "iopub.execute_input": "2021-04-28T10:22:04.035756Z",
          "iopub.status.busy": "2021-04-28T10:22:04.035100Z",
          "iopub.status.idle": "2021-04-28T10:22:04.980250Z",
          "shell.execute_reply": "2021-04-28T10:22:04.980671Z"
        },
        "papermill": {
          "duration": 1.004129,
          "end_time": "2021-04-28T10:22:04.980828",
          "exception": false,
          "start_time": "2021-04-28T10:22:03.976699",
          "status": "completed"
        },
        "tags": [],
        "colab": {
          "base_uri": "https://localhost:8080/"
        },
        "id": "nervous-region",
        "outputId": "f6873c70-051a-4261-be13-e9af513c8a40"
      },
      "outputs": [
        {
          "output_type": "execute_result",
          "data": {
            "text/plain": [
              "array([[    0,     0,     0,     0,     0,     0,     0,     0,     0,\n",
              "            0,     0,     0,     0,     0,     0,     0,     0,     0,\n",
              "            0,     0,   200,   247,   365,   199,   225,   144,     2,\n",
              "            1,   291,  1808,    59,    16,   291,    91,  2430,   104,\n",
              "          177,  1116,   364,     1,   134,   860,  1808,  7304,  9652,\n",
              "           90,   345,   105,  1947,   450,   733],\n",
              "       [    0,     0,     0,     0,     0,     0,     0,     0,     0,\n",
              "            0,     0,     0,     0,     0,     0,     0,     0,     0,\n",
              "            0,     0,     0,     0,     0,     0,     0,     0,     0,\n",
              "            0,     0,     0,     0,     0,     0,     0,     0,     0,\n",
              "            0,     0,     0,     0,   134,  1771,    59,  7777, 28152,\n",
              "        14302,    93,     3,     2,     1, 10978],\n",
              "       [    0,     0,     0,     0,     0,     0,     0,     0,     0,\n",
              "            0,     0,     0,     0,     0,     0,     0,     0,     0,\n",
              "            0,     0,     0,     0,     0,     0,     0,     0,     0,\n",
              "            0,     0,     0,     0,     0,     0,     0,     0,     0,\n",
              "            0,     0,     0,    52,     1,   144,     2,     1,    37,\n",
              "         1269,  1405,   124,   712,   576,  7532]], dtype=int32)"
            ]
          },
          "metadata": {},
          "execution_count": 29
        }
      ],
      "source": [
        "#padding to make all text vector to same length\n",
        "\n",
        "X = pad_sequences(X)\n",
        "\n",
        "X[:3] #after padding"
      ]
    },
    {
      "cell_type": "markdown",
      "id": "dated-spine",
      "metadata": {
        "papermill": {
          "duration": 0.033544,
          "end_time": "2021-04-28T10:22:05.047768",
          "exception": false,
          "start_time": "2021-04-28T10:22:05.014224",
          "status": "completed"
        },
        "tags": [],
        "id": "dated-spine"
      },
      "source": [
        "**RNN Model**"
      ]
    },
    {
      "cell_type": "code",
      "execution_count": 30,
      "id": "orange-bundle",
      "metadata": {
        "execution": {
          "iopub.execute_input": "2021-04-28T10:22:05.122773Z",
          "iopub.status.busy": "2021-04-28T10:22:05.122265Z",
          "iopub.status.idle": "2021-04-28T10:22:05.793605Z",
          "shell.execute_reply": "2021-04-28T10:22:05.791930Z"
        },
        "papermill": {
          "duration": 0.712592,
          "end_time": "2021-04-28T10:22:05.794110",
          "exception": false,
          "start_time": "2021-04-28T10:22:05.081518",
          "status": "completed"
        },
        "tags": [],
        "colab": {
          "base_uri": "https://localhost:8080/"
        },
        "id": "orange-bundle",
        "outputId": "2d98e9a8-ca6c-401e-f33a-15135ba7af1a"
      },
      "outputs": [
        {
          "output_type": "stream",
          "name": "stdout",
          "text": [
            "Model: \"sequential\"\n",
            "_________________________________________________________________\n",
            " Layer (type)                Output Shape              Param #   \n",
            "=================================================================\n",
            " embedding (Embedding)       (None, 51, 256)           41975552  \n",
            "                                                                 \n",
            " dropout (Dropout)           (None, 51, 256)           0         \n",
            "                                                                 \n",
            " lstm (LSTM)                 (None, 51, 128)           197120    \n",
            "                                                                 \n",
            " lstm_1 (LSTM)               (None, 128)               131584    \n",
            "                                                                 \n",
            " dense (Dense)               (None, 5)                 645       \n",
            "                                                                 \n",
            "=================================================================\n",
            "Total params: 42,304,901\n",
            "Trainable params: 42,304,901\n",
            "Non-trainable params: 0\n",
            "_________________________________________________________________\n"
          ]
        }
      ],
      "source": [
        "#creating models\n",
        "\n",
        "model= Sequential()\n",
        "model.add(Embedding(163967, 256 , input_length=X.shape[1]))\n",
        "model.add(Dropout(0.3))\n",
        "\n",
        "\n",
        "model.add(LSTM(128 , return_sequences=True , dropout=0.3 , recurrent_dropout=0.3))\n",
        "model.add(LSTM(128,dropout=0.3 , recurrent_dropout=0.3))\n",
        "\n",
        "\n",
        "model.add(Dense(5 , activation='softmax'))\n",
        "\n",
        "model.summary()"
      ]
    },
    {
      "cell_type": "code",
      "execution_count": 31,
      "id": "patient-eating",
      "metadata": {
        "execution": {
          "iopub.execute_input": "2021-04-28T10:22:05.877294Z",
          "iopub.status.busy": "2021-04-28T10:22:05.876538Z",
          "iopub.status.idle": "2021-04-28T10:22:05.883259Z",
          "shell.execute_reply": "2021-04-28T10:22:05.882838Z"
        },
        "papermill": {
          "duration": 0.055033,
          "end_time": "2021-04-28T10:22:05.883374",
          "exception": false,
          "start_time": "2021-04-28T10:22:05.828341",
          "status": "completed"
        },
        "tags": [],
        "id": "patient-eating"
      },
      "outputs": [],
      "source": [
        "model.compile(optimizer='adam' , loss = 'categorical_crossentropy' , metrics=['accuracy'])"
      ]
    },
    {
      "cell_type": "code",
      "execution_count": 32,
      "id": "crazy-certification",
      "metadata": {
        "execution": {
          "iopub.execute_input": "2021-04-28T10:22:05.965259Z",
          "iopub.status.busy": "2021-04-28T10:22:05.964642Z",
          "iopub.status.idle": "2021-04-28T10:22:05.983277Z",
          "shell.execute_reply": "2021-04-28T10:22:05.982739Z"
        },
        "papermill": {
          "duration": 0.066329,
          "end_time": "2021-04-28T10:22:05.983385",
          "exception": false,
          "start_time": "2021-04-28T10:22:05.917056",
          "status": "completed"
        },
        "tags": [],
        "colab": {
          "base_uri": "https://localhost:8080/"
        },
        "id": "crazy-certification",
        "outputId": "274ef6bb-e76a-4557-90ec-c0a8a2d4846d"
      },
      "outputs": [
        {
          "output_type": "stream",
          "name": "stdout",
          "text": [
            "Positive [0 0 1 0 0]\n",
            "Strongly Positive [0 0 0 0 1]\n",
            "Positive [0 0 1 0 0]\n",
            "Positive [0 0 1 0 0]\n",
            "Neutral [0 1 0 0 0]\n"
          ]
        },
        {
          "output_type": "execute_result",
          "data": {
            "text/plain": [
              "[None, None, None, None, None]"
            ]
          },
          "metadata": {},
          "execution_count": 32
        }
      ],
      "source": [
        "#one hot encoding\n",
        "\n",
        "y = pd.get_dummies(data['Sentiment']).values\n",
        "\n",
        "[print(data['Sentiment'][i] ,y[i]) for i in range(0,5)]"
      ]
    },
    {
      "cell_type": "markdown",
      "id": "interstate-termination",
      "metadata": {
        "papermill": {
          "duration": 0.03394,
          "end_time": "2021-04-28T10:22:06.051465",
          "exception": false,
          "start_time": "2021-04-28T10:22:06.017525",
          "status": "completed"
        },
        "tags": [],
        "id": "interstate-termination"
      },
      "source": [
        "**Data split**"
      ]
    },
    {
      "cell_type": "code",
      "execution_count": 33,
      "id": "sexual-vietnamese",
      "metadata": {
        "execution": {
          "iopub.execute_input": "2021-04-28T10:22:06.127419Z",
          "iopub.status.busy": "2021-04-28T10:22:06.126633Z",
          "iopub.status.idle": "2021-04-28T10:22:06.209140Z",
          "shell.execute_reply": "2021-04-28T10:22:06.208686Z"
        },
        "papermill": {
          "duration": 0.123435,
          "end_time": "2021-04-28T10:22:06.209258",
          "exception": false,
          "start_time": "2021-04-28T10:22:06.085823",
          "status": "completed"
        },
        "tags": [],
        "id": "sexual-vietnamese"
      },
      "outputs": [],
      "source": [
        "x_train , x_test , y_train , y_test = train_test_split(X , y , test_size = 0.2 ,random_state = 22)"
      ]
    },
    {
      "cell_type": "code",
      "execution_count": 34,
      "id": "legitimate-driver",
      "metadata": {
        "execution": {
          "iopub.execute_input": "2021-04-28T10:22:06.285004Z",
          "iopub.status.busy": "2021-04-28T10:22:06.284247Z",
          "iopub.status.idle": "2021-04-28T10:22:06.286331Z",
          "shell.execute_reply": "2021-04-28T10:22:06.285834Z"
        },
        "papermill": {
          "duration": 0.042524,
          "end_time": "2021-04-28T10:22:06.286451",
          "exception": false,
          "start_time": "2021-04-28T10:22:06.243927",
          "status": "completed"
        },
        "tags": [],
        "id": "legitimate-driver"
      },
      "outputs": [],
      "source": [
        "#trannig model\n",
        "batch_size = 128\n",
        "epochs = 5"
      ]
    },
    {
      "cell_type": "markdown",
      "id": "communist-papua",
      "metadata": {
        "papermill": {
          "duration": 0.035064,
          "end_time": "2021-04-28T10:22:06.357114",
          "exception": false,
          "start_time": "2021-04-28T10:22:06.322050",
          "status": "completed"
        },
        "tags": [],
        "id": "communist-papua"
      },
      "source": [
        "**Tranning the model**"
      ]
    },
    {
      "cell_type": "code",
      "execution_count": 35,
      "id": "brown-health",
      "metadata": {
        "execution": {
          "iopub.execute_input": "2021-04-28T10:22:06.432592Z",
          "iopub.status.busy": "2021-04-28T10:22:06.432098Z",
          "iopub.status.idle": "2021-04-28T11:33:42.488093Z",
          "shell.execute_reply": "2021-04-28T11:33:42.488488Z"
        },
        "papermill": {
          "duration": 4296.096748,
          "end_time": "2021-04-28T11:33:42.488618",
          "exception": false,
          "start_time": "2021-04-28T10:22:06.391870",
          "status": "completed"
        },
        "tags": [],
        "colab": {
          "base_uri": "https://localhost:8080/"
        },
        "id": "brown-health",
        "outputId": "20d78081-afcc-4b67-b510-3ca41b95712b"
      },
      "outputs": [
        {
          "output_type": "stream",
          "name": "stdout",
          "text": [
            "Epoch 1/5\n",
            "1131/1131 [==============================] - 1483s 1s/step - loss: 0.2585 - accuracy: 0.9083 - val_loss: 0.0808 - val_accuracy: 0.9762\n",
            "Epoch 2/5\n",
            "1131/1131 [==============================] - 1465s 1s/step - loss: 0.0613 - accuracy: 0.9803 - val_loss: 0.0573 - val_accuracy: 0.9813\n",
            "Epoch 3/5\n",
            "1131/1131 [==============================] - 1472s 1s/step - loss: 0.0425 - accuracy: 0.9868 - val_loss: 0.0576 - val_accuracy: 0.9823\n",
            "Epoch 4/5\n",
            "1131/1131 [==============================] - 1471s 1s/step - loss: 0.0311 - accuracy: 0.9900 - val_loss: 0.0646 - val_accuracy: 0.9808\n",
            "Epoch 5/5\n",
            "1131/1131 [==============================] - 1471s 1s/step - loss: 0.0247 - accuracy: 0.9925 - val_loss: 0.0572 - val_accuracy: 0.9837\n"
          ]
        }
      ],
      "source": [
        "history = model.fit(x_train , y_train ,\n",
        "          epochs = epochs,\n",
        "          batch_size = batch_size,\n",
        "          validation_split=0.1,\n",
        "          verbose=1)"
      ]
    },
    {
      "cell_type": "code",
      "execution_count": 36,
      "id": "arbitrary-charge",
      "metadata": {
        "execution": {
          "iopub.execute_input": "2021-04-28T11:33:45.470391Z",
          "iopub.status.busy": "2021-04-28T11:33:45.465890Z",
          "iopub.status.idle": "2021-04-28T11:34:17.799292Z",
          "shell.execute_reply": "2021-04-28T11:34:17.787242Z"
        },
        "papermill": {
          "duration": 33.799031,
          "end_time": "2021-04-28T11:34:17.799407",
          "exception": false,
          "start_time": "2021-04-28T11:33:44.000376",
          "status": "completed"
        },
        "tags": [],
        "colab": {
          "base_uri": "https://localhost:8080/"
        },
        "id": "arbitrary-charge",
        "outputId": "ebf28b73-ab06-4310-d4d0-ed3250299e1e"
      },
      "outputs": [
        {
          "output_type": "stream",
          "name": "stdout",
          "text": [
            "315/315 [==============================] - 43s 135ms/step - loss: 0.0558 - accuracy: 0.9832\n",
            "\n",
            "ACCURACY: 0.9832363128662109\n",
            "LOSS: 0.055826835334300995\n",
            "CPU times: user 1min 15s, sys: 3.5 s, total: 1min 18s\n",
            "Wall time: 42.7 s\n"
          ]
        }
      ],
      "source": [
        "%%time\n",
        "score = model.evaluate(x_test, y_test , batch_size = batch_size)\n",
        "print()\n",
        "print(\"ACCURACY:\",score[1])\n",
        "print(\"LOSS:\",score[0])"
      ]
    },
    {
      "cell_type": "code",
      "execution_count": 37,
      "id": "verbal-alexander",
      "metadata": {
        "execution": {
          "iopub.execute_input": "2021-04-28T11:34:20.933006Z",
          "iopub.status.busy": "2021-04-28T11:34:20.932484Z",
          "iopub.status.idle": "2021-04-28T11:35:08.484132Z",
          "shell.execute_reply": "2021-04-28T11:35:08.484538Z"
        },
        "papermill": {
          "duration": 49.156727,
          "end_time": "2021-04-28T11:35:08.484662",
          "exception": false,
          "start_time": "2021-04-28T11:34:19.327935",
          "status": "completed"
        },
        "tags": [],
        "colab": {
          "base_uri": "https://localhost:8080/"
        },
        "id": "verbal-alexander",
        "outputId": "8dafbceb-9171-461f-cd83-8c51d2e7f335"
      },
      "outputs": [
        {
          "output_type": "execute_result",
          "data": {
            "text/plain": [
              "array([2, 2, 1, 1, 2, 2, 3, 0, 0, 0])"
            ]
          },
          "metadata": {},
          "execution_count": 37
        }
      ],
      "source": [
        "predictions = model.predict(x_test)\n",
        "pred1 = np.argmax(predictions , axis=1)\n",
        "pred1[:10]"
      ]
    },
    {
      "cell_type": "code",
      "execution_count": 38,
      "id": "fundamental-officer",
      "metadata": {
        "execution": {
          "iopub.execute_input": "2021-04-28T11:35:11.580735Z",
          "iopub.status.busy": "2021-04-28T11:35:11.580201Z",
          "iopub.status.idle": "2021-04-28T11:35:11.584685Z",
          "shell.execute_reply": "2021-04-28T11:35:11.584218Z"
        },
        "papermill": {
          "duration": 1.551786,
          "end_time": "2021-04-28T11:35:11.584814",
          "exception": false,
          "start_time": "2021-04-28T11:35:10.033028",
          "status": "completed"
        },
        "tags": [],
        "id": "fundamental-officer"
      },
      "outputs": [],
      "source": [
        "y_test = np.argmax(y_test , axis=1)\n"
      ]
    },
    {
      "cell_type": "code",
      "execution_count": 39,
      "id": "systematic-package",
      "metadata": {
        "execution": {
          "iopub.execute_input": "2021-04-28T11:35:14.695562Z",
          "iopub.status.busy": "2021-04-28T11:35:14.695044Z",
          "iopub.status.idle": "2021-04-28T11:35:14.730154Z",
          "shell.execute_reply": "2021-04-28T11:35:14.729523Z"
        },
        "papermill": {
          "duration": 1.621751,
          "end_time": "2021-04-28T11:35:14.730293",
          "exception": false,
          "start_time": "2021-04-28T11:35:13.108542",
          "status": "completed"
        },
        "tags": [],
        "colab": {
          "base_uri": "https://localhost:8080/"
        },
        "id": "systematic-package",
        "outputId": "929a834c-481d-4d52-bf43-cd4126f39f70"
      },
      "outputs": [
        {
          "output_type": "stream",
          "name": "stdout",
          "text": [
            "[[ 5848    47   114    23     0]\n",
            " [   46 20093    53     0     2]\n",
            " [  103    35 11486     0    61]\n",
            " [   56     0     0   485     0]\n",
            " [    1     1   132     0  1620]]\n"
          ]
        }
      ],
      "source": [
        "print(confusion_matrix(y_test , pred1))"
      ]
    },
    {
      "cell_type": "markdown",
      "id": "above-temple",
      "metadata": {
        "papermill": {
          "duration": 1.539037,
          "end_time": "2021-04-28T11:35:17.804407",
          "exception": false,
          "start_time": "2021-04-28T11:35:16.265370",
          "status": "completed"
        },
        "tags": [],
        "id": "above-temple"
      },
      "source": [
        "**Classification Report**"
      ]
    },
    {
      "cell_type": "code",
      "execution_count": 40,
      "id": "moderate-scottish",
      "metadata": {
        "execution": {
          "iopub.execute_input": "2021-04-28T11:35:20.958142Z",
          "iopub.status.busy": "2021-04-28T11:35:20.957615Z",
          "iopub.status.idle": "2021-04-28T11:35:21.018905Z",
          "shell.execute_reply": "2021-04-28T11:35:21.018055Z"
        },
        "papermill": {
          "duration": 1.670239,
          "end_time": "2021-04-28T11:35:21.019159",
          "exception": false,
          "start_time": "2021-04-28T11:35:19.348920",
          "status": "completed"
        },
        "tags": [],
        "colab": {
          "base_uri": "https://localhost:8080/"
        },
        "id": "moderate-scottish",
        "outputId": "13a91856-49cb-4659-c8bf-53fe8458d0b8"
      },
      "outputs": [
        {
          "output_type": "stream",
          "name": "stdout",
          "text": [
            "              precision    recall  f1-score   support\n",
            "\n",
            "           0       0.97      0.97      0.97      6032\n",
            "           1       1.00      0.99      1.00     20194\n",
            "           2       0.97      0.98      0.98     11685\n",
            "           3       0.95      0.90      0.92       541\n",
            "           4       0.96      0.92      0.94      1754\n",
            "\n",
            "    accuracy                           0.98     40206\n",
            "   macro avg       0.97      0.95      0.96     40206\n",
            "weighted avg       0.98      0.98      0.98     40206\n",
            "\n"
          ]
        }
      ],
      "source": [
        "print(classification_report(y_test , pred1))"
      ]
    },
    {
      "cell_type": "markdown",
      "id": "incorporated-referral",
      "metadata": {
        "papermill": {
          "duration": 2.357919,
          "end_time": "2021-04-28T11:35:25.732935",
          "exception": false,
          "start_time": "2021-04-28T11:35:23.375016",
          "status": "completed"
        },
        "tags": [],
        "id": "incorporated-referral"
      },
      "source": [
        "**Accuracy**"
      ]
    },
    {
      "cell_type": "code",
      "execution_count": 41,
      "id": "advanced-climate",
      "metadata": {
        "execution": {
          "iopub.execute_input": "2021-04-28T11:35:30.557245Z",
          "iopub.status.busy": "2021-04-28T11:35:30.556562Z",
          "iopub.status.idle": "2021-04-28T11:35:30.563453Z",
          "shell.execute_reply": "2021-04-28T11:35:30.562825Z"
        },
        "papermill": {
          "duration": 2.470853,
          "end_time": "2021-04-28T11:35:30.563573",
          "exception": false,
          "start_time": "2021-04-28T11:35:28.092720",
          "status": "completed"
        },
        "tags": [],
        "colab": {
          "base_uri": "https://localhost:8080/"
        },
        "id": "advanced-climate",
        "outputId": "b339af61-2562-4f91-b4d5-693f85e9c282"
      },
      "outputs": [
        {
          "output_type": "execute_result",
          "data": {
            "text/plain": [
              "0.9832363328856389"
            ]
          },
          "metadata": {},
          "execution_count": 41
        }
      ],
      "source": [
        "accuracy_score(y_test , pred1)"
      ]
    },
    {
      "cell_type": "code",
      "execution_count": 42,
      "id": "yellow-bowling",
      "metadata": {
        "execution": {
          "iopub.execute_input": "2021-04-28T11:35:33.692290Z",
          "iopub.status.busy": "2021-04-28T11:35:33.691625Z",
          "iopub.status.idle": "2021-04-28T11:35:34.076885Z",
          "shell.execute_reply": "2021-04-28T11:35:34.076417Z"
        },
        "papermill": {
          "duration": 1.960115,
          "end_time": "2021-04-28T11:35:34.077052",
          "exception": false,
          "start_time": "2021-04-28T11:35:32.116937",
          "status": "completed"
        },
        "tags": [],
        "colab": {
          "base_uri": "https://localhost:8080/",
          "height": 465
        },
        "id": "yellow-bowling",
        "outputId": "cea69043-2fe2-4c0d-e8b6-5963c1500304"
      },
      "outputs": [
        {
          "output_type": "display_data",
          "data": {
            "image/png": "[encoded data removed]",
            "text/plain": [
              "<Figure size 2160x720 with 2 Axes>"
            ]
          },
          "metadata": {
            "needs_background": "light"
          }
        }
      ],
      "source": [
        "epochs = [i for i in range(5)]\n",
        "fig , ax = plt.subplots(1,2)\n",
        "train_acc = history.history['accuracy']\n",
        "train_loss = history.history['loss']\n",
        "val_acc = history.history['val_accuracy']\n",
        "val_loss = history.history['val_loss']\n",
        "fig.set_size_inches(30,10)\n",
        "\n",
        "\n",
        "ax[0].plot(epochs , train_acc , 'go-' , label = 'Training Accuracy')\n",
        "ax[0].plot(epochs , val_acc , 'ro-' , label = 'Validation Accuracy')\n",
        "ax[0].set_title('Training & Validation Accuracy')\n",
        "\n",
        "ax[0].legend()\n",
        "ax[0].set_xlabel(\"Epochs\")\n",
        "ax[0].set_ylabel(\"Accuracy\")\n",
        "\n",
        "\n",
        "ax[1].plot(epochs , train_loss , 'g-o' , label = 'Training Loss')\n",
        "ax[1].plot(epochs , val_loss , 'r-o' , label = 'Validation Loss')\n",
        "ax[1].set_title('Testing Accuracy & Loss')\n",
        "ax[1].legend()\n",
        "ax[1].set_xlabel(\"Epochs\")\n",
        "ax[1].set_ylabel(\"Training & Validation Loss\")\n",
        "plt.show()"
      ]
    },
    {
      "cell_type": "code",
      "execution_count": null,
      "id": "surprised-progress",
      "metadata": {
        "papermill": {
          "duration": 1.593253,
          "end_time": "2021-04-28T11:35:37.215375",
          "exception": false,
          "start_time": "2021-04-28T11:35:35.622122",
          "status": "completed"
        },
        "tags": [],
        "id": "surprised-progress"
      },
      "outputs": [],
      "source": [
        ""
      ]
    }
  ],
  "metadata": {
    "kernelspec": {
      "display_name": "Python 3",
      "language": "python",
      "name": "python3"
    },
    "language_info": {
      "codemirror_mode": {
        "name": "ipython",
        "version": 3
      },
      "file_extension": ".py",
      "mimetype": "text/x-python",
      "name": "python",
      "nbconvert_exporter": "python",
      "pygments_lexer": "ipython3",
      "version": "3.7.10"
    },
    "papermill": {
      "default_parameters": {},
      "duration": 4571.097893,
      "end_time": "2021-04-28T11:35:41.157061",
      "environment_variables": {},
      "exception": null,
      "input_path": "__notebook__.ipynb",
      "output_path": "__notebook__.ipynb",
      "parameters": {},
      "start_time": "2021-04-28T10:19:30.059168",
      "version": "2.3.3"
    },
    "colab": {
      "name": "vaccine-tweet-sentiment-analysis-using-rnn-98-24.ipynb",
      "provenance": [],
      "collapsed_sections": [],
      "include_colab_link": true
    }
  },
  "nbformat": 4,
  "nbformat_minor": 5
}