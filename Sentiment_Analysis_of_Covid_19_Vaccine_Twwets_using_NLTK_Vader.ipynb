{
  "nbformat": 4,
  "nbformat_minor": 0,
  "metadata": {
    "kernelspec": {
      "display_name": "Python 3",
      "language": "python",
      "name": "python3"
    },
    "language_info": {
      "codemirror_mode": {
        "name": "ipython",
        "version": 3
      },
      "file_extension": ".py",
      "mimetype": "text/x-python",
      "name": "python",
      "nbconvert_exporter": "python",
      "pygments_lexer": "ipython3",
      "version": "3.8.5"
    },
    "colab": {
      "name": "Sentiment Analysis of Covid-19 Vaccine Twwets using NLTK Vader.ipynb",
      "provenance": [],
      "collapsed_sections": [],
      "include_colab_link": true
    }
  },
  "cells": [
    {
      "cell_type": "markdown",
      "metadata": {
        "id": "view-in-github",
        "colab_type": "text"
      },
      "source": [
        "<a href=\"https://colab.research.google.com/github/SumitMohan/Covid-19-Vaccine/blob/main/Sentiment_Analysis_of_Covid_19_Vaccine_Twwets_using_NLTK_Vader.ipynb\" target=\"_parent\"><img src=\"https://colab.research.google.com/assets/colab-badge.svg\" alt=\"Open In Colab\"/></a>"
      ]
    },
    {
      "cell_type": "markdown",
      "metadata": {
        "id": "zOZE4a1boD9d"
      },
      "source": [
        "**Sentiment Analysis using NLTK Vader**"
      ]
    },
    {
      "cell_type": "code",
      "metadata": {
        "id": "-tvIPpQmDF9J",
        "colab": {
          "base_uri": "https://localhost:8080/"
        },
        "outputId": "3c8a7a19-5f79-431b-a99f-3ce029177928"
      },
      "source": [
        "import pandas as pd\n",
        "import numpy as np\n",
        "import matplotlib.pyplot as plt\n",
        "import nltk\n",
        "from nltk.sentiment.vader import SentimentIntensityAnalyzer\n",
        "import warnings\n",
        "warnings.filterwarnings('ignore')"
      ],
      "execution_count": 1,
      "outputs": [
        {
          "output_type": "stream",
          "text": [
            "/usr/local/lib/python3.7/dist-packages/nltk/twitter/__init__.py:20: UserWarning: The twython library has not been installed. Some functionality from the twitter package will not be available.\n",
            "  warnings.warn(\"The twython library has not been installed. \"\n"
          ],
          "name": "stderr"
        }
      ]
    },
    {
      "cell_type": "code",
      "metadata": {
        "id": "PRDupSJ9DF9R",
        "colab": {
          "base_uri": "https://localhost:8080/"
        },
        "outputId": "9c719ec4-a503-4644-b5da-05c88a6fb116"
      },
      "source": [
        "import nltk\n",
        "nltk.download('vader_lexicon')\n",
        "sent= SentimentIntensityAnalyzer() #creating an object/ instance"
      ],
      "execution_count": 2,
      "outputs": [
        {
          "output_type": "stream",
          "text": [
            "[nltk_data] Downloading package vader_lexicon to /root/nltk_data...\n"
          ],
          "name": "stdout"
        }
      ]
    },
    {
      "cell_type": "code",
      "metadata": {
        "id": "TK7SoaSgDF9V",
        "colab": {
          "base_uri": "https://localhost:8080/"
        },
        "outputId": "0621a05f-6f68-44ad-eded-d8110f412d8f"
      },
      "source": [
        "sent.polarity_scores('Vaccine is very effective')\n",
        "#sentence seems to be very positve lets check it with Vader\n",
        "# Negative: Neg, Positive: Pos, Compound= Overall score"
      ],
      "execution_count": 3,
      "outputs": [
        {
          "output_type": "execute_result",
          "data": {
            "text/plain": [
              "{'compound': 0.5256, 'neg': 0.0, 'neu': 0.469, 'pos': 0.531}"
            ]
          },
          "metadata": {
            "tags": []
          },
          "execution_count": 3
        }
      ]
    },
    {
      "cell_type": "code",
      "metadata": {
        "id": "FBqYgnL5DF9X",
        "colab": {
          "base_uri": "https://localhost:8080/"
        },
        "outputId": "a1d0d619-b2c6-48ad-ae77-4fc22b4bb812"
      },
      "source": [
        "sent.polarity_scores('Vaccine is bad, lots of side effects')"
      ],
      "execution_count": 4,
      "outputs": [
        {
          "output_type": "execute_result",
          "data": {
            "text/plain": [
              "{'compound': -0.5423, 'neg': 0.368, 'neu': 0.632, 'pos': 0.0}"
            ]
          },
          "metadata": {
            "tags": []
          },
          "execution_count": 4
        }
      ]
    },
    {
      "cell_type": "code",
      "metadata": {
        "colab": {
          "base_uri": "https://localhost:8080/"
        },
        "id": "qbQUhRuFGegw",
        "outputId": "3d3a54b6-16c7-4107-f8c3-ef65d9098d13"
      },
      "source": [
        "from google.colab import drive\n",
        "drive.mount('/content/drive')"
      ],
      "execution_count": 5,
      "outputs": [
        {
          "output_type": "stream",
          "text": [
            "Mounted at /content/drive\n"
          ],
          "name": "stdout"
        }
      ]
    },
    {
      "cell_type": "markdown",
      "metadata": {
        "id": "ro5kLayPDF9Z"
      },
      "source": [
        "**if Compound Score is Positive then Sentiment of Particular Sentence is Positive vice-versa Negative**"
      ]
    },
    {
      "cell_type": "code",
      "metadata": {
        "id": "SRoVWFA1DF9a",
        "colab": {
          "base_uri": "https://localhost:8080/",
          "height": 204
        },
        "outputId": "76a7c601-999c-40d4-8191-349ab6458327"
      },
      "source": [
        "clean_text=pd.read_csv('Vaccine Tweets1.csv') #loading the cleantext file\n",
        "clean_text.rename(columns={clean_text.columns[1]  :\"Cleaned_Text\"}, inplace = True ) \n",
        "clean_text.head(5)"
      ],
      "execution_count": 6,
      "outputs": [
        {
          "output_type": "execute_result",
          "data": {
            "text/html": [
              "<div>\n",
              "<style scoped>\n",
              "    .dataframe tbody tr th:only-of-type {\n",
              "        vertical-align: middle;\n",
              "    }\n",
              "\n",
              "    .dataframe tbody tr th {\n",
              "        vertical-align: top;\n",
              "    }\n",
              "\n",
              "    .dataframe thead th {\n",
              "        text-align: right;\n",
              "    }\n",
              "</style>\n",
              "<table border=\"1\" class=\"dataframe\">\n",
              "  <thead>\n",
              "    <tr style=\"text-align: right;\">\n",
              "      <th></th>\n",
              "      <th>Unnamed: 0</th>\n",
              "      <th>Cleaned_Text</th>\n",
              "    </tr>\n",
              "  </thead>\n",
              "  <tbody>\n",
              "    <tr>\n",
              "      <th>0</th>\n",
              "      <td>0</td>\n",
              "      <td>mmpadellan pfizer literally millions doses v...</td>\n",
              "    </tr>\n",
              "    <tr>\n",
              "      <th>1</th>\n",
              "      <td>1</td>\n",
              "      <td>rmayemsinger rupe  murdoch fox news called c...</td>\n",
              "    </tr>\n",
              "    <tr>\n",
              "      <th>2</th>\n",
              "      <td>2</td>\n",
              "      <td>telushk get vaccine turn horse oh well</td>\n",
              "    </tr>\n",
              "    <tr>\n",
              "      <th>3</th>\n",
              "      <td>3</td>\n",
              "      <td>stevenbeschloss argument pence get vaccine e...</td>\n",
              "    </tr>\n",
              "    <tr>\n",
              "      <th>4</th>\n",
              "      <td>4</td>\n",
              "      <td>mollyjongfast rupe  murdoch got covid vaccin...</td>\n",
              "    </tr>\n",
              "  </tbody>\n",
              "</table>\n",
              "</div>"
            ],
            "text/plain": [
              "   Unnamed: 0                                       Cleaned_Text\n",
              "0           0    mmpadellan pfizer literally millions doses v...\n",
              "1           1    rmayemsinger rupe  murdoch fox news called c...\n",
              "2           2             telushk get vaccine turn horse oh well\n",
              "3           3    stevenbeschloss argument pence get vaccine e...\n",
              "4           4    mollyjongfast rupe  murdoch got covid vaccin..."
            ]
          },
          "metadata": {
            "tags": []
          },
          "execution_count": 6
        }
      ]
    },
    {
      "cell_type": "code",
      "metadata": {
        "id": "3nWZ4BkPDF9c",
        "colab": {
          "base_uri": "https://localhost:8080/"
        },
        "outputId": "a93f80a4-3718-41a1-bd5a-5e779ee966bf"
      },
      "source": [
        "clean_text.shape"
      ],
      "execution_count": 7,
      "outputs": [
        {
          "output_type": "execute_result",
          "data": {
            "text/plain": [
              "(1432, 2)"
            ]
          },
          "metadata": {
            "tags": []
          },
          "execution_count": 7
        }
      ]
    },
    {
      "cell_type": "code",
      "metadata": {
        "id": "Vj9j9Gk-DF9e"
      },
      "source": [
        "compound_score=[]\n",
        "positive_score=[]\n",
        "negative_score=[]\n",
        "for i in range(0,clean_text.shape[0]):\n",
        "    score=sent.polarity_scores(clean_text.iloc[i][1]) # this[1] for selecting the second column\n",
        "    score1= score['compound'] #getting the compund score\n",
        "    compound_score.append(score1) #adding into compound score list\n",
        "    score2= score['pos']\n",
        "    positive_score.append(score2)\n",
        "    score3= score['neg']\n",
        "    negative_score.append(score3)"
      ],
      "execution_count": 8,
      "outputs": []
    },
    {
      "cell_type": "code",
      "metadata": {
        "id": "v9EJpMvJDF9h"
      },
      "source": [
        "#adding the generated score into original dataframe\n",
        "clean_text['Compond_Score']=  compound_score\n",
        "clean_text['Positive_Score']= positive_score\n",
        "clean_text['Negative_Score']= negative_score\n"
      ],
      "execution_count": 9,
      "outputs": []
    },
    {
      "cell_type": "code",
      "metadata": {
        "id": "fKJtg4bLDF9k",
        "colab": {
          "base_uri": "https://localhost:8080/",
          "height": 204
        },
        "outputId": "b6cd1db2-483e-4e27-8c2e-680f749750b4"
      },
      "source": [
        "clean_text.head(5)"
      ],
      "execution_count": 10,
      "outputs": [
        {
          "output_type": "execute_result",
          "data": {
            "text/html": [
              "<div>\n",
              "<style scoped>\n",
              "    .dataframe tbody tr th:only-of-type {\n",
              "        vertical-align: middle;\n",
              "    }\n",
              "\n",
              "    .dataframe tbody tr th {\n",
              "        vertical-align: top;\n",
              "    }\n",
              "\n",
              "    .dataframe thead th {\n",
              "        text-align: right;\n",
              "    }\n",
              "</style>\n",
              "<table border=\"1\" class=\"dataframe\">\n",
              "  <thead>\n",
              "    <tr style=\"text-align: right;\">\n",
              "      <th></th>\n",
              "      <th>Unnamed: 0</th>\n",
              "      <th>Cleaned_Text</th>\n",
              "      <th>Compond_Score</th>\n",
              "      <th>Positive_Score</th>\n",
              "      <th>Negative_Score</th>\n",
              "    </tr>\n",
              "  </thead>\n",
              "  <tbody>\n",
              "    <tr>\n",
              "      <th>0</th>\n",
              "      <td>0</td>\n",
              "      <td>mmpadellan pfizer literally millions doses v...</td>\n",
              "      <td>0.0000</td>\n",
              "      <td>0.000</td>\n",
              "      <td>0.000</td>\n",
              "    </tr>\n",
              "    <tr>\n",
              "      <th>1</th>\n",
              "      <td>1</td>\n",
              "      <td>rmayemsinger rupe  murdoch fox news called c...</td>\n",
              "      <td>-0.6808</td>\n",
              "      <td>0.092</td>\n",
              "      <td>0.283</td>\n",
              "    </tr>\n",
              "    <tr>\n",
              "      <th>2</th>\n",
              "      <td>2</td>\n",
              "      <td>telushk get vaccine turn horse oh well</td>\n",
              "      <td>0.2732</td>\n",
              "      <td>0.259</td>\n",
              "      <td>0.000</td>\n",
              "    </tr>\n",
              "    <tr>\n",
              "      <th>3</th>\n",
              "      <td>3</td>\n",
              "      <td>stevenbeschloss argument pence get vaccine e...</td>\n",
              "      <td>0.4215</td>\n",
              "      <td>0.298</td>\n",
              "      <td>0.140</td>\n",
              "    </tr>\n",
              "    <tr>\n",
              "      <th>4</th>\n",
              "      <td>4</td>\n",
              "      <td>mollyjongfast rupe  murdoch got covid vaccin...</td>\n",
              "      <td>-0.3612</td>\n",
              "      <td>0.000</td>\n",
              "      <td>0.143</td>\n",
              "    </tr>\n",
              "  </tbody>\n",
              "</table>\n",
              "</div>"
            ],
            "text/plain": [
              "   Unnamed: 0  ... Negative_Score\n",
              "0           0  ...          0.000\n",
              "1           1  ...          0.283\n",
              "2           2  ...          0.000\n",
              "3           3  ...          0.140\n",
              "4           4  ...          0.143\n",
              "\n",
              "[5 rows x 5 columns]"
            ]
          },
          "metadata": {
            "tags": []
          },
          "execution_count": 10
        }
      ]
    },
    {
      "cell_type": "code",
      "metadata": {
        "id": "NWAB32uaDF9l",
        "colab": {
          "base_uri": "https://localhost:8080/"
        },
        "outputId": "a4c78309-449b-47b6-b415-6b3fb50e861c"
      },
      "source": [
        "#getting number of Positive Sentiments\n",
        "len(clean_text[clean_text.Compond_Score > 0])"
      ],
      "execution_count": 11,
      "outputs": [
        {
          "output_type": "execute_result",
          "data": {
            "text/plain": [
              "996"
            ]
          },
          "metadata": {
            "tags": []
          },
          "execution_count": 11
        }
      ]
    },
    {
      "cell_type": "code",
      "metadata": {
        "id": "e2nZ69NnDF9o",
        "colab": {
          "base_uri": "https://localhost:8080/"
        },
        "outputId": "fa73c361-4a30-4a78-e0d9-d8e9a45e36d9"
      },
      "source": [
        "#getting number of Negative Sentiments\n",
        "len(clean_text[clean_text.Compond_Score < 0])"
      ],
      "execution_count": 12,
      "outputs": [
        {
          "output_type": "execute_result",
          "data": {
            "text/plain": [
              "281"
            ]
          },
          "metadata": {
            "tags": []
          },
          "execution_count": 12
        }
      ]
    },
    {
      "cell_type": "code",
      "metadata": {
        "id": "6P4hj1aFDF9q",
        "colab": {
          "base_uri": "https://localhost:8080/"
        },
        "outputId": "1c0de8b2-d51a-40bf-851b-fcc34c62d278"
      },
      "source": [
        "clean_text.shape"
      ],
      "execution_count": 13,
      "outputs": [
        {
          "output_type": "execute_result",
          "data": {
            "text/plain": [
              "(1432, 5)"
            ]
          },
          "metadata": {
            "tags": []
          },
          "execution_count": 13
        }
      ]
    }
  ]
}