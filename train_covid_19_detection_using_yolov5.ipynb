{
  "nbformat": 4,
  "nbformat_minor": 0,
  "metadata": {
    "kernelspec": {
      "language": "python",
      "display_name": "Python 3",
      "name": "python3"
    },
    "language_info": {
      "name": "python",
      "version": "3.7.10",
      "mimetype": "text/x-python",
      "codemirror_mode": {
        "name": "ipython",
        "version": 3
      },
      "pygments_lexer": "ipython3",
      "nbconvert_exporter": "python",
      "file_extension": ".py"
    },
    "colab": {
      "name": "train-covid-19-detection-using-yolov5.ipynb",
      "provenance": [],
      "include_colab_link": true
    }
  },
  "cells": [
    {
      "cell_type": "markdown",
      "metadata": {
        "id": "view-in-github",
        "colab_type": "text"
      },
      "source": [
        "<a href=\"https://colab.research.google.com/github/SumitMohan/Covid-19-Vaccine/blob/main/train_covid_19_detection_using_yolov5.ipynb\" target=\"_parent\"><img src=\"https://colab.research.google.com/assets/colab-badge.svg\" alt=\"Open In Colab\"/></a>"
      ]
    },
    {
      "cell_type": "markdown",
      "metadata": {
        "id": "mpLb6EcP_2bQ"
      },
      "source": [
        "This is a starter kernel to train a YOLOv5 model on [SIIM-FISABIO-RSNA COVID-19 Detection](https://www.kaggle.com/c/siim-covid19-detection/overview) dataset. Given an input image the task is to find the region of opacity in the chest  using bounding box coordinates. Check out [Visualize Bounding Boxes Interactively](https://www.kaggle.com/ayuraj/visualize-bounding-boxes-interactively) for interactive bounding box EDA. \n",
        "\n",
        "## 🖼️ What is YOLOv5?\n",
        "\n",
        "YOLO an acronym for 'You only look once', is an object detection algorithm that divides images into a grid system. Each cell in the grid is responsible for detecting objects within itself.\n",
        "\n",
        "[Ultralytics' YOLOv5](https://ultralytics.com/yolov5) (\"You Only Look Once\") model family enables real-time object detection with convolutional neural networks. \n",
        "\n",
        "## 🦄 What is Weights and Biases?\n",
        "\n",
        "Weights & Biases (W&B) is a set of machine learning tools that helps you build better models faster. Check out [Experiment Tracking with Weights and Biases](https://www.kaggle.com/ayuraj/experiment-tracking-with-weights-and-biases) to learn more.  \n",
        "Weights & Biases is directly integrated into YOLOv5, providing experiment metric tracking, model and dataset versioning, rich model prediction visualization, and more.\n",
        "\n",
        "\n",
        "It's a work in progress:\n",
        "\n",
        "✔️ Required folder structure. <br>\n",
        "✔️ Bounding box format required for YOLOv5. <br>\n",
        "✔️ **Train** a small YOLOv5 model. <br>\n",
        "✔️ Experiment tracking with W&B. <br>\n",
        "✔️ Proper documentation <br>\n",
        "✔️ Inference <br>\n",
        "\n",
        "❌ Model prediction visualization. \n",
        "\n",
        "## Results \n",
        "\n",
        "### [Check out W&B Run Page $\\rightarrow$](https://wandb.ai/ayush-thakur/kaggle-siim-covid/runs/1bk93e3j)\n",
        "\n",
        "![img](https://i.imgur.com/quOYtNN.gif)"
      ]
    },
    {
      "cell_type": "markdown",
      "metadata": {
        "id": "i9_2NBlW_2bg"
      },
      "source": [
        "# ☀️ Imports and Setup\n",
        "\n",
        "According to the official [Train Custom Data](https://github.com/ultralytics/yolov5/wiki/Train-Custom-Data) guide, YOLOv5 requires a certain directory structure. \n",
        "\n",
        "```\n",
        "/parent_folder\n",
        "    /dataset\n",
        "         /images\n",
        "         /labels\n",
        "    /yolov5\n",
        "```\n",
        "\n",
        "* We thus will create a `/tmp` directory. <br>\n",
        "* Download YOLOv5 repository and pip install the required dependencies. <br>\n",
        "* Install the latest version of W&B and login with your wandb account. You can create your free W&B account [here](https://wandb.ai/site)."
      ]
    },
    {
      "cell_type": "code",
      "metadata": {
        "execution": {
          "iopub.status.busy": "2021-05-23T18:06:02.820528Z",
          "iopub.execute_input": "2021-05-23T18:06:02.820894Z",
          "iopub.status.idle": "2021-05-23T18:06:03.466888Z",
          "shell.execute_reply.started": "2021-05-23T18:06:02.820816Z",
          "shell.execute_reply": "2021-05-23T18:06:03.465914Z"
        },
        "trusted": true,
        "id": "tz2fWG1__2bj",
        "outputId": "405a04e5-6c93-4838-97d2-2539ff817d3c"
      },
      "source": [
        "%cd ../\n",
        "!mkdir tmp\n",
        "%cd tmp"
      ],
      "execution_count": null,
      "outputs": [
        {
          "name": "stdout",
          "text": "/kaggle\n/kaggle/tmp\n",
          "output_type": "stream"
        }
      ]
    },
    {
      "cell_type": "code",
      "metadata": {
        "execution": {
          "iopub.status.busy": "2021-05-23T18:06:28.331640Z",
          "iopub.execute_input": "2021-05-23T18:06:28.332089Z",
          "iopub.status.idle": "2021-05-23T18:06:45.942785Z",
          "shell.execute_reply.started": "2021-05-23T18:06:28.332042Z",
          "shell.execute_reply": "2021-05-23T18:06:45.941771Z"
        },
        "trusted": true,
        "id": "UqCd252f_2bq",
        "outputId": "f4da8eba-113c-448d-9efe-8c2bacd1fbc8"
      },
      "source": [
        "# Download YOLOv5\n",
        "!git clone https://github.com/ultralytics/yolov5  # clone repo\n",
        "%cd yolov5\n",
        "# Install dependencies\n",
        "%pip install -qr requirements.txt  # install dependencies\n",
        "\n",
        "%cd ../\n",
        "import torch\n",
        "print(f\"Setup complete. Using torch {torch.__version__} ({torch.cuda.get_device_properties(0).name if torch.cuda.is_available() else 'CPU'})\")"
      ],
      "execution_count": null,
      "outputs": [
        {
          "name": "stdout",
          "text": "Cloning into 'yolov5'...\nremote: Enumerating objects: 6378, done.\u001b[K\nremote: Counting objects: 100% (97/97), done.\u001b[K\nremote: Compressing objects: 100% (78/78), done.\u001b[K\nremote: Total 6378 (delta 52), reused 45 (delta 19), pack-reused 6281\u001b[K\nReceiving objects: 100% (6378/6378), 8.59 MiB | 20.27 MiB/s, done.\nResolving deltas: 100% (4354/4354), done.\n/kaggle/tmp/yolov5\nNote: you may need to restart the kernel to use updated packages.\n/kaggle/tmp\nSetup complete. Using torch 1.7.0 (Tesla P100-PCIE-16GB)\n",
          "output_type": "stream"
        }
      ]
    },
    {
      "cell_type": "code",
      "metadata": {
        "execution": {
          "iopub.status.busy": "2021-05-23T18:06:48.572138Z",
          "iopub.execute_input": "2021-05-23T18:06:48.572467Z",
          "iopub.status.idle": "2021-05-23T18:07:13.086008Z",
          "shell.execute_reply.started": "2021-05-23T18:06:48.572434Z",
          "shell.execute_reply": "2021-05-23T18:07:13.085120Z"
        },
        "trusted": true,
        "id": "pLEy8EVW_2bt",
        "outputId": "e678b550-b012-4fe0-cdb7-b1867574a392"
      },
      "source": [
        "# Install W&B \n",
        "!pip install -q --upgrade wandb\n",
        "# Login \n",
        "import wandb\n",
        "wandb.login()"
      ],
      "execution_count": null,
      "outputs": [
        {
          "name": "stderr",
          "text": "\u001b[34m\u001b[1mwandb\u001b[0m: You can find your API key in your browser here: https://wandb.ai/authorize\n",
          "output_type": "stream"
        },
        {
          "output_type": "stream",
          "name": "stdin",
          "text": "\u001b[34m\u001b[1mwandb\u001b[0m: Paste an API key from your profile and hit enter:  ········································\n"
        },
        {
          "name": "stderr",
          "text": "\u001b[34m\u001b[1mwandb\u001b[0m: Appending key for api.wandb.ai to your netrc file: /root/.netrc\n",
          "output_type": "stream"
        },
        {
          "execution_count": 3,
          "output_type": "execute_result",
          "data": {
            "text/plain": "True"
          },
          "metadata": {}
        }
      ]
    },
    {
      "cell_type": "code",
      "metadata": {
        "_uuid": "8f2839f25d086af736a60e9eeb907d3b93b6e0e5",
        "_cell_guid": "b1076dfc-b9ad-4769-8c92-a6c4dae69d19",
        "execution": {
          "iopub.status.busy": "2021-05-23T18:07:15.852844Z",
          "iopub.execute_input": "2021-05-23T18:07:15.853219Z",
          "iopub.status.idle": "2021-05-23T18:07:16.896693Z",
          "shell.execute_reply.started": "2021-05-23T18:07:15.853182Z",
          "shell.execute_reply": "2021-05-23T18:07:16.895794Z"
        },
        "trusted": true,
        "id": "D-qx7K4e_2bw"
      },
      "source": [
        "# Necessary/extra dependencies. \n",
        "import os\n",
        "import gc\n",
        "import cv2\n",
        "import numpy as np\n",
        "import pandas as pd\n",
        "from tqdm import tqdm\n",
        "from shutil import copyfile\n",
        "import matplotlib.pyplot as plt\n",
        "from sklearn.model_selection import train_test_split\n",
        "\n",
        "#customize iPython writefile so we can write variables\n",
        "from IPython.core.magic import register_line_cell_magic\n",
        "\n",
        "@register_line_cell_magic\n",
        "def writetemplate(line, cell):\n",
        "    with open(line, 'w') as f:\n",
        "        f.write(cell.format(**globals()))"
      ],
      "execution_count": null,
      "outputs": []
    },
    {
      "cell_type": "markdown",
      "metadata": {
        "id": "BlnlZ7-n_2by"
      },
      "source": [
        "# 🦆 Hyperparameters"
      ]
    },
    {
      "cell_type": "code",
      "metadata": {
        "execution": {
          "iopub.status.busy": "2021-05-23T18:13:04.680603Z",
          "iopub.execute_input": "2021-05-23T18:13:04.680954Z",
          "iopub.status.idle": "2021-05-23T18:13:04.685913Z",
          "shell.execute_reply.started": "2021-05-23T18:13:04.680920Z",
          "shell.execute_reply": "2021-05-23T18:13:04.685069Z"
        },
        "trusted": true,
        "id": "KgHXEuvk_2b1"
      },
      "source": [
        "TRAIN_PATH = 'input/siim-covid19-resized-to-256px-jpg/train/'\n",
        "IMG_SIZE = 256\n",
        "BATCH_SIZE = 16\n",
        "EPOCHS = 10"
      ],
      "execution_count": null,
      "outputs": []
    },
    {
      "cell_type": "markdown",
      "metadata": {
        "id": "nt1TpLHJ_2b3"
      },
      "source": [
        "# 🔨 Prepare Dataset\n",
        "\n",
        "This is the most important section when it comes to training an object detector with YOLOv5. The directory structure, bounding box format, etc must be in the correct order. This section builds every piece needed to train a YOLOv5 model.\n",
        "\n",
        "I am using [xhlulu's](https://www.kaggle.com/xhlulu) resized dataset. The uploaded 256x256 Kaggle dataset is [here](https://www.kaggle.com/xhlulu/siim-covid19-resized-to-256px-jpg). Find other image resolutions [here](https://www.kaggle.com/c/siim-covid19-detection/discussion/239918).\n",
        "\n",
        "* Create train-validation split. <br>\n",
        "* Create required `/dataset` folder structure and more the images to that folder. <br>\n",
        "* Create `data.yaml` file needed to train the model. <br>\n",
        "* Create bounding box coordinates in the required YOLO format. "
      ]
    },
    {
      "cell_type": "code",
      "metadata": {
        "execution": {
          "iopub.status.busy": "2021-05-23T18:08:28.658939Z",
          "iopub.execute_input": "2021-05-23T18:08:28.659328Z",
          "iopub.status.idle": "2021-05-23T18:08:28.952160Z",
          "shell.execute_reply.started": "2021-05-23T18:08:28.659293Z",
          "shell.execute_reply": "2021-05-23T18:08:28.951122Z"
        },
        "trusted": true,
        "id": "7_g14N4L_2b7",
        "outputId": "8372debb-c646-4fd4-b4f1-5bc99c9fd3a6"
      },
      "source": [
        "# Everything is done from /kaggle directory.\n",
        "%cd ../\n",
        "\n",
        "# Load image level csv file\n",
        "df = pd.read_csv('input/siim-covid19-detection/train_image_level.csv')\n",
        "\n",
        "# Modify values in the id column\n",
        "df['id'] = df.apply(lambda row: row.id.split('_')[0], axis=1)\n",
        "# Add absolute path\n",
        "df['path'] = df.apply(lambda row: TRAIN_PATH+row.id+'.jpg', axis=1)\n",
        "# Get image level labels\n",
        "df['image_level'] = df.apply(lambda row: row.label.split(' ')[0], axis=1)\n",
        "\n",
        "df.head(5)"
      ],
      "execution_count": null,
      "outputs": [
        {
          "execution_count": 6,
          "output_type": "execute_result",
          "data": {
            "text/plain": "             id                                              boxes  \\\n0  000a312787f2  [{'x': 789.28836, 'y': 582.43035, 'width': 102...   \n1  000c3a3f293f                                                NaN   \n2  0012ff7358bc  [{'x': 677.42216, 'y': 197.97662, 'width': 867...   \n3  001398f4ff4f  [{'x': 2729, 'y': 2181.33331, 'width': 948.000...   \n4  001bd15d1891  [{'x': 623.23328, 'y': 1050, 'width': 714, 'he...   \n\n                                               label StudyInstanceUID  \\\n0  opacity 1 789.28836 582.43035 1815.94498 2499....     5776db0cec75   \n1                                     none 1 0 0 1 1     ff0879eb20ed   \n2  opacity 1 677.42216 197.97662 1545.21983 1197....     9d514ce429a7   \n3    opacity 1 2729 2181.33331 3677.00012 2785.33331     28dddc8559b2   \n4  opacity 1 623.23328 1050 1337.23328 2156 opaci...     dfd9fdd85a3e   \n\n                                                path image_level  \n0  input/siim-covid19-resized-to-256px-jpg/train/...     opacity  \n1  input/siim-covid19-resized-to-256px-jpg/train/...        none  \n2  input/siim-covid19-resized-to-256px-jpg/train/...     opacity  \n3  input/siim-covid19-resized-to-256px-jpg/train/...     opacity  \n4  input/siim-covid19-resized-to-256px-jpg/train/...     opacity  ",
            "text/html": "<div>\n<style scoped>\n    .dataframe tbody tr th:only-of-type {\n        vertical-align: middle;\n    }\n\n    .dataframe tbody tr th {\n        vertical-align: top;\n    }\n\n    .dataframe thead th {\n        text-align: right;\n    }\n</style>\n<table border=\"1\" class=\"dataframe\">\n  <thead>\n    <tr style=\"text-align: right;\">\n      <th></th>\n      <th>id</th>\n      <th>boxes</th>\n      <th>label</th>\n      <th>StudyInstanceUID</th>\n      <th>path</th>\n      <th>image_level</th>\n    </tr>\n  </thead>\n  <tbody>\n    <tr>\n      <th>0</th>\n      <td>000a312787f2</td>\n      <td>[{'x': 789.28836, 'y': 582.43035, 'width': 102...</td>\n      <td>opacity 1 789.28836 582.43035 1815.94498 2499....</td>\n      <td>5776db0cec75</td>\n      <td>input/siim-covid19-resized-to-256px-jpg/train/...</td>\n      <td>opacity</td>\n    </tr>\n    <tr>\n      <th>1</th>\n      <td>000c3a3f293f</td>\n      <td>NaN</td>\n      <td>none 1 0 0 1 1</td>\n      <td>ff0879eb20ed</td>\n      <td>input/siim-covid19-resized-to-256px-jpg/train/...</td>\n      <td>none</td>\n    </tr>\n    <tr>\n      <th>2</th>\n      <td>0012ff7358bc</td>\n      <td>[{'x': 677.42216, 'y': 197.97662, 'width': 867...</td>\n      <td>opacity 1 677.42216 197.97662 1545.21983 1197....</td>\n      <td>9d514ce429a7</td>\n      <td>input/siim-covid19-resized-to-256px-jpg/train/...</td>\n      <td>opacity</td>\n    </tr>\n    <tr>\n      <th>3</th>\n      <td>001398f4ff4f</td>\n      <td>[{'x': 2729, 'y': 2181.33331, 'width': 948.000...</td>\n      <td>opacity 1 2729 2181.33331 3677.00012 2785.33331</td>\n      <td>28dddc8559b2</td>\n      <td>input/siim-covid19-resized-to-256px-jpg/train/...</td>\n      <td>opacity</td>\n    </tr>\n    <tr>\n      <th>4</th>\n      <td>001bd15d1891</td>\n      <td>[{'x': 623.23328, 'y': 1050, 'width': 714, 'he...</td>\n      <td>opacity 1 623.23328 1050 1337.23328 2156 opaci...</td>\n      <td>dfd9fdd85a3e</td>\n      <td>input/siim-covid19-resized-to-256px-jpg/train/...</td>\n      <td>opacity</td>\n    </tr>\n  </tbody>\n</table>\n</div>"
          },
          "metadata": {}
        }
      ]
    },
    {
      "cell_type": "code",
      "metadata": {
        "execution": {
          "iopub.status.busy": "2021-05-23T18:08:34.936443Z",
          "iopub.execute_input": "2021-05-23T18:08:34.936784Z",
          "iopub.status.idle": "2021-05-23T18:08:34.966096Z",
          "shell.execute_reply.started": "2021-05-23T18:08:34.936751Z",
          "shell.execute_reply": "2021-05-23T18:08:34.965320Z"
        },
        "trusted": true,
        "id": "dTJLoTde_2b9",
        "outputId": "060fd8b6-4a33-437f-e1a9-274ee003b57b"
      },
      "source": [
        "# Load meta.csv file\n",
        "# Original dimensions are required to scale the bounding box coordinates appropriately.\n",
        "meta_df = pd.read_csv('input/siim-covid19-resized-to-256px-jpg/meta.csv')\n",
        "train_meta_df = meta_df.loc[meta_df.split == 'train']\n",
        "train_meta_df = train_meta_df.drop('split', axis=1)\n",
        "train_meta_df.columns = ['id', 'dim0', 'dim1']\n",
        "\n",
        "train_meta_df.head(2)"
      ],
      "execution_count": null,
      "outputs": [
        {
          "execution_count": 7,
          "output_type": "execute_result",
          "data": {
            "text/plain": "                id  dim0  dim1\n1263  d8ba599611e5  2336  2836\n1264  29b23a11d1e4  3488  4256",
            "text/html": "<div>\n<style scoped>\n    .dataframe tbody tr th:only-of-type {\n        vertical-align: middle;\n    }\n\n    .dataframe tbody tr th {\n        vertical-align: top;\n    }\n\n    .dataframe thead th {\n        text-align: right;\n    }\n</style>\n<table border=\"1\" class=\"dataframe\">\n  <thead>\n    <tr style=\"text-align: right;\">\n      <th></th>\n      <th>id</th>\n      <th>dim0</th>\n      <th>dim1</th>\n    </tr>\n  </thead>\n  <tbody>\n    <tr>\n      <th>1263</th>\n      <td>d8ba599611e5</td>\n      <td>2336</td>\n      <td>2836</td>\n    </tr>\n    <tr>\n      <th>1264</th>\n      <td>29b23a11d1e4</td>\n      <td>3488</td>\n      <td>4256</td>\n    </tr>\n  </tbody>\n</table>\n</div>"
          },
          "metadata": {}
        }
      ]
    },
    {
      "cell_type": "code",
      "metadata": {
        "execution": {
          "iopub.status.busy": "2021-05-23T18:08:37.141289Z",
          "iopub.execute_input": "2021-05-23T18:08:37.144277Z",
          "iopub.status.idle": "2021-05-23T18:08:37.171266Z",
          "shell.execute_reply.started": "2021-05-23T18:08:37.144228Z",
          "shell.execute_reply": "2021-05-23T18:08:37.170415Z"
        },
        "trusted": true,
        "id": "UDa2evir_2cA",
        "outputId": "179bba66-fd60-436b-d31c-806f9f5eaedf"
      },
      "source": [
        "# Merge both the dataframes\n",
        "df = df.merge(train_meta_df, on='id',how=\"left\")\n",
        "df.head(2)"
      ],
      "execution_count": null,
      "outputs": [
        {
          "execution_count": 8,
          "output_type": "execute_result",
          "data": {
            "text/plain": "             id                                              boxes  \\\n0  000a312787f2  [{'x': 789.28836, 'y': 582.43035, 'width': 102...   \n1  000c3a3f293f                                                NaN   \n\n                                               label StudyInstanceUID  \\\n0  opacity 1 789.28836 582.43035 1815.94498 2499....     5776db0cec75   \n1                                     none 1 0 0 1 1     ff0879eb20ed   \n\n                                                path image_level  dim0  dim1  \n0  input/siim-covid19-resized-to-256px-jpg/train/...     opacity  3488  4256  \n1  input/siim-covid19-resized-to-256px-jpg/train/...        none  2320  2832  ",
            "text/html": "<div>\n<style scoped>\n    .dataframe tbody tr th:only-of-type {\n        vertical-align: middle;\n    }\n\n    .dataframe tbody tr th {\n        vertical-align: top;\n    }\n\n    .dataframe thead th {\n        text-align: right;\n    }\n</style>\n<table border=\"1\" class=\"dataframe\">\n  <thead>\n    <tr style=\"text-align: right;\">\n      <th></th>\n      <th>id</th>\n      <th>boxes</th>\n      <th>label</th>\n      <th>StudyInstanceUID</th>\n      <th>path</th>\n      <th>image_level</th>\n      <th>dim0</th>\n      <th>dim1</th>\n    </tr>\n  </thead>\n  <tbody>\n    <tr>\n      <th>0</th>\n      <td>000a312787f2</td>\n      <td>[{'x': 789.28836, 'y': 582.43035, 'width': 102...</td>\n      <td>opacity 1 789.28836 582.43035 1815.94498 2499....</td>\n      <td>5776db0cec75</td>\n      <td>input/siim-covid19-resized-to-256px-jpg/train/...</td>\n      <td>opacity</td>\n      <td>3488</td>\n      <td>4256</td>\n    </tr>\n    <tr>\n      <th>1</th>\n      <td>000c3a3f293f</td>\n      <td>NaN</td>\n      <td>none 1 0 0 1 1</td>\n      <td>ff0879eb20ed</td>\n      <td>input/siim-covid19-resized-to-256px-jpg/train/...</td>\n      <td>none</td>\n      <td>2320</td>\n      <td>2832</td>\n    </tr>\n  </tbody>\n</table>\n</div>"
          },
          "metadata": {}
        }
      ]
    },
    {
      "cell_type": "markdown",
      "metadata": {
        "id": "GixM1eBO_2cB"
      },
      "source": [
        "## 🍘 Train-validation split"
      ]
    },
    {
      "cell_type": "code",
      "metadata": {
        "_kg_hide-input": true,
        "_kg_hide-output": true,
        "trusted": true,
        "id": "XOw_R2oy_2cD"
      },
      "source": [
        "# Create train and validation split.\n",
        "train_df, valid_df = train_test_split(df, test_size=0.2, random_state=42, stratify=df.image_level.values)\n",
        "\n",
        "train_df.loc[:, 'split'] = 'train'\n",
        "valid_df.loc[:, 'split'] = 'valid'\n",
        "\n",
        "df = pd.concat([train_df, valid_df]).reset_index(drop=True)"
      ],
      "execution_count": null,
      "outputs": []
    },
    {
      "cell_type": "code",
      "metadata": {
        "execution": {
          "iopub.status.busy": "2021-05-23T18:08:55.722085Z",
          "iopub.execute_input": "2021-05-23T18:08:55.722415Z",
          "iopub.status.idle": "2021-05-23T18:08:55.727602Z",
          "shell.execute_reply.started": "2021-05-23T18:08:55.722384Z",
          "shell.execute_reply": "2021-05-23T18:08:55.726774Z"
        },
        "trusted": true,
        "id": "heHMabUk_2cH",
        "outputId": "ec18eb7a-9981-431c-c979-a0eb67cb8a25"
      },
      "source": [
        "print(f'Size of dataset: {len(df)}, training images: {len(train_df)}. validation images: {len(valid_df)}')"
      ],
      "execution_count": null,
      "outputs": [
        {
          "name": "stdout",
          "text": "Size of dataset: 6334, training images: 5067. validation images: 1267\n",
          "output_type": "stream"
        }
      ]
    },
    {
      "cell_type": "markdown",
      "metadata": {
        "id": "s8g8rTgK_2cJ"
      },
      "source": [
        "## 🍚 Prepare Required Folder Structure\n",
        "\n",
        "The required folder structure for the dataset directory is: \n",
        "\n",
        "```\n",
        "/parent_folder\n",
        "    /dataset\n",
        "         /images\n",
        "             /train\n",
        "             /val\n",
        "         /labels\n",
        "             /train\n",
        "             /val\n",
        "    /yolov5\n",
        "```\n",
        "\n",
        "Note that I have named the directory `covid`."
      ]
    },
    {
      "cell_type": "code",
      "metadata": {
        "execution": {
          "iopub.status.busy": "2021-05-23T18:08:59.704220Z",
          "iopub.execute_input": "2021-05-23T18:08:59.704612Z",
          "iopub.status.idle": "2021-05-23T18:09:00.342525Z",
          "shell.execute_reply.started": "2021-05-23T18:08:59.704554Z",
          "shell.execute_reply": "2021-05-23T18:09:00.341607Z"
        },
        "trusted": true,
        "id": "mKu_F9cO_2cK",
        "outputId": "5104853b-b24c-4960-bc1d-539fcae000d8"
      },
      "source": [
        "os.makedirs('tmp/covid/images/train', exist_ok=True)\n",
        "os.makedirs('tmp/covid/images/valid', exist_ok=True)\n",
        "\n",
        "os.makedirs('tmp/covid/labels/train', exist_ok=True)\n",
        "os.makedirs('tmp/covid/labels/valid', exist_ok=True)\n",
        "\n",
        "! ls tmp/covid/images"
      ],
      "execution_count": null,
      "outputs": [
        {
          "name": "stdout",
          "text": "train  valid\n",
          "output_type": "stream"
        }
      ]
    },
    {
      "cell_type": "code",
      "metadata": {
        "execution": {
          "iopub.status.busy": "2021-05-23T18:09:06.082075Z",
          "iopub.execute_input": "2021-05-23T18:09:06.082424Z",
          "iopub.status.idle": "2021-05-23T18:09:45.775853Z",
          "shell.execute_reply.started": "2021-05-23T18:09:06.082391Z",
          "shell.execute_reply": "2021-05-23T18:09:45.774091Z"
        },
        "trusted": true,
        "id": "VH4BILmK_2cN",
        "outputId": "97eb13fc-acc5-4af2-a5c1-5f9fe7afd674"
      },
      "source": [
        "# Move the images to relevant split folder.\n",
        "for i in tqdm(range(len(df))):\n",
        "    row = df.loc[i]\n",
        "    if row.split == 'train':\n",
        "        copyfile(row.path, f'tmp/covid/images/train/{row.id}.jpg')\n",
        "    else:\n",
        "        copyfile(row.path, f'tmp/covid/images/valid/{row.id}.jpg')"
      ],
      "execution_count": null,
      "outputs": [
        {
          "name": "stderr",
          "text": "100%|██████████| 6334/6334 [00:39<00:00, 159.63it/s]\n",
          "output_type": "stream"
        }
      ]
    },
    {
      "cell_type": "markdown",
      "metadata": {
        "id": "_HdmOuwQ_2cQ"
      },
      "source": [
        "## 🍜 Create `.YAML` file\n",
        "\n",
        "The `data.yaml`, is the dataset configuration file that defines \n",
        "\n",
        "1. an \"optional\" download command/URL for auto-downloading, \n",
        "2. a path to a directory of training images (or path to a *.txt file with a list of training images), \n",
        "3. a path to a directory of validation images (or path to a *.txt file with a list of validation images), \n",
        "4. the number of classes, \n",
        "5. a list of class names.\n",
        "\n",
        "> 📍 Important: In this competition, each image can either belong to `opacity` or `none` image-level labels. That's why I have  used the number of classes, `nc` to be 2. YOLOv5 automatically handles the images without any bounding box coordinates. \n",
        "\n",
        "> 📍 Note: The `data.yaml` is created in the `yolov5/data` directory as required. "
      ]
    },
    {
      "cell_type": "code",
      "metadata": {
        "execution": {
          "iopub.status.busy": "2021-05-23T18:10:00.492508Z",
          "iopub.execute_input": "2021-05-23T18:10:00.492832Z",
          "iopub.status.idle": "2021-05-23T18:10:01.142567Z",
          "shell.execute_reply.started": "2021-05-23T18:10:00.492803Z",
          "shell.execute_reply": "2021-05-23T18:10:01.141556Z"
        },
        "trusted": true,
        "id": "1vhMEjEh_2cR",
        "outputId": "880da243-6490-49f1-aeb3-cb066f9a1e9e"
      },
      "source": [
        "# Create .yaml file \n",
        "import yaml\n",
        "\n",
        "data_yaml = dict(\n",
        "    train = '../covid/images/train',\n",
        "    val = '../covid/images/valid',\n",
        "    nc = 2,\n",
        "    names = ['none', 'opacity']\n",
        ")\n",
        "\n",
        "# Note that I am creating the file in the yolov5/data/ directory.\n",
        "with open('tmp/yolov5/data/data.yaml', 'w') as outfile:\n",
        "    yaml.dump(data_yaml, outfile, default_flow_style=True)\n",
        "    \n",
        "%cat tmp/yolov5/data/data.yaml"
      ],
      "execution_count": null,
      "outputs": [
        {
          "name": "stdout",
          "text": "{names: [none, opacity], nc: 2, train: ../covid/images/train, val: ../covid/images/valid}\n",
          "output_type": "stream"
        }
      ]
    },
    {
      "cell_type": "markdown",
      "metadata": {
        "id": "dbjkrnLR_2cT"
      },
      "source": [
        "## 🍮 Prepare Bounding Box Coordinated for YOLOv5\n",
        "\n",
        "For every image with **bounding box(es)** a `.txt` file with the same name as the image will be created in the format shown below:\n",
        "\n",
        "* One row per object. <br>\n",
        "* Each row is class `x_center y_center width height format`. <br>\n",
        "* Box coordinates must be in normalized xywh format (from 0 - 1). We can normalize by the boxes in pixels by dividing `x_center` and `width` by image width, and `y_center` and `height` by image height. <br>\n",
        "* Class numbers are zero-indexed (start from 0). <br>\n",
        "\n",
        "> 📍 Note: We don't have to remove the images without bounding boxes from the training or validation sets. "
      ]
    },
    {
      "cell_type": "code",
      "metadata": {
        "execution": {
          "iopub.status.busy": "2021-05-23T18:10:10.698643Z",
          "iopub.execute_input": "2021-05-23T18:10:10.698966Z",
          "iopub.status.idle": "2021-05-23T18:10:10.710508Z",
          "shell.execute_reply.started": "2021-05-23T18:10:10.698933Z",
          "shell.execute_reply": "2021-05-23T18:10:10.709460Z"
        },
        "trusted": true,
        "id": "3zqljZVz_2cU"
      },
      "source": [
        "# Get the raw bounding box by parsing the row value of the label column.\n",
        "# Ref: https://www.kaggle.com/yujiariyasu/plot-3positive-classes\n",
        "def get_bbox(row):\n",
        "    bboxes = []\n",
        "    bbox = []\n",
        "    for i, l in enumerate(row.label.split(' ')):\n",
        "        if (i % 6 == 0) | (i % 6 == 1):\n",
        "            continue\n",
        "        bbox.append(float(l))\n",
        "        if i % 6 == 5:\n",
        "            bboxes.append(bbox)\n",
        "            bbox = []  \n",
        "            \n",
        "    return bboxes\n",
        "\n",
        "# Scale the bounding boxes according to the size of the resized image. \n",
        "def scale_bbox(row, bboxes):\n",
        "    # Get scaling factor\n",
        "    scale_x = IMG_SIZE/row.dim1\n",
        "    scale_y = IMG_SIZE/row.dim0\n",
        "    \n",
        "    scaled_bboxes = []\n",
        "    for bbox in bboxes:\n",
        "        x = int(np.round(bbox[0]*scale_x, 4))\n",
        "        y = int(np.round(bbox[1]*scale_y, 4))\n",
        "        x1 = int(np.round(bbox[2]*(scale_x), 4))\n",
        "        y1= int(np.round(bbox[3]*scale_y, 4))\n",
        "\n",
        "        scaled_bboxes.append([x, y, x1, y1]) # xmin, ymin, xmax, ymax\n",
        "        \n",
        "    return scaled_bboxes\n",
        "\n",
        "# Convert the bounding boxes in YOLO format.\n",
        "def get_yolo_format_bbox(img_w, img_h, bboxes):\n",
        "    yolo_boxes = []\n",
        "    for bbox in bboxes:\n",
        "        w = bbox[2] - bbox[0] # xmax - xmin\n",
        "        h = bbox[3] - bbox[1] # ymax - ymin\n",
        "        xc = bbox[0] + int(np.round(w/2)) # xmin + width/2\n",
        "        yc = bbox[1] + int(np.round(h/2)) # ymin + height/2\n",
        "        \n",
        "        yolo_boxes.append([xc/img_w, yc/img_h, w/img_w, h/img_h]) # x_center y_center width height\n",
        "    \n",
        "    return yolo_boxes"
      ],
      "execution_count": null,
      "outputs": []
    },
    {
      "cell_type": "code",
      "metadata": {
        "execution": {
          "iopub.status.busy": "2021-05-23T18:13:14.619568Z",
          "iopub.execute_input": "2021-05-23T18:13:14.619879Z",
          "iopub.status.idle": "2021-05-23T18:13:17.406088Z",
          "shell.execute_reply.started": "2021-05-23T18:13:14.619850Z",
          "shell.execute_reply": "2021-05-23T18:13:17.405103Z"
        },
        "trusted": true,
        "id": "t5kF80FV_2cW",
        "outputId": "3d97c591-5237-45b1-a176-46ed86458b48"
      },
      "source": [
        "# Prepare the txt files for bounding box\n",
        "for i in tqdm(range(len(df))):\n",
        "    row = df.loc[i]\n",
        "    # Get image id\n",
        "    img_id = row.id\n",
        "    # Get split\n",
        "    split = row.split\n",
        "    # Get image-level label\n",
        "    label = row.image_level\n",
        "    \n",
        "    if row.split=='train':\n",
        "        file_name = f'tmp/covid/labels/train/{row.id}.txt'\n",
        "    else:\n",
        "        file_name = f'tmp/covid/labels/valid/{row.id}.txt'\n",
        "        \n",
        "    \n",
        "    if label=='opacity':\n",
        "        # Get bboxes\n",
        "        bboxes = get_bbox(row)\n",
        "        # Scale bounding boxes\n",
        "        scale_bboxes = scale_bbox(row, bboxes)\n",
        "        # Format for YOLOv5\n",
        "        yolo_bboxes = get_yolo_format_bbox(IMG_SIZE, IMG_SIZE, scale_bboxes)\n",
        "        \n",
        "        with open(file_name, 'w') as f:\n",
        "            for bbox in yolo_bboxes:\n",
        "                bbox = [1]+bbox\n",
        "                bbox = [str(i) for i in bbox]\n",
        "                bbox = ' '.join(bbox)\n",
        "                f.write(bbox)\n",
        "                f.write('\\n')"
      ],
      "execution_count": null,
      "outputs": [
        {
          "name": "stderr",
          "text": "100%|██████████| 6334/6334 [00:02<00:00, 2281.10it/s]\n",
          "output_type": "stream"
        }
      ]
    },
    {
      "cell_type": "markdown",
      "metadata": {
        "id": "wcpUDv4p_2cZ"
      },
      "source": [
        "# 🚅 Train with W&B\n",
        "\n"
      ]
    },
    {
      "cell_type": "code",
      "metadata": {
        "execution": {
          "iopub.status.busy": "2021-05-23T23:38:03.562575Z",
          "iopub.execute_input": "2021-05-23T23:38:03.562896Z",
          "iopub.status.idle": "2021-05-23T23:38:03.570500Z",
          "shell.execute_reply.started": "2021-05-23T23:38:03.562868Z",
          "shell.execute_reply": "2021-05-23T23:38:03.569539Z"
        },
        "trusted": true,
        "id": "oSuz95Ft_2ca",
        "outputId": "cc396db5-2c9f-4b80-a620-c39f21e18a93"
      },
      "source": [
        "%cd tmp/yolov5/"
      ],
      "execution_count": null,
      "outputs": [
        {
          "name": "stdout",
          "text": "/kaggle/tmp/yolov5\n",
          "output_type": "stream"
        }
      ]
    },
    {
      "cell_type": "markdown",
      "metadata": {
        "id": "wcGKrEg9_2cb"
      },
      "source": [
        "```\n",
        "--img {IMG_SIZE} \\ # Input image size.\n",
        "--batch {BATCH_SIZE} \\ # Batch size\n",
        "--epochs {EPOCHS} \\ # Number of epochs\n",
        "--data data.yaml \\ # Configuration file\n",
        "--weights yolov5s.pt \\ # Model name\n",
        "--save_period 1\\ # Save model after interval\n",
        "--project kaggle-siim-covid # W&B project name\n",
        "```"
      ]
    },
    {
      "cell_type": "code",
      "metadata": {
        "execution": {
          "iopub.status.busy": "2021-05-23T18:13:45.999265Z",
          "iopub.execute_input": "2021-05-23T18:13:45.999586Z",
          "iopub.status.idle": "2021-05-23T18:22:29.021193Z",
          "shell.execute_reply.started": "2021-05-23T18:13:45.999557Z",
          "shell.execute_reply": "2021-05-23T18:22:29.020190Z"
        },
        "trusted": true,
        "id": "8Tfi2pbr_2cc",
        "outputId": "f7d28301-79b1-469c-c1a8-ebf6cfb7c08c"
      },
      "source": [
        "!python train.py --img {IMG_SIZE} \\\n",
        "                 --batch {BATCH_SIZE} \\\n",
        "                 --epochs {EPOCHS} \\\n",
        "                 --data data.yaml \\\n",
        "                 --weights yolov5s.pt \\\n",
        "                 --save_period 1\\\n",
        "                 --project kaggle-siim-covid"
      ],
      "execution_count": null,
      "outputs": [
        {
          "name": "stdout",
          "text": "\u001b[34m\u001b[1mgithub: \u001b[0mup to date with https://github.com/ultralytics/yolov5 ✅\n2021-05-23 18:13:50.717667: I tensorflow/stream_executor/platform/default/dso_loader.cc:49] Successfully opened dynamic library libcudart.so.11.0\n\u001b[34m\u001b[1mwandb\u001b[0m: Currently logged in as: \u001b[33mayush-thakur\u001b[0m (use `wandb login --relogin` to force relogin)\n2021-05-23 18:13:56.075046: I tensorflow/stream_executor/platform/default/dso_loader.cc:49] Successfully opened dynamic library libcudart.so.11.0\n2021-05-23 18:13:56.077405: I tensorflow/stream_executor/platform/default/dso_loader.cc:49] Successfully opened dynamic library libcudart.so.11.0\n\u001b[34m\u001b[1mwandb\u001b[0m: Tracking run with wandb version 0.10.30\n\u001b[34m\u001b[1mwandb\u001b[0m: Syncing run \u001b[33mexp\u001b[0m\n\u001b[34m\u001b[1mwandb\u001b[0m: ⭐️ View project at \u001b[34m\u001b[4mhttps://wandb.ai/ayush-thakur/kaggle-siim-covid\u001b[0m\n\u001b[34m\u001b[1mwandb\u001b[0m: 🚀 View run at \u001b[34m\u001b[4mhttps://wandb.ai/ayush-thakur/kaggle-siim-covid/runs/jbt74n7q\u001b[0m\n\u001b[34m\u001b[1mwandb\u001b[0m: Run data is saved locally in /kaggle/tmp/yolov5/wandb/run-20210523_181354-jbt74n7q\n\u001b[34m\u001b[1mwandb\u001b[0m: Run `wandb offline` to turn off syncing.\n\nDownloading https://github.com/ultralytics/yolov5/releases/download/v5.0/yolov5s.pt to yolov5s.pt...\n\nCondaEnvException: Unable to determine environment\n\nPlease re-run this command with one of the following options:\n\n* Provide an environment name via --name or -n\n* Re-run this command inside an activated conda environment.\n\n100%|██████████████████████████████████████| 14.1M/14.1M [00:00<00:00, 62.0MB/s]\n\n\u001b[34m\u001b[1mtrain: \u001b[0mScanning '../covid/labels/train' images and labels... 3435 found, 1632 mi\u001b[0m\n\u001b[34m\u001b[1mval: \u001b[0mScanning '../covid/labels/valid' images and labels... 859 found, 408 missin\u001b[0m\nPlotting labels... \n\n\u001b[34m\u001b[1mautoanchor: \u001b[0mAnalyzing anchors... anchors/target = 5.77, Best Possible Recall (BPR) = 1.0000\n       0/9    0.851G    0.1206   0.01181    0.0278    0.1602        32       256/opt/conda/lib/python3.7/site-packages/torch/jit/_trace.py:728: UserWarning: The input to trace is already a ScriptModule, tracing it is a no-op. Returning the object as is.\n  \"The input to trace is already a ScriptModule, tracing it is a no-op. Returning the object as is.\"\n       0/9    0.715G   0.08766   0.01898  0.008583    0.1152        28       256\n               Class      Images      Labels           P           R      mAP@.5\n                 all        1267        1582       0.247       0.331       0.165      0.0348\nSaving model artifact on epoch  1\n       1/9    0.799G   0.06602   0.01843 0.0009602    0.0854        28       256\n               Class      Images      Labels           P           R      mAP@.5\n                 all        1267        1582       0.334       0.353       0.248      0.0631\nSaving model artifact on epoch  2\n       2/9    0.799G   0.06232   0.01769  0.000751   0.08076        28       256\n               Class      Images      Labels           P           R      mAP@.5\n                 all        1267        1582       0.421       0.368       0.314      0.0817\nSaving model artifact on epoch  3\n       3/9    0.799G   0.05993    0.0176 0.0005233   0.07805        20       256\n               Class      Images      Labels           P           R      mAP@.5\n                 all        1267        1582       0.447       0.396       0.336       0.088\nSaving model artifact on epoch  4\n       4/9    0.799G    0.0582   0.01738   0.00035   0.07594        20       256\n               Class      Images      Labels           P           R      mAP@.5\n                 all        1267        1582        0.49       0.435       0.393       0.112\nSaving model artifact on epoch  5\n       5/9    0.799G   0.05715    0.0172 0.0002657   0.07462        23       256\n               Class      Images      Labels           P           R      mAP@.5\n                 all        1267        1582       0.493       0.463       0.403       0.116\nSaving model artifact on epoch  6\n       6/9    0.799G   0.05583   0.01713 0.0002068   0.07317        28       256\n               Class      Images      Labels           P           R      mAP@.5\n                 all        1267        1582       0.492       0.451       0.409        0.11\nSaving model artifact on epoch  7\n       7/9    0.799G   0.05491    0.0172 0.0001662   0.07228        23       256\n               Class      Images      Labels           P           R      mAP@.5\n                 all        1267        1582       0.538       0.419       0.416       0.109\nSaving model artifact on epoch  8\n       8/9    0.801G   0.05419   0.01697 0.0001305   0.07129        19       256\n               Class      Images      Labels           P           R      mAP@.5\n                 all        1267        1582       0.517       0.486       0.458       0.132\nSaving model artifact on epoch  9\n       9/9    0.801G   0.05356   0.01694 0.0001049   0.07061        24       256\n               Class      Images      Labels           P           R      mAP@.5\n                 all        1267        1582        0.53       0.484       0.446       0.132\n             opacity        1267        1582        0.53       0.484       0.446       0.132\nOptimizer stripped from kaggle-siim-covid/exp/weights/last.pt, 14.3MB\nOptimizer stripped from kaggle-siim-covid/exp/weights/best.pt, 14.3MB\n\n\u001b[34m\u001b[1mwandb\u001b[0m: Waiting for W&B process to finish, PID 434\n\u001b[34m\u001b[1mwandb\u001b[0m: Program ended successfully.\n\u001b[34m\u001b[1mwandb\u001b[0m:                                                                                \n\u001b[34m\u001b[1mwandb\u001b[0m: Find user logs for this run at: /kaggle/tmp/yolov5/wandb/run-20210523_181354-jbt74n7q/logs/debug.log\n\u001b[34m\u001b[1mwandb\u001b[0m: Find internal logs for this run at: /kaggle/tmp/yolov5/wandb/run-20210523_181354-jbt74n7q/logs/debug-internal.log\n\u001b[34m\u001b[1mwandb\u001b[0m: Run summary:\n\u001b[34m\u001b[1mwandb\u001b[0m:                 train/box_loss 0.05356\n\u001b[34m\u001b[1mwandb\u001b[0m:                 train/obj_loss 0.01694\n\u001b[34m\u001b[1mwandb\u001b[0m:                 train/cls_loss 0.0001\n\u001b[34m\u001b[1mwandb\u001b[0m:              metrics/precision 0.52993\n\u001b[34m\u001b[1mwandb\u001b[0m:                 metrics/recall 0.4842\n\u001b[34m\u001b[1mwandb\u001b[0m:                metrics/mAP_0.5 0.44571\n\u001b[34m\u001b[1mwandb\u001b[0m:           metrics/mAP_0.5:0.95 0.13173\n\u001b[34m\u001b[1mwandb\u001b[0m:                   val/box_loss 0.05714\n\u001b[34m\u001b[1mwandb\u001b[0m:                   val/obj_loss 0.00836\n\u001b[34m\u001b[1mwandb\u001b[0m:                   val/cls_loss 8e-05\n\u001b[34m\u001b[1mwandb\u001b[0m:                          x/lr0 0.00276\n\u001b[34m\u001b[1mwandb\u001b[0m:                          x/lr1 0.00276\n\u001b[34m\u001b[1mwandb\u001b[0m:                          x/lr2 0.00276\n\u001b[34m\u001b[1mwandb\u001b[0m:                       _runtime 508\n\u001b[34m\u001b[1mwandb\u001b[0m:                     _timestamp 1621794142\n\u001b[34m\u001b[1mwandb\u001b[0m:                          _step 10\n\u001b[34m\u001b[1mwandb\u001b[0m: Run history:\n\u001b[34m\u001b[1mwandb\u001b[0m:         train/box_loss █▄▃▂▂▂▁▁▁▁\n\u001b[34m\u001b[1mwandb\u001b[0m:         train/obj_loss █▆▄▃▃▂▂▂▁▁\n\u001b[34m\u001b[1mwandb\u001b[0m:         train/cls_loss █▂▂▁▁▁▁▁▁▁\n\u001b[34m\u001b[1mwandb\u001b[0m:      metrics/precision ▁▃▅▆▇▇▇█▇█\n\u001b[34m\u001b[1mwandb\u001b[0m:         metrics/recall ▁▂▃▄▆▇▆▅██\n\u001b[34m\u001b[1mwandb\u001b[0m:        metrics/mAP_0.5 ▁▃▅▅▆▇▇▇██\n\u001b[34m\u001b[1mwandb\u001b[0m:   metrics/mAP_0.5:0.95 ▁▃▄▅▇▇▆▆██\n\u001b[34m\u001b[1mwandb\u001b[0m:           val/box_loss █▇▅▄▃▂▂▂▁▁\n\u001b[34m\u001b[1mwandb\u001b[0m:           val/obj_loss █▃▃▃▂▂▂▁▁▁\n\u001b[34m\u001b[1mwandb\u001b[0m:           val/cls_loss █▇▅▃▃▂▂▁▁▁\n\u001b[34m\u001b[1mwandb\u001b[0m:                  x/lr0 ▁▅███▆▅▃▂▁\n\u001b[34m\u001b[1mwandb\u001b[0m:                  x/lr1 ▁▅███▆▅▃▂▁\n\u001b[34m\u001b[1mwandb\u001b[0m:                  x/lr2 █▅▂▂▂▁▁▁▁▁\n\u001b[34m\u001b[1mwandb\u001b[0m:               _runtime ▁▂▃▃▄▅▆▆▇██\n\u001b[34m\u001b[1mwandb\u001b[0m:             _timestamp ▁▂▃▃▄▅▆▆▇██\n\u001b[34m\u001b[1mwandb\u001b[0m:                  _step ▁▂▂▃▄▅▅▆▇▇█\n\u001b[34m\u001b[1mwandb\u001b[0m: \n\u001b[34m\u001b[1mwandb\u001b[0m: Synced 5 W&B file(s), 337 media file(s), 10 artifact file(s) and 0 other file(s)\n\u001b[34m\u001b[1mwandb\u001b[0m: \n\u001b[34m\u001b[1mwandb\u001b[0m: Synced \u001b[33mexp\u001b[0m: \u001b[34mhttps://wandb.ai/ayush-thakur/kaggle-siim-covid/runs/jbt74n7q\u001b[0m\n",
          "output_type": "stream"
        }
      ]
    },
    {
      "cell_type": "markdown",
      "metadata": {
        "id": "PlwZJv0a_2cd"
      },
      "source": [
        "## Model Saved Automatically as Artifact\n",
        "\n",
        "Since it's a kernel based competition, you can easily download the best model from the W&B Artifacts UI and upload as a Kaggle dataset that you can load in your inference kernel (internel disabled).\n",
        "\n",
        "### [Path to saved model $\\rightarrow$](https://wandb.ai/ayush-thakur/kaggle-siim-covid/artifacts/model/run_jbt74n7q_model/4c3ca5752dba99bd227e)\n",
        "\n",
        "![img](https://i.imgur.com/KhRLQvR.png)\n",
        "\n",
        "> 📍 Download the model with the `best` alias tagged to it. "
      ]
    },
    {
      "cell_type": "markdown",
      "metadata": {
        "id": "ZIUs8MIO_2ce"
      },
      "source": [
        "# Inference\n",
        "\n",
        "You will probably use a `Submission.ipynb` kernel to run all the predictions. After training a YOLOv5 based object detector -> head to the artifacts page and download the best model -> upload the model as a Kaggle dataset -> Use it with the submission folder. \n",
        "\n",
        "> 📍 Note that you might have to clone the YOLOv5 repository in a Kaggle dataset as well. \n",
        "\n",
        "In this section, I will show you how you can do the inference and modify the predicted bounding box coordinates."
      ]
    },
    {
      "cell_type": "code",
      "metadata": {
        "execution": {
          "iopub.status.busy": "2021-05-23T19:07:49.662496Z",
          "iopub.execute_input": "2021-05-23T19:07:49.662836Z",
          "iopub.status.idle": "2021-05-23T19:07:49.667610Z",
          "shell.execute_reply.started": "2021-05-23T19:07:49.662804Z",
          "shell.execute_reply": "2021-05-23T19:07:49.666279Z"
        },
        "trusted": true,
        "id": "DlQgBwdh_2cg"
      },
      "source": [
        "TEST_PATH = '/kaggle/input/siim-covid19-resized-to-256px-jpg/test/' # absolute path"
      ],
      "execution_count": null,
      "outputs": []
    },
    {
      "cell_type": "markdown",
      "metadata": {
        "id": "FbE1WzBr_2cg"
      },
      "source": [
        "Since I am training the model in this kernel itself, I will not be using the method that I have described above. The best model is saved in the directory `project_name/exp*/weights/best.pt`. In `exp*`, * can be 1, 2, etc. "
      ]
    },
    {
      "cell_type": "code",
      "metadata": {
        "execution": {
          "iopub.status.busy": "2021-05-23T19:07:51.843949Z",
          "iopub.execute_input": "2021-05-23T19:07:51.844324Z",
          "iopub.status.idle": "2021-05-23T19:07:51.848162Z",
          "shell.execute_reply.started": "2021-05-23T19:07:51.844293Z",
          "shell.execute_reply": "2021-05-23T19:07:51.847242Z"
        },
        "trusted": true,
        "id": "5GxC-KCL_2ch"
      },
      "source": [
        "MODEL_PATH = 'kaggle-siim-covid/exp/weights/best.pt'"
      ],
      "execution_count": null,
      "outputs": []
    },
    {
      "cell_type": "markdown",
      "metadata": {
        "id": "l3nX9Oog_2ch"
      },
      "source": [
        "```\n",
        "--weights {MODEL_PATH} \\ # path to the best model.\n",
        "--source {TEST_PATH} \\ # absolute path to the test images.\n",
        "--img {IMG_SIZE} \\ # Size of image\n",
        "--conf 0.281 \\ # Confidence threshold (default is 0.25)\n",
        "--iou-thres 0.5 \\ # IOU threshold (default is 0.45)\n",
        "--max-det 3 \\ # Number of detections per image (default is 1000) \n",
        "--save-txt \\ # Save predicted bounding box coordinates as txt files\n",
        "--save-conf # Save the confidence of prediction for each bounding box\n",
        "```"
      ]
    },
    {
      "cell_type": "code",
      "metadata": {
        "execution": {
          "iopub.status.busy": "2021-05-23T19:12:25.325558Z",
          "iopub.execute_input": "2021-05-23T19:12:25.325905Z",
          "iopub.status.idle": "2021-05-23T19:13:05.525279Z",
          "shell.execute_reply.started": "2021-05-23T19:12:25.325875Z",
          "shell.execute_reply": "2021-05-23T19:13:05.524304Z"
        },
        "scrolled": true,
        "_kg_hide-output": true,
        "trusted": true,
        "id": "TJ2I44lt_2ci",
        "outputId": "a2ee13da-648b-42cf-e119-80f9cbb048bb"
      },
      "source": [
        "!python detect.py --weights {MODEL_PATH} \\\n",
        "                  --source {TEST_PATH} \\\n",
        "                  --img {IMG_SIZE} \\\n",
        "                  --conf 0.281 \\\n",
        "                  --iou-thres 0.5 \\\n",
        "                  --max-det 3 \\\n",
        "                  --save-txt \\\n",
        "                  --save-conf"
      ],
      "execution_count": null,
      "outputs": [
        {
          "name": "stdout",
          "text": "Namespace(agnostic_nms=False, augment=False, classes=None, conf_thres=0.281, device='', exist_ok=False, hide_conf=False, hide_labels=False, img_size=256, iou_thres=0.5, line_thickness=3, max_det=3, name='exp', nosave=False, project='runs/detect', save_conf=True, save_crop=False, save_txt=True, source='/kaggle/input/siim-covid19-resized-to-256px-jpg/test/', update=False, view_img=False, weights=['kaggle-siim-covid/exp/weights/best.pt'])\nimage 1/1263 /kaggle/input/siim-covid19-resized-to-256px-jpg/test/0026720152f5.jpg: 256x256 Done. (0.019s)\nimage 2/1263 /kaggle/input/siim-covid19-resized-to-256px-jpg/test/00fc8fc35dc1.jpg: 256x256 2 opacitys, Done. (0.020s)\nimage 3/1263 /kaggle/input/siim-covid19-resized-to-256px-jpg/test/01c3512eebc3.jpg: 256x256 Done. (0.020s)\nimage 4/1263 /kaggle/input/siim-covid19-resized-to-256px-jpg/test/01f948f8e544.jpg: 256x256 Done. (0.019s)\nimage 5/1263 /kaggle/input/siim-covid19-resized-to-256px-jpg/test/022146012034.jpg: 256x256 Done. (0.020s)\nimage 6/1263 /kaggle/input/siim-covid19-resized-to-256px-jpg/test/02eceb0fc405.jpg: 256x256 Done. (0.018s)\nimage 7/1263 /kaggle/input/siim-covid19-resized-to-256px-jpg/test/03a778f5a68b.jpg: 256x256 2 opacitys, Done. (0.019s)\nimage 8/1263 /kaggle/input/siim-covid19-resized-to-256px-jpg/test/03fa9d7e94a8.jpg: 256x256 Done. (0.019s)\nimage 9/1263 /kaggle/input/siim-covid19-resized-to-256px-jpg/test/040d0765b661.jpg: 256x256 Done. (0.019s)\nimage 10/1263 /kaggle/input/siim-covid19-resized-to-256px-jpg/test/0418a303883e.jpg: 256x256 Done. (0.020s)\nimage 11/1263 /kaggle/input/siim-covid19-resized-to-256px-jpg/test/042979d394a1.jpg: 256x256 1 opacity, Done. (0.020s)\nimage 12/1263 /kaggle/input/siim-covid19-resized-to-256px-jpg/test/04396dd5af2f.jpg: 256x256 1 opacity, Done. (0.021s)\nimage 13/1263 /kaggle/input/siim-covid19-resized-to-256px-jpg/test/045c1e859dfa.jpg: 256x256 Done. (0.019s)\nimage 14/1263 /kaggle/input/siim-covid19-resized-to-256px-jpg/test/046b1edf6801.jpg: 256x256 Done. (0.020s)\nimage 15/1263 /kaggle/input/siim-covid19-resized-to-256px-jpg/test/04720d7e4e42.jpg: 256x256 1 opacity, Done. (0.020s)\nimage 16/1263 /kaggle/input/siim-covid19-resized-to-256px-jpg/test/047ba804182b.jpg: 256x256 Done. (0.020s)\nimage 17/1263 /kaggle/input/siim-covid19-resized-to-256px-jpg/test/049fce8128f9.jpg: 256x256 2 opacitys, Done. (0.019s)\nimage 18/1263 /kaggle/input/siim-covid19-resized-to-256px-jpg/test/04a083828fec.jpg: 256x256 Done. (0.020s)\nimage 19/1263 /kaggle/input/siim-covid19-resized-to-256px-jpg/test/04de800ea41a.jpg: 256x256 1 opacity, Done. (0.020s)\nimage 20/1263 /kaggle/input/siim-covid19-resized-to-256px-jpg/test/04f4a36c08a2.jpg: 256x256 2 opacitys, Done. (0.020s)\nimage 21/1263 /kaggle/input/siim-covid19-resized-to-256px-jpg/test/05435da60872.jpg: 256x256 2 opacitys, Done. (0.019s)\nimage 22/1263 /kaggle/input/siim-covid19-resized-to-256px-jpg/test/0562436fde50.jpg: 256x256 2 opacitys, Done. (0.019s)\nimage 23/1263 /kaggle/input/siim-covid19-resized-to-256px-jpg/test/059eae61ad15.jpg: 256x256 Done. (0.018s)\nimage 24/1263 /kaggle/input/siim-covid19-resized-to-256px-jpg/test/05a70a1c16c1.jpg: 256x256 2 opacitys, Done. (0.020s)\nimage 25/1263 /kaggle/input/siim-covid19-resized-to-256px-jpg/test/05ab2c886dc1.jpg: 256x256 Done. (0.018s)\nimage 26/1263 /kaggle/input/siim-covid19-resized-to-256px-jpg/test/05e168e0d636.jpg: 256x256 Done. (0.018s)\nimage 27/1263 /kaggle/input/siim-covid19-resized-to-256px-jpg/test/05feea9719f5.jpg: 256x256 2 opacitys, Done. (0.020s)\nimage 28/1263 /kaggle/input/siim-covid19-resized-to-256px-jpg/test/064b37b01cd2.jpg: 256x256 Done. (0.018s)\nimage 29/1263 /kaggle/input/siim-covid19-resized-to-256px-jpg/test/06abdb2562ce.jpg: 256x256 Done. (0.020s)\nimage 30/1263 /kaggle/input/siim-covid19-resized-to-256px-jpg/test/06df1e2fde68.jpg: 256x256 2 opacitys, Done. (0.019s)\nimage 31/1263 /kaggle/input/siim-covid19-resized-to-256px-jpg/test/070cbe2d3dbb.jpg: 256x256 Done. (0.019s)\nimage 32/1263 /kaggle/input/siim-covid19-resized-to-256px-jpg/test/0718c860f2ee.jpg: 256x256 Done. (0.019s)\nimage 33/1263 /kaggle/input/siim-covid19-resized-to-256px-jpg/test/079be2a10982.jpg: 256x256 Done. (0.018s)\nimage 34/1263 /kaggle/input/siim-covid19-resized-to-256px-jpg/test/07c552c36da3.jpg: 256x256 Done. (0.019s)\nimage 35/1263 /kaggle/input/siim-covid19-resized-to-256px-jpg/test/07db3756ec28.jpg: 256x256 2 opacitys, Done. (0.019s)\nimage 36/1263 /kaggle/input/siim-covid19-resized-to-256px-jpg/test/07eb8cf8958a.jpg: 256x256 Done. (0.019s)\nimage 37/1263 /kaggle/input/siim-covid19-resized-to-256px-jpg/test/0821e77a60ed.jpg: 256x256 Done. (0.018s)\nimage 38/1263 /kaggle/input/siim-covid19-resized-to-256px-jpg/test/087f2e308700.jpg: 256x256 Done. (0.019s)\nimage 39/1263 /kaggle/input/siim-covid19-resized-to-256px-jpg/test/08992bd07010.jpg: 256x256 2 opacitys, Done. (0.019s)\nimage 40/1263 /kaggle/input/siim-covid19-resized-to-256px-jpg/test/08b12b305a50.jpg: 256x256 1 opacity, Done. (0.021s)\nimage 41/1263 /kaggle/input/siim-covid19-resized-to-256px-jpg/test/08bbffaafbe7.jpg: 256x256 1 opacity, Done. (0.019s)\nimage 42/1263 /kaggle/input/siim-covid19-resized-to-256px-jpg/test/09443dcb865f.jpg: 256x256 Done. (0.020s)\nimage 43/1263 /kaggle/input/siim-covid19-resized-to-256px-jpg/test/09a38ab5a5bd.jpg: 256x256 Done. (0.019s)\nimage 44/1263 /kaggle/input/siim-covid19-resized-to-256px-jpg/test/09b64291b1b9.jpg: 256x256 Done. (0.018s)\nimage 45/1263 /kaggle/input/siim-covid19-resized-to-256px-jpg/test/0a0c1312be06.jpg: 256x256 Done. (0.019s)\nimage 46/1263 /kaggle/input/siim-covid19-resized-to-256px-jpg/test/0a3a99612b28.jpg: 256x256 1 opacity, Done. (0.019s)\nimage 47/1263 /kaggle/input/siim-covid19-resized-to-256px-jpg/test/0af6a45668be.jpg: 256x256 Done. (0.021s)\nimage 48/1263 /kaggle/input/siim-covid19-resized-to-256px-jpg/test/0bbb78f96f46.jpg: 256x256 Done. (0.019s)\nimage 49/1263 /kaggle/input/siim-covid19-resized-to-256px-jpg/test/0be236941397.jpg: 256x256 Done. (0.020s)\nimage 50/1263 /kaggle/input/siim-covid19-resized-to-256px-jpg/test/0c2ad4c7a6c4.jpg: 256x256 Done. (0.020s)\nimage 51/1263 /kaggle/input/siim-covid19-resized-to-256px-jpg/test/0c4d32f6b806.jpg: 256x256 Done. (0.020s)\nimage 52/1263 /kaggle/input/siim-covid19-resized-to-256px-jpg/test/0c81b34981b3.jpg: 256x256 Done. (0.019s)\nimage 53/1263 /kaggle/input/siim-covid19-resized-to-256px-jpg/test/0c8af80ba8cb.jpg: 256x256 Done. (0.020s)\nimage 54/1263 /kaggle/input/siim-covid19-resized-to-256px-jpg/test/0cc69a8f538c.jpg: 256x256 1 opacity, Done. (0.022s)\nimage 55/1263 /kaggle/input/siim-covid19-resized-to-256px-jpg/test/0cccb1eca1fc.jpg: 256x256 Done. (0.022s)\nimage 56/1263 /kaggle/input/siim-covid19-resized-to-256px-jpg/test/0cea7e93db89.jpg: 256x256 1 opacity, Done. (0.020s)\nimage 57/1263 /kaggle/input/siim-covid19-resized-to-256px-jpg/test/0d47ef3e87e4.jpg: 256x256 1 opacity, Done. (0.020s)\nimage 58/1263 /kaggle/input/siim-covid19-resized-to-256px-jpg/test/0d4ba5dc4a24.jpg: 256x256 Done. (0.018s)\nimage 59/1263 /kaggle/input/siim-covid19-resized-to-256px-jpg/test/0d50bce86451.jpg: 256x256 2 opacitys, Done. (0.019s)\nimage 60/1263 /kaggle/input/siim-covid19-resized-to-256px-jpg/test/0d617e83e527.jpg: 256x256 Done. (0.019s)\nimage 61/1263 /kaggle/input/siim-covid19-resized-to-256px-jpg/test/0db323463d0a.jpg: 256x256 Done. (0.019s)\nimage 62/1263 /kaggle/input/siim-covid19-resized-to-256px-jpg/test/0dc27df9b1bf.jpg: 256x256 Done. (0.020s)\nimage 63/1263 /kaggle/input/siim-covid19-resized-to-256px-jpg/test/0e97cc4123aa.jpg: 256x256 1 opacity, Done. (0.019s)\nimage 64/1263 /kaggle/input/siim-covid19-resized-to-256px-jpg/test/0ed283a366dc.jpg: 256x256 Done. (0.020s)\nimage 65/1263 /kaggle/input/siim-covid19-resized-to-256px-jpg/test/0f01c0517022.jpg: 256x256 3 opacitys, Done. (0.020s)\nimage 66/1263 /kaggle/input/siim-covid19-resized-to-256px-jpg/test/0f147ee4a61b.jpg: 256x256 2 opacitys, Done. (0.021s)\nimage 67/1263 /kaggle/input/siim-covid19-resized-to-256px-jpg/test/0f50aabaa314.jpg: 256x256 Done. (0.019s)\nimage 68/1263 /kaggle/input/siim-covid19-resized-to-256px-jpg/test/0f813cc26e33.jpg: 256x256 Done. (0.019s)\nimage 69/1263 /kaggle/input/siim-covid19-resized-to-256px-jpg/test/0feac35cd28b.jpg: 256x256 1 opacity, Done. (0.019s)\nimage 70/1263 /kaggle/input/siim-covid19-resized-to-256px-jpg/test/0fedf74dc163.jpg: 256x256 2 opacitys, Done. (0.021s)\nimage 71/1263 /kaggle/input/siim-covid19-resized-to-256px-jpg/test/100316af8a36.jpg: 256x256 Done. (0.019s)\nimage 72/1263 /kaggle/input/siim-covid19-resized-to-256px-jpg/test/1047ca1a704c.jpg: 256x256 Done. (0.019s)\nimage 73/1263 /kaggle/input/siim-covid19-resized-to-256px-jpg/test/1078af8ac3b7.jpg: 256x256 Done. (0.018s)\nimage 74/1263 /kaggle/input/siim-covid19-resized-to-256px-jpg/test/1093f305a358.jpg: 256x256 1 opacity, Done. (0.019s)\nimage 75/1263 /kaggle/input/siim-covid19-resized-to-256px-jpg/test/10d3c965a5b4.jpg: 256x256 Done. (0.019s)\nimage 76/1263 /kaggle/input/siim-covid19-resized-to-256px-jpg/test/11349660bb1a.jpg: 256x256 2 opacitys, Done. (0.019s)\nimage 77/1263 /kaggle/input/siim-covid19-resized-to-256px-jpg/test/1137ee93363f.jpg: 256x256 2 opacitys, Done. (0.020s)\nimage 78/1263 /kaggle/input/siim-covid19-resized-to-256px-jpg/test/114f7f3baedf.jpg: 256x256 2 opacitys, Done. (0.019s)\nimage 79/1263 /kaggle/input/siim-covid19-resized-to-256px-jpg/test/11541455ef19.jpg: 256x256 2 opacitys, Done. (0.020s)\nimage 80/1263 /kaggle/input/siim-covid19-resized-to-256px-jpg/test/1177e1bef164.jpg: 256x256 1 opacity, Done. (0.019s)\nimage 81/1263 /kaggle/input/siim-covid19-resized-to-256px-jpg/test/1199fd9f2aba.jpg: 256x256 Done. (0.019s)\nimage 82/1263 /kaggle/input/siim-covid19-resized-to-256px-jpg/test/11abda231924.jpg: 256x256 Done. (0.018s)\nimage 83/1263 /kaggle/input/siim-covid19-resized-to-256px-jpg/test/11b60db4052a.jpg: 256x256 Done. (0.019s)\nimage 84/1263 /kaggle/input/siim-covid19-resized-to-256px-jpg/test/11b8e5179115.jpg: 256x256 1 opacity, Done. (0.019s)\nimage 85/1263 /kaggle/input/siim-covid19-resized-to-256px-jpg/test/11b9ab3af3db.jpg: 256x256 Done. (0.018s)\nimage 86/1263 /kaggle/input/siim-covid19-resized-to-256px-jpg/test/11d59a5488ed.jpg: 256x256 Done. (0.018s)\nimage 87/1263 /kaggle/input/siim-covid19-resized-to-256px-jpg/test/11dbf622932a.jpg: 256x256 Done. (0.020s)\nimage 88/1263 /kaggle/input/siim-covid19-resized-to-256px-jpg/test/11ef0d77a9c9.jpg: 256x256 Done. (0.020s)\nimage 89/1263 /kaggle/input/siim-covid19-resized-to-256px-jpg/test/11f8052288c7.jpg: 256x256 2 opacitys, Done. (0.019s)\nimage 90/1263 /kaggle/input/siim-covid19-resized-to-256px-jpg/test/120ce3e7cd73.jpg: 256x256 Done. (0.021s)\nimage 91/1263 /kaggle/input/siim-covid19-resized-to-256px-jpg/test/127c2b32dd5d.jpg: 256x256 1 opacity, Done. (0.019s)\nimage 92/1263 /kaggle/input/siim-covid19-resized-to-256px-jpg/test/129846482a83.jpg: 256x256 Done. (0.020s)\nimage 93/1263 /kaggle/input/siim-covid19-resized-to-256px-jpg/test/12ae063a0dda.jpg: 256x256 1 opacity, Done. (0.019s)\nimage 94/1263 /kaggle/input/siim-covid19-resized-to-256px-jpg/test/12fbfd355d88.jpg: 256x256 Done. (0.020s)\nimage 95/1263 /kaggle/input/siim-covid19-resized-to-256px-jpg/test/1308d8906c2e.jpg: 256x256 Done. (0.019s)\nimage 96/1263 /kaggle/input/siim-covid19-resized-to-256px-jpg/test/130aa9d3716d.jpg: 256x256 1 opacity, Done. (0.019s)\nimage 97/1263 /kaggle/input/siim-covid19-resized-to-256px-jpg/test/1359178e428a.jpg: 256x256 1 opacity, Done. (0.019s)\nimage 98/1263 /kaggle/input/siim-covid19-resized-to-256px-jpg/test/13a28f6783b2.jpg: 256x256 2 opacitys, Done. (0.019s)\nimage 99/1263 /kaggle/input/siim-covid19-resized-to-256px-jpg/test/13c550e44b7c.jpg: 256x256 Done. (0.019s)\nimage 100/1263 /kaggle/input/siim-covid19-resized-to-256px-jpg/test/144c27a2554a.jpg: 256x256 Done. (0.018s)\nimage 101/1263 /kaggle/input/siim-covid19-resized-to-256px-jpg/test/1450e124011a.jpg: 256x256 Done. (0.020s)\nimage 102/1263 /kaggle/input/siim-covid19-resized-to-256px-jpg/test/14658311d76e.jpg: 256x256 Done. (0.018s)\nimage 103/1263 /kaggle/input/siim-covid19-resized-to-256px-jpg/test/14db2ff155f6.jpg: 256x256 Done. (0.020s)\nimage 104/1263 /kaggle/input/siim-covid19-resized-to-256px-jpg/test/14eb73431579.jpg: 256x256 Done. (0.018s)\nimage 105/1263 /kaggle/input/siim-covid19-resized-to-256px-jpg/test/14ec6bdb5641.jpg: 256x256 1 opacity, Done. (0.021s)\nimage 106/1263 /kaggle/input/siim-covid19-resized-to-256px-jpg/test/154b6a49ff75.jpg: 256x256 Done. (0.019s)\nimage 107/1263 /kaggle/input/siim-covid19-resized-to-256px-jpg/test/155f5e326d5e.jpg: 256x256 2 opacitys, Done. (0.019s)\nimage 108/1263 /kaggle/input/siim-covid19-resized-to-256px-jpg/test/158cc858a485.jpg: 256x256 2 opacitys, Done. (0.019s)\nimage 109/1263 /kaggle/input/siim-covid19-resized-to-256px-jpg/test/159cbf4e41e4.jpg: 256x256 Done. (0.019s)\nimage 110/1263 /kaggle/input/siim-covid19-resized-to-256px-jpg/test/160cfef3014f.jpg: 256x256 1 opacity, Done. (0.019s)\nimage 111/1263 /kaggle/input/siim-covid19-resized-to-256px-jpg/test/16237f3bc333.jpg: 256x256 2 opacitys, Done. (0.019s)\nimage 112/1263 /kaggle/input/siim-covid19-resized-to-256px-jpg/test/164dd63ae571.jpg: 256x256 1 opacity, Done. (0.020s)\nimage 113/1263 /kaggle/input/siim-covid19-resized-to-256px-jpg/test/16972e92e827.jpg: 256x256 Done. (0.019s)\nimage 114/1263 /kaggle/input/siim-covid19-resized-to-256px-jpg/test/16a0d37747d7.jpg: 256x256 2 opacitys, Done. (0.021s)\nimage 115/1263 /kaggle/input/siim-covid19-resized-to-256px-jpg/test/16d5b63ac279.jpg: 256x256 Done. (0.019s)\nimage 116/1263 /kaggle/input/siim-covid19-resized-to-256px-jpg/test/173c3e37e1f3.jpg: 256x256 Done. (0.020s)\nimage 117/1263 /kaggle/input/siim-covid19-resized-to-256px-jpg/test/179291642620.jpg: 256x256 2 opacitys, Done. (0.019s)\nimage 118/1263 /kaggle/input/siim-covid19-resized-to-256px-jpg/test/17ac0fe388c7.jpg: 256x256 Done. (0.020s)\nimage 119/1263 /kaggle/input/siim-covid19-resized-to-256px-jpg/test/17d708d24ae8.jpg: 256x256 Done. (0.019s)\nimage 120/1263 /kaggle/input/siim-covid19-resized-to-256px-jpg/test/17e40efa4596.jpg: 256x256 Done. (0.019s)\nimage 121/1263 /kaggle/input/siim-covid19-resized-to-256px-jpg/test/180a5ea482c5.jpg: 256x256 2 opacitys, Done. (0.019s)\nimage 122/1263 /kaggle/input/siim-covid19-resized-to-256px-jpg/test/181a2a300bb8.jpg: 256x256 1 opacity, Done. (0.019s)\nimage 123/1263 /kaggle/input/siim-covid19-resized-to-256px-jpg/test/1863b31637f6.jpg: 256x256 1 opacity, Done. (0.019s)\nimage 124/1263 /kaggle/input/siim-covid19-resized-to-256px-jpg/test/18a23df4fe99.jpg: 256x256 1 opacity, Done. (0.019s)\nimage 125/1263 /kaggle/input/siim-covid19-resized-to-256px-jpg/test/18e043b70fda.jpg: 256x256 Done. (0.019s)\nimage 126/1263 /kaggle/input/siim-covid19-resized-to-256px-jpg/test/18e6a4083920.jpg: 256x256 Done. (0.018s)\nimage 127/1263 /kaggle/input/siim-covid19-resized-to-256px-jpg/test/198ffac65dac.jpg: 256x256 Done. (0.019s)\nimage 128/1263 /kaggle/input/siim-covid19-resized-to-256px-jpg/test/19b0d2d65a38.jpg: 256x256 Done. (0.018s)\nimage 129/1263 /kaggle/input/siim-covid19-resized-to-256px-jpg/test/19e9733ee506.jpg: 256x256 Done. (0.020s)\nimage 130/1263 /kaggle/input/siim-covid19-resized-to-256px-jpg/test/1a1722362e19.jpg: 256x256 Done. (0.019s)\nimage 131/1263 /kaggle/input/siim-covid19-resized-to-256px-jpg/test/1a330ec81ee3.jpg: 256x256 1 opacity, Done. (0.020s)\nimage 132/1263 /kaggle/input/siim-covid19-resized-to-256px-jpg/test/1a4c378605f5.jpg: 256x256 Done. (0.019s)\nimage 133/1263 /kaggle/input/siim-covid19-resized-to-256px-jpg/test/1aa1491c9cd1.jpg: 256x256 Done. (0.019s)\nimage 134/1263 /kaggle/input/siim-covid19-resized-to-256px-jpg/test/1ab561ec5f7e.jpg: 256x256 1 opacity, Done. (0.020s)\nimage 135/1263 /kaggle/input/siim-covid19-resized-to-256px-jpg/test/1ade3b5d0699.jpg: 256x256 2 opacitys, Done. (0.019s)\nimage 136/1263 /kaggle/input/siim-covid19-resized-to-256px-jpg/test/1aff7e4ed470.jpg: 256x256 1 opacity, Done. (0.020s)\nimage 137/1263 /kaggle/input/siim-covid19-resized-to-256px-jpg/test/1b0d0622ccea.jpg: 256x256 Done. (0.018s)\nimage 138/1263 /kaggle/input/siim-covid19-resized-to-256px-jpg/test/1b282faf0f42.jpg: 256x256 Done. (0.020s)\nimage 139/1263 /kaggle/input/siim-covid19-resized-to-256px-jpg/test/1b40a20045ee.jpg: 256x256 Done. (0.019s)\nimage 140/1263 /kaggle/input/siim-covid19-resized-to-256px-jpg/test/1b4cf5e0fbe0.jpg: 256x256 Done. (0.020s)\nimage 141/1263 /kaggle/input/siim-covid19-resized-to-256px-jpg/test/1b640a2839db.jpg: 256x256 Done. (0.018s)\nimage 142/1263 /kaggle/input/siim-covid19-resized-to-256px-jpg/test/1ba8aa7acf76.jpg: 256x256 Done. (0.018s)\nimage 143/1263 /kaggle/input/siim-covid19-resized-to-256px-jpg/test/1bc8687f938e.jpg: 256x256 2 opacitys, Done. (0.020s)\nimage 144/1263 /kaggle/input/siim-covid19-resized-to-256px-jpg/test/1c13336fc8a9.jpg: 256x256 2 opacitys, Done. (0.019s)\nimage 145/1263 /kaggle/input/siim-covid19-resized-to-256px-jpg/test/1c1c48cb66e4.jpg: 256x256 1 opacity, Done. (0.020s)\nimage 146/1263 /kaggle/input/siim-covid19-resized-to-256px-jpg/test/1c1e9d3f5bab.jpg: 256x256 Done. (0.018s)\nimage 147/1263 /kaggle/input/siim-covid19-resized-to-256px-jpg/test/1c47d2fcee72.jpg: 256x256 Done. (0.019s)\nimage 148/1263 /kaggle/input/siim-covid19-resized-to-256px-jpg/test/1c5aa8c405c7.jpg: 256x256 Done. (0.018s)\nimage 149/1263 /kaggle/input/siim-covid19-resized-to-256px-jpg/test/1c69c1af9a67.jpg: 256x256 Done. (0.020s)\nimage 150/1263 /kaggle/input/siim-covid19-resized-to-256px-jpg/test/1c8df7067e35.jpg: 256x256 1 opacity, Done. (0.019s)\nimage 151/1263 /kaggle/input/siim-covid19-resized-to-256px-jpg/test/1c937e2b91a9.jpg: 256x256 2 opacitys, Done. (0.020s)\nimage 152/1263 /kaggle/input/siim-covid19-resized-to-256px-jpg/test/1c9c9f68941e.jpg: 256x256 1 opacity, Done. (0.019s)\nimage 153/1263 /kaggle/input/siim-covid19-resized-to-256px-jpg/test/1cbd87cb6bf9.jpg: 256x256 Done. (0.020s)\nimage 154/1263 /kaggle/input/siim-covid19-resized-to-256px-jpg/test/1ce9abb861b6.jpg: 256x256 1 opacity, Done. (0.019s)\nimage 155/1263 /kaggle/input/siim-covid19-resized-to-256px-jpg/test/1d674718db40.jpg: 256x256 2 opacitys, Done. (0.019s)\nimage 156/1263 /kaggle/input/siim-covid19-resized-to-256px-jpg/test/1d981fb423e0.jpg: 256x256 Done. (0.018s)\nimage 157/1263 /kaggle/input/siim-covid19-resized-to-256px-jpg/test/1d9a8f9f0eef.jpg: 256x256 2 opacitys, Done. (0.019s)\nimage 158/1263 /kaggle/input/siim-covid19-resized-to-256px-jpg/test/1dccbb75ffba.jpg: 256x256 Done. (0.027s)\nimage 159/1263 /kaggle/input/siim-covid19-resized-to-256px-jpg/test/1dfed0992998.jpg: 256x256 2 opacitys, Done. (0.019s)\nimage 160/1263 /kaggle/input/siim-covid19-resized-to-256px-jpg/test/1e1734034b0f.jpg: 256x256 Done. (0.019s)\nimage 161/1263 /kaggle/input/siim-covid19-resized-to-256px-jpg/test/1e7429ce2e06.jpg: 256x256 2 opacitys, Done. (0.019s)\nimage 162/1263 /kaggle/input/siim-covid19-resized-to-256px-jpg/test/1e9b7b493e47.jpg: 256x256 2 opacitys, Done. (0.020s)\nimage 163/1263 /kaggle/input/siim-covid19-resized-to-256px-jpg/test/1eae0890a6ad.jpg: 256x256 2 opacitys, Done. (0.019s)\nimage 164/1263 /kaggle/input/siim-covid19-resized-to-256px-jpg/test/1eb558739c44.jpg: 256x256 Done. (0.019s)\nimage 165/1263 /kaggle/input/siim-covid19-resized-to-256px-jpg/test/1ed201489300.jpg: 256x256 Done. (0.018s)\nimage 166/1263 /kaggle/input/siim-covid19-resized-to-256px-jpg/test/1f49246b305e.jpg: 256x256 Done. (0.018s)\nimage 167/1263 /kaggle/input/siim-covid19-resized-to-256px-jpg/test/1f737bcf6fe9.jpg: 256x256 Done. (0.018s)\nimage 168/1263 /kaggle/input/siim-covid19-resized-to-256px-jpg/test/1f927318863d.jpg: 256x256 Done. (0.018s)\nimage 169/1263 /kaggle/input/siim-covid19-resized-to-256px-jpg/test/1fb5ca50e8d3.jpg: 256x256 1 opacity, Done. (0.020s)\nimage 170/1263 /kaggle/input/siim-covid19-resized-to-256px-jpg/test/1fba9eccac03.jpg: 256x256 1 opacity, Done. (0.019s)\nimage 171/1263 /kaggle/input/siim-covid19-resized-to-256px-jpg/test/1fcfc9845e81.jpg: 256x256 Done. (0.020s)\nimage 172/1263 /kaggle/input/siim-covid19-resized-to-256px-jpg/test/1ff307ae0df6.jpg: 256x256 Done. (0.018s)\nimage 173/1263 /kaggle/input/siim-covid19-resized-to-256px-jpg/test/2083ae742497.jpg: 256x256 2 opacitys, Done. (0.021s)\nimage 174/1263 /kaggle/input/siim-covid19-resized-to-256px-jpg/test/208c4c416450.jpg: 256x256 Done. (0.018s)\nimage 175/1263 /kaggle/input/siim-covid19-resized-to-256px-jpg/test/21ab319a926c.jpg: 256x256 1 opacity, Done. (0.021s)\nimage 176/1263 /kaggle/input/siim-covid19-resized-to-256px-jpg/test/21d1f013892c.jpg: 256x256 Done. (0.019s)\nimage 177/1263 /kaggle/input/siim-covid19-resized-to-256px-jpg/test/222601cefe1b.jpg: 256x256 2 opacitys, Done. (0.019s)\nimage 178/1263 /kaggle/input/siim-covid19-resized-to-256px-jpg/test/223115cbf342.jpg: 256x256 1 opacity, Done. (0.019s)\nimage 179/1263 /kaggle/input/siim-covid19-resized-to-256px-jpg/test/2250e31a4999.jpg: 256x256 1 opacity, Done. (0.019s)\nimage 180/1263 /kaggle/input/siim-covid19-resized-to-256px-jpg/test/236d240402cd.jpg: 256x256 2 opacitys, Done. (0.019s)\nimage 181/1263 /kaggle/input/siim-covid19-resized-to-256px-jpg/test/237aafc42d57.jpg: 256x256 Done. (0.018s)\nimage 182/1263 /kaggle/input/siim-covid19-resized-to-256px-jpg/test/23d8a619f39c.jpg: 256x256 2 opacitys, Done. (0.020s)\nimage 183/1263 /kaggle/input/siim-covid19-resized-to-256px-jpg/test/23fd057dce2b.jpg: 256x256 Done. (0.018s)\nimage 184/1263 /kaggle/input/siim-covid19-resized-to-256px-jpg/test/240bf89e4d58.jpg: 256x256 2 opacitys, Done. (0.020s)\nimage 185/1263 /kaggle/input/siim-covid19-resized-to-256px-jpg/test/2413a23a5477.jpg: 256x256 2 opacitys, Done. (0.019s)\nimage 186/1263 /kaggle/input/siim-covid19-resized-to-256px-jpg/test/24ef59e133f6.jpg: 256x256 1 opacity, Done. (0.020s)\nimage 187/1263 /kaggle/input/siim-covid19-resized-to-256px-jpg/test/251f897c9e10.jpg: 256x256 Done. (0.018s)\nimage 188/1263 /kaggle/input/siim-covid19-resized-to-256px-jpg/test/252552312a42.jpg: 256x256 Done. (0.020s)\nimage 189/1263 /kaggle/input/siim-covid19-resized-to-256px-jpg/test/2533fc9ec975.jpg: 256x256 Done. (0.018s)\nimage 190/1263 /kaggle/input/siim-covid19-resized-to-256px-jpg/test/2565c5ccfba1.jpg: 256x256 2 opacitys, Done. (0.019s)\nimage 191/1263 /kaggle/input/siim-covid19-resized-to-256px-jpg/test/256f0960de75.jpg: 256x256 Done. (0.018s)\nimage 192/1263 /kaggle/input/siim-covid19-resized-to-256px-jpg/test/25b281d5a9f3.jpg: 256x256 2 opacitys, Done. (0.019s)\nimage 193/1263 /kaggle/input/siim-covid19-resized-to-256px-jpg/test/25d33047633c.jpg: 256x256 2 opacitys, Done. (0.019s)\nimage 194/1263 /kaggle/input/siim-covid19-resized-to-256px-jpg/test/25e11b9fb687.jpg: 256x256 Done. (0.018s)\nimage 195/1263 /kaggle/input/siim-covid19-resized-to-256px-jpg/test/26102c3f4f0f.jpg: 256x256 2 opacitys, Done. (0.020s)\nimage 196/1263 /kaggle/input/siim-covid19-resized-to-256px-jpg/test/261b3d1adfe4.jpg: 256x256 Done. (0.018s)\nimage 197/1263 /kaggle/input/siim-covid19-resized-to-256px-jpg/test/262f3525e16a.jpg: 256x256 2 opacitys, Done. (0.020s)\nimage 198/1263 /kaggle/input/siim-covid19-resized-to-256px-jpg/test/26454c05ce6e.jpg: 256x256 Done. (0.019s)\nimage 199/1263 /kaggle/input/siim-covid19-resized-to-256px-jpg/test/2663588e7048.jpg: 256x256 Done. (0.020s)\nimage 200/1263 /kaggle/input/siim-covid19-resized-to-256px-jpg/test/2686959fb3a5.jpg: 256x256 Done. (0.018s)\nimage 201/1263 /kaggle/input/siim-covid19-resized-to-256px-jpg/test/268d472480ec.jpg: 256x256 2 opacitys, Done. (0.020s)\nimage 202/1263 /kaggle/input/siim-covid19-resized-to-256px-jpg/test/26da12104c4d.jpg: 256x256 Done. (0.018s)\nimage 203/1263 /kaggle/input/siim-covid19-resized-to-256px-jpg/test/26f2478e3e85.jpg: 256x256 Done. (0.019s)\nimage 204/1263 /kaggle/input/siim-covid19-resized-to-256px-jpg/test/26f55b8a7a94.jpg: 256x256 1 opacity, Done. (0.020s)\nimage 205/1263 /kaggle/input/siim-covid19-resized-to-256px-jpg/test/26fa9834387e.jpg: 256x256 1 opacity, Done. (0.019s)\nimage 206/1263 /kaggle/input/siim-covid19-resized-to-256px-jpg/test/271bea69026c.jpg: 256x256 1 opacity, Done. (0.021s)\nimage 207/1263 /kaggle/input/siim-covid19-resized-to-256px-jpg/test/2743e121b370.jpg: 256x256 Done. (0.018s)\nimage 208/1263 /kaggle/input/siim-covid19-resized-to-256px-jpg/test/275513358c80.jpg: 256x256 Done. (0.020s)\nimage 209/1263 /kaggle/input/siim-covid19-resized-to-256px-jpg/test/275c11b52bec.jpg: 256x256 Done. (0.018s)\nimage 210/1263 /kaggle/input/siim-covid19-resized-to-256px-jpg/test/27a4a0d2b7ec.jpg: 256x256 2 opacitys, Done. (0.020s)\nimage 211/1263 /kaggle/input/siim-covid19-resized-to-256px-jpg/test/27d3da7a8e3d.jpg: 256x256 Done. (0.018s)\nimage 212/1263 /kaggle/input/siim-covid19-resized-to-256px-jpg/test/2857f0e19e09.jpg: 256x256 2 opacitys, Done. (0.020s)\nimage 213/1263 /kaggle/input/siim-covid19-resized-to-256px-jpg/test/28b8c44feeb7.jpg: 256x256 Done. (0.018s)\nimage 214/1263 /kaggle/input/siim-covid19-resized-to-256px-jpg/test/28d0fa664e61.jpg: 256x256 2 opacitys, Done. (0.021s)\nimage 215/1263 /kaggle/input/siim-covid19-resized-to-256px-jpg/test/290d07d7480f.jpg: 256x256 1 opacity, Done. (0.019s)\nimage 216/1263 /kaggle/input/siim-covid19-resized-to-256px-jpg/test/2910a7781437.jpg: 256x256 Done. (0.018s)\nimage 217/1263 /kaggle/input/siim-covid19-resized-to-256px-jpg/test/293014c67757.jpg: 256x256 Done. (0.018s)\nimage 218/1263 /kaggle/input/siim-covid19-resized-to-256px-jpg/test/2955c5ce3f0f.jpg: 256x256 Done. (0.018s)\nimage 219/1263 /kaggle/input/siim-covid19-resized-to-256px-jpg/test/29c992128fbd.jpg: 256x256 Done. (0.021s)\nimage 220/1263 /kaggle/input/siim-covid19-resized-to-256px-jpg/test/2a1dae5f6b5f.jpg: 256x256 Done. (0.019s)\nimage 221/1263 /kaggle/input/siim-covid19-resized-to-256px-jpg/test/2a2019322d8e.jpg: 256x256 Done. (0.020s)\nimage 222/1263 /kaggle/input/siim-covid19-resized-to-256px-jpg/test/2a2f54eb48df.jpg: 256x256 Done. (0.019s)\nimage 223/1263 /kaggle/input/siim-covid19-resized-to-256px-jpg/test/2a316bf62f59.jpg: 256x256 1 opacity, Done. (0.021s)\nimage 224/1263 /kaggle/input/siim-covid19-resized-to-256px-jpg/test/2a31b1526915.jpg: 256x256 Done. (0.018s)\nimage 225/1263 /kaggle/input/siim-covid19-resized-to-256px-jpg/test/2aaab6a41f1a.jpg: 256x256 Done. (0.018s)\nimage 226/1263 /kaggle/input/siim-covid19-resized-to-256px-jpg/test/2ae9c4c6566f.jpg: 256x256 Done. (0.018s)\nimage 227/1263 /kaggle/input/siim-covid19-resized-to-256px-jpg/test/2b59777ebc31.jpg: 256x256 2 opacitys, Done. (0.019s)\nimage 228/1263 /kaggle/input/siim-covid19-resized-to-256px-jpg/test/2b7e9cf46376.jpg: 256x256 2 opacitys, Done. (0.020s)\nimage 229/1263 /kaggle/input/siim-covid19-resized-to-256px-jpg/test/2b9cfe857b00.jpg: 256x256 2 opacitys, Done. (0.019s)\nimage 230/1263 /kaggle/input/siim-covid19-resized-to-256px-jpg/test/2ba135370ac3.jpg: 256x256 2 opacitys, Done. (0.020s)\nimage 231/1263 /kaggle/input/siim-covid19-resized-to-256px-jpg/test/2bc3736cc7bf.jpg: 256x256 2 opacitys, Done. (0.019s)\nimage 232/1263 /kaggle/input/siim-covid19-resized-to-256px-jpg/test/2be1c227dbf2.jpg: 256x256 1 opacity, Done. (0.020s)\nimage 233/1263 /kaggle/input/siim-covid19-resized-to-256px-jpg/test/2be224a00fac.jpg: 256x256 2 opacitys, Done. (0.019s)\nimage 234/1263 /kaggle/input/siim-covid19-resized-to-256px-jpg/test/2c1c4ab77d52.jpg: 256x256 2 opacitys, Done. (0.020s)\nimage 235/1263 /kaggle/input/siim-covid19-resized-to-256px-jpg/test/2d58009c5ade.jpg: 256x256 1 opacity, Done. (0.019s)\nimage 236/1263 /kaggle/input/siim-covid19-resized-to-256px-jpg/test/2d6a4bc38540.jpg: 256x256 1 opacity, Done. (0.020s)\nimage 237/1263 /kaggle/input/siim-covid19-resized-to-256px-jpg/test/2dad900da56f.jpg: 256x256 1 opacity, Done. (0.019s)\nimage 238/1263 /kaggle/input/siim-covid19-resized-to-256px-jpg/test/2dbd5f171a0f.jpg: 256x256 Done. (0.020s)\nimage 239/1263 /kaggle/input/siim-covid19-resized-to-256px-jpg/test/2ddefbb957e9.jpg: 256x256 Done. (0.018s)\nimage 240/1263 /kaggle/input/siim-covid19-resized-to-256px-jpg/test/2de24d1c32bb.jpg: 256x256 1 opacity, Done. (0.020s)\nimage 241/1263 /kaggle/input/siim-covid19-resized-to-256px-jpg/test/2e131066f152.jpg: 256x256 Done. (0.018s)\nimage 242/1263 /kaggle/input/siim-covid19-resized-to-256px-jpg/test/2e4e44dfe103.jpg: 256x256 Done. (0.019s)\nimage 243/1263 /kaggle/input/siim-covid19-resized-to-256px-jpg/test/2f8c1d151802.jpg: 256x256 Done. (0.018s)\nimage 244/1263 /kaggle/input/siim-covid19-resized-to-256px-jpg/test/2f9ccb6faa68.jpg: 256x256 Done. (0.018s)\nimage 245/1263 /kaggle/input/siim-covid19-resized-to-256px-jpg/test/2fca6fe9c1ba.jpg: 256x256 Done. (0.018s)\nimage 246/1263 /kaggle/input/siim-covid19-resized-to-256px-jpg/test/2fd67e10bfe7.jpg: 256x256 2 opacitys, Done. (0.019s)\nimage 247/1263 /kaggle/input/siim-covid19-resized-to-256px-jpg/test/303840f71bb5.jpg: 256x256 2 opacitys, Done. (0.020s)\nimage 248/1263 /kaggle/input/siim-covid19-resized-to-256px-jpg/test/305870c916a4.jpg: 256x256 2 opacitys, Done. (0.019s)\nimage 249/1263 /kaggle/input/siim-covid19-resized-to-256px-jpg/test/30b1c089724e.jpg: 256x256 2 opacitys, Done. (0.021s)\nimage 250/1263 /kaggle/input/siim-covid19-resized-to-256px-jpg/test/317df13caea9.jpg: 256x256 2 opacitys, Done. (0.019s)\nimage 251/1263 /kaggle/input/siim-covid19-resized-to-256px-jpg/test/318a1ecb6fc7.jpg: 256x256 1 opacity, Done. (0.021s)\nimage 252/1263 /kaggle/input/siim-covid19-resized-to-256px-jpg/test/31c07523a69a.jpg: 256x256 2 opacitys, Done. (0.019s)\nimage 253/1263 /kaggle/input/siim-covid19-resized-to-256px-jpg/test/3247432330d8.jpg: 256x256 Done. (0.020s)\nimage 254/1263 /kaggle/input/siim-covid19-resized-to-256px-jpg/test/3288907ddc51.jpg: 256x256 Done. (0.018s)\nimage 255/1263 /kaggle/input/siim-covid19-resized-to-256px-jpg/test/32b211904f5b.jpg: 256x256 2 opacitys, Done. (0.021s)\nimage 256/1263 /kaggle/input/siim-covid19-resized-to-256px-jpg/test/32b23b347bb0.jpg: 256x256 Done. (0.018s)\nimage 257/1263 /kaggle/input/siim-covid19-resized-to-256px-jpg/test/32ecb7330e19.jpg: 256x256 1 opacity, Done. (0.020s)\nimage 258/1263 /kaggle/input/siim-covid19-resized-to-256px-jpg/test/33087aa9853d.jpg: 256x256 Done. (0.018s)\nimage 259/1263 /kaggle/input/siim-covid19-resized-to-256px-jpg/test/337662fe44ef.jpg: 256x256 Done. (0.020s)\nimage 260/1263 /kaggle/input/siim-covid19-resized-to-256px-jpg/test/33d456320f28.jpg: 256x256 Done. (0.018s)\nimage 261/1263 /kaggle/input/siim-covid19-resized-to-256px-jpg/test/33e0c978d0da.jpg: 256x256 1 opacity, Done. (0.019s)\nimage 262/1263 /kaggle/input/siim-covid19-resized-to-256px-jpg/test/340c9cf3b19a.jpg: 256x256 Done. (0.019s)\nimage 263/1263 /kaggle/input/siim-covid19-resized-to-256px-jpg/test/34270243e572.jpg: 256x256 Done. (0.018s)\nimage 264/1263 /kaggle/input/siim-covid19-resized-to-256px-jpg/test/34834851ec56.jpg: 256x256 2 opacitys, Done. (0.021s)\nimage 265/1263 /kaggle/input/siim-covid19-resized-to-256px-jpg/test/349d5e5d8690.jpg: 256x256 Done. (0.019s)\nimage 266/1263 /kaggle/input/siim-covid19-resized-to-256px-jpg/test/34b713a5bb1d.jpg: 256x256 2 opacitys, Done. (0.021s)\nimage 267/1263 /kaggle/input/siim-covid19-resized-to-256px-jpg/test/35271bec39b5.jpg: 256x256 2 opacitys, Done. (0.019s)\nimage 268/1263 /kaggle/input/siim-covid19-resized-to-256px-jpg/test/3550632514dc.jpg: 256x256 2 opacitys, Done. (0.021s)\nimage 269/1263 /kaggle/input/siim-covid19-resized-to-256px-jpg/test/35d6801ca10a.jpg: 256x256 2 opacitys, Done. (0.019s)\nimage 270/1263 /kaggle/input/siim-covid19-resized-to-256px-jpg/test/35dd17ea3e6a.jpg: 256x256 1 opacity, Done. (0.020s)\nimage 271/1263 /kaggle/input/siim-covid19-resized-to-256px-jpg/test/3612ee150596.jpg: 256x256 Done. (0.018s)\nimage 272/1263 /kaggle/input/siim-covid19-resized-to-256px-jpg/test/36141cda67ad.jpg: 256x256 Done. (0.019s)\nimage 273/1263 /kaggle/input/siim-covid19-resized-to-256px-jpg/test/363dd47c8b10.jpg: 256x256 1 opacity, Done. (0.019s)\nimage 274/1263 /kaggle/input/siim-covid19-resized-to-256px-jpg/test/363fbf00088c.jpg: 256x256 Done. (0.019s)\nimage 275/1263 /kaggle/input/siim-covid19-resized-to-256px-jpg/test/36500eabad2d.jpg: 256x256 Done. (0.018s)\nimage 276/1263 /kaggle/input/siim-covid19-resized-to-256px-jpg/test/366e7eb393e5.jpg: 256x256 Done. (0.018s)\nimage 277/1263 /kaggle/input/siim-covid19-resized-to-256px-jpg/test/36a2991ffe0e.jpg: 256x256 1 opacity, Done. (0.020s)\nimage 278/1263 /kaggle/input/siim-covid19-resized-to-256px-jpg/test/36b323299f7e.jpg: 256x256 1 opacity, Done. (0.019s)\nimage 279/1263 /kaggle/input/siim-covid19-resized-to-256px-jpg/test/36ba388a18df.jpg: 256x256 1 opacity, Done. (0.020s)\nimage 280/1263 /kaggle/input/siim-covid19-resized-to-256px-jpg/test/36be4f943382.jpg: 256x256 Done. (0.018s)\nimage 281/1263 /kaggle/input/siim-covid19-resized-to-256px-jpg/test/36e1a455aafc.jpg: 256x256 Done. (0.020s)\nimage 282/1263 /kaggle/input/siim-covid19-resized-to-256px-jpg/test/37034ce54151.jpg: 256x256 Done. (0.019s)\nimage 283/1263 /kaggle/input/siim-covid19-resized-to-256px-jpg/test/3730eb76afba.jpg: 256x256 1 opacity, Done. (0.021s)\nimage 284/1263 /kaggle/input/siim-covid19-resized-to-256px-jpg/test/374e1b87d7b8.jpg: 256x256 2 opacitys, Done. (0.020s)\nimage 285/1263 /kaggle/input/siim-covid19-resized-to-256px-jpg/test/375b61c5cc94.jpg: 256x256 2 opacitys, Done. (0.021s)\nimage 286/1263 /kaggle/input/siim-covid19-resized-to-256px-jpg/test/376d6d181b25.jpg: 256x256 2 opacitys, Done. (0.019s)\nimage 287/1263 /kaggle/input/siim-covid19-resized-to-256px-jpg/test/37811132dc96.jpg: 256x256 Done. (0.020s)\nimage 288/1263 /kaggle/input/siim-covid19-resized-to-256px-jpg/test/37bf83df1b86.jpg: 256x256 1 opacity, Done. (0.019s)\nimage 289/1263 /kaggle/input/siim-covid19-resized-to-256px-jpg/test/37c6c0aee54b.jpg: 256x256 2 opacitys, Done. (0.020s)\nimage 290/1263 /kaggle/input/siim-covid19-resized-to-256px-jpg/test/37cbf79c6de0.jpg: 256x256 Done. (0.018s)\nimage 291/1263 /kaggle/input/siim-covid19-resized-to-256px-jpg/test/37d6750b5282.jpg: 256x256 2 opacitys, Done. (0.019s)\nimage 292/1263 /kaggle/input/siim-covid19-resized-to-256px-jpg/test/386343f0df08.jpg: 256x256 2 opacitys, Done. (0.019s)\nimage 293/1263 /kaggle/input/siim-covid19-resized-to-256px-jpg/test/38b2e04ea601.jpg: 256x256 1 opacity, Done. (0.019s)\nimage 294/1263 /kaggle/input/siim-covid19-resized-to-256px-jpg/test/394892cb8a63.jpg: 256x256 Done. (0.019s)\nimage 295/1263 /kaggle/input/siim-covid19-resized-to-256px-jpg/test/39756fea8654.jpg: 256x256 Done. (0.019s)\nimage 296/1263 /kaggle/input/siim-covid19-resized-to-256px-jpg/test/39f8e38c9d43.jpg: 256x256 1 opacity, Done. (0.021s)\nimage 297/1263 /kaggle/input/siim-covid19-resized-to-256px-jpg/test/3a20fde98cdc.jpg: 256x256 Done. (0.018s)\nimage 298/1263 /kaggle/input/siim-covid19-resized-to-256px-jpg/test/3a2aa71a792e.jpg: 256x256 Done. (0.021s)\nimage 299/1263 /kaggle/input/siim-covid19-resized-to-256px-jpg/test/3a73591225ea.jpg: 256x256 Done. (0.018s)\nimage 300/1263 /kaggle/input/siim-covid19-resized-to-256px-jpg/test/3a81bc9c91c9.jpg: 256x256 Done. (0.020s)\nimage 301/1263 /kaggle/input/siim-covid19-resized-to-256px-jpg/test/3b1dcd10fa0e.jpg: 256x256 Done. (0.018s)\nimage 302/1263 /kaggle/input/siim-covid19-resized-to-256px-jpg/test/3b4ab121cbd4.jpg: 256x256 Done. (0.018s)\nimage 303/1263 /kaggle/input/siim-covid19-resized-to-256px-jpg/test/3b4e41cb8212.jpg: 256x256 Done. (0.018s)\nimage 304/1263 /kaggle/input/siim-covid19-resized-to-256px-jpg/test/3b5f48db44cc.jpg: 256x256 1 opacity, Done. (0.020s)\nimage 305/1263 /kaggle/input/siim-covid19-resized-to-256px-jpg/test/3b7ae6879147.jpg: 256x256 Done. (0.020s)\nimage 306/1263 /kaggle/input/siim-covid19-resized-to-256px-jpg/test/3b9fc021b611.jpg: 256x256 Done. (0.018s)\nimage 307/1263 /kaggle/input/siim-covid19-resized-to-256px-jpg/test/3bacdbd6ce10.jpg: 256x256 Done. (0.020s)\nimage 308/1263 /kaggle/input/siim-covid19-resized-to-256px-jpg/test/3bb8935d30d9.jpg: 256x256 Done. (0.018s)\nimage 309/1263 /kaggle/input/siim-covid19-resized-to-256px-jpg/test/3be5852db61e.jpg: 256x256 1 opacity, Done. (0.020s)\nimage 310/1263 /kaggle/input/siim-covid19-resized-to-256px-jpg/test/3bf0dc73f1fe.jpg: 256x256 Done. (0.018s)\nimage 311/1263 /kaggle/input/siim-covid19-resized-to-256px-jpg/test/3cccbd897c39.jpg: 256x256 Done. (0.018s)\nimage 312/1263 /kaggle/input/siim-covid19-resized-to-256px-jpg/test/3d465a00a9b6.jpg: 256x256 1 opacity, Done. (0.020s)\nimage 313/1263 /kaggle/input/siim-covid19-resized-to-256px-jpg/test/3d47cc325262.jpg: 256x256 Done. (0.018s)\nimage 314/1263 /kaggle/input/siim-covid19-resized-to-256px-jpg/test/3d4fb4320278.jpg: 256x256 Done. (0.019s)\nimage 315/1263 /kaggle/input/siim-covid19-resized-to-256px-jpg/test/3d56a237b6be.jpg: 256x256 Done. (0.018s)\nimage 316/1263 /kaggle/input/siim-covid19-resized-to-256px-jpg/test/3d623665afd7.jpg: 256x256 Done. (0.019s)\nimage 317/1263 /kaggle/input/siim-covid19-resized-to-256px-jpg/test/3d639e7999a5.jpg: 256x256 2 opacitys, Done. (0.019s)\nimage 318/1263 /kaggle/input/siim-covid19-resized-to-256px-jpg/test/3dcdfc352a06.jpg: 256x256 Done. (0.020s)\nimage 319/1263 /kaggle/input/siim-covid19-resized-to-256px-jpg/test/3dfa8d9f66f4.jpg: 256x256 Done. (0.018s)\nimage 320/1263 /kaggle/input/siim-covid19-resized-to-256px-jpg/test/3e4b4468eca3.jpg: 256x256 2 opacitys, Done. (0.019s)\nimage 321/1263 /kaggle/input/siim-covid19-resized-to-256px-jpg/test/3ed35204df56.jpg: 256x256 Done. (0.018s)\nimage 322/1263 /kaggle/input/siim-covid19-resized-to-256px-jpg/test/3f133fac447c.jpg: 256x256 Done. (0.018s)\nimage 323/1263 /kaggle/input/siim-covid19-resized-to-256px-jpg/test/3f1439b85338.jpg: 256x256 1 opacity, Done. (0.020s)\nimage 324/1263 /kaggle/input/siim-covid19-resized-to-256px-jpg/test/3f8195c5362d.jpg: 256x256 Done. (0.019s)\nimage 325/1263 /kaggle/input/siim-covid19-resized-to-256px-jpg/test/3fe73d3b28b9.jpg: 256x256 Done. (0.020s)\nimage 326/1263 /kaggle/input/siim-covid19-resized-to-256px-jpg/test/4040afec3ee4.jpg: 256x256 2 opacitys, Done. (0.019s)\nimage 327/1263 /kaggle/input/siim-covid19-resized-to-256px-jpg/test/4041be34745f.jpg: 256x256 1 opacity, Done. (0.024s)\nimage 328/1263 /kaggle/input/siim-covid19-resized-to-256px-jpg/test/404d53460643.jpg: 256x256 1 opacity, Done. (0.019s)\nimage 329/1263 /kaggle/input/siim-covid19-resized-to-256px-jpg/test/405d774f17d5.jpg: 256x256 Done. (0.020s)\nimage 330/1263 /kaggle/input/siim-covid19-resized-to-256px-jpg/test/409322480a9b.jpg: 256x256 1 opacity, Done. (0.019s)\nimage 331/1263 /kaggle/input/siim-covid19-resized-to-256px-jpg/test/41251dd79bb3.jpg: 256x256 Done. (0.020s)\nimage 332/1263 /kaggle/input/siim-covid19-resized-to-256px-jpg/test/413344e1032c.jpg: 256x256 1 opacity, Done. (0.019s)\nimage 333/1263 /kaggle/input/siim-covid19-resized-to-256px-jpg/test/41c25ec8c44c.jpg: 256x256 Done. (0.018s)\nimage 334/1263 /kaggle/input/siim-covid19-resized-to-256px-jpg/test/41c26ea10186.jpg: 256x256 Done. (0.019s)\nimage 335/1263 /kaggle/input/siim-covid19-resized-to-256px-jpg/test/422c0e145066.jpg: 256x256 Done. (0.019s)\nimage 336/1263 /kaggle/input/siim-covid19-resized-to-256px-jpg/test/435bc0fcb0ab.jpg: 256x256 Done. (0.020s)\nimage 337/1263 /kaggle/input/siim-covid19-resized-to-256px-jpg/test/43e370c03cd2.jpg: 256x256 Done. (0.018s)\nimage 338/1263 /kaggle/input/siim-covid19-resized-to-256px-jpg/test/440de3bfe05a.jpg: 256x256 Done. (0.020s)\nimage 339/1263 /kaggle/input/siim-covid19-resized-to-256px-jpg/test/445298de90b9.jpg: 256x256 2 opacitys, Done. (0.019s)\nimage 340/1263 /kaggle/input/siim-covid19-resized-to-256px-jpg/test/44b12000b7bf.jpg: 256x256 Done. (0.020s)\nimage 341/1263 /kaggle/input/siim-covid19-resized-to-256px-jpg/test/458417ad6155.jpg: 256x256 1 opacity, Done. (0.019s)\nimage 342/1263 /kaggle/input/siim-covid19-resized-to-256px-jpg/test/45a57e934e94.jpg: 256x256 Done. (0.021s)\nimage 343/1263 /kaggle/input/siim-covid19-resized-to-256px-jpg/test/45bc12129df2.jpg: 256x256 Done. (0.019s)\nimage 344/1263 /kaggle/input/siim-covid19-resized-to-256px-jpg/test/46719b856de1.jpg: 256x256 Done. (0.020s)\nimage 345/1263 /kaggle/input/siim-covid19-resized-to-256px-jpg/test/471f3f81a718.jpg: 256x256 Done. (0.022s)\nimage 346/1263 /kaggle/input/siim-covid19-resized-to-256px-jpg/test/476dec5c36e1.jpg: 256x256 Done. (0.021s)\nimage 347/1263 /kaggle/input/siim-covid19-resized-to-256px-jpg/test/47a976677416.jpg: 256x256 Done. (0.021s)\nimage 348/1263 /kaggle/input/siim-covid19-resized-to-256px-jpg/test/47ea205fd755.jpg: 256x256 Done. (0.018s)\nimage 349/1263 /kaggle/input/siim-covid19-resized-to-256px-jpg/test/4810ae5dbc08.jpg: 256x256 2 opacitys, Done. (0.020s)\nimage 350/1263 /kaggle/input/siim-covid19-resized-to-256px-jpg/test/4855b78e0df2.jpg: 256x256 Done. (0.018s)\nimage 351/1263 /kaggle/input/siim-covid19-resized-to-256px-jpg/test/4905b651a091.jpg: 256x256 1 opacity, Done. (0.020s)\nimage 352/1263 /kaggle/input/siim-covid19-resized-to-256px-jpg/test/49c1b06028a1.jpg: 256x256 1 opacity, Done. (0.019s)\nimage 353/1263 /kaggle/input/siim-covid19-resized-to-256px-jpg/test/49e9379c42dc.jpg: 256x256 2 opacitys, Done. (0.020s)\nimage 354/1263 /kaggle/input/siim-covid19-resized-to-256px-jpg/test/49fb3141efe3.jpg: 256x256 2 opacitys, Done. (0.019s)\nimage 355/1263 /kaggle/input/siim-covid19-resized-to-256px-jpg/test/4acbd31eafd5.jpg: 256x256 Done. (0.019s)\nimage 356/1263 /kaggle/input/siim-covid19-resized-to-256px-jpg/test/4b0058c1f54e.jpg: 256x256 2 opacitys, Done. (0.019s)\nimage 357/1263 /kaggle/input/siim-covid19-resized-to-256px-jpg/test/4bf0dc7bae40.jpg: 256x256 Done. (0.018s)\nimage 358/1263 /kaggle/input/siim-covid19-resized-to-256px-jpg/test/4c0658c05a64.jpg: 256x256 Done. (0.018s)\nimage 359/1263 /kaggle/input/siim-covid19-resized-to-256px-jpg/test/4c2d931d0f33.jpg: 256x256 2 opacitys, Done. (0.018s)\nimage 360/1263 /kaggle/input/siim-covid19-resized-to-256px-jpg/test/4c3ca06916a1.jpg: 256x256 Done. (0.019s)\nimage 361/1263 /kaggle/input/siim-covid19-resized-to-256px-jpg/test/4c3dbddfc294.jpg: 256x256 Done. (0.018s)\nimage 362/1263 /kaggle/input/siim-covid19-resized-to-256px-jpg/test/4c4737c3e3f8.jpg: 256x256 Done. (0.019s)\nimage 363/1263 /kaggle/input/siim-covid19-resized-to-256px-jpg/test/4c56fe85fa4f.jpg: 256x256 Done. (0.018s)\nimage 364/1263 /kaggle/input/siim-covid19-resized-to-256px-jpg/test/4ccb8a39c77a.jpg: 256x256 Done. (0.019s)\nimage 365/1263 /kaggle/input/siim-covid19-resized-to-256px-jpg/test/4d105a99d866.jpg: 256x256 Done. (0.018s)\nimage 366/1263 /kaggle/input/siim-covid19-resized-to-256px-jpg/test/4d1bf3193a0c.jpg: 256x256 Done. (0.018s)\nimage 367/1263 /kaggle/input/siim-covid19-resized-to-256px-jpg/test/4d56b2fc668c.jpg: 256x256 2 opacitys, Done. (0.020s)\nimage 368/1263 /kaggle/input/siim-covid19-resized-to-256px-jpg/test/4d6c8e93e7c9.jpg: 256x256 2 opacitys, Done. (0.019s)\nimage 369/1263 /kaggle/input/siim-covid19-resized-to-256px-jpg/test/4d7b06512cc1.jpg: 256x256 1 opacity, Done. (0.021s)\nimage 370/1263 /kaggle/input/siim-covid19-resized-to-256px-jpg/test/4e01dd0a5fdf.jpg: 256x256 2 opacitys, Done. (0.025s)\nimage 371/1263 /kaggle/input/siim-covid19-resized-to-256px-jpg/test/4e126f476f86.jpg: 256x256 2 opacitys, Done. (0.030s)\nimage 372/1263 /kaggle/input/siim-covid19-resized-to-256px-jpg/test/4ea555b6e2a8.jpg: 256x256 Done. (0.032s)\nimage 373/1263 /kaggle/input/siim-covid19-resized-to-256px-jpg/test/4eb36901f082.jpg: 256x256 1 opacity, Done. (0.033s)\nimage 374/1263 /kaggle/input/siim-covid19-resized-to-256px-jpg/test/4eb9a8ab1559.jpg: 256x256 Done. (0.026s)\nimage 375/1263 /kaggle/input/siim-covid19-resized-to-256px-jpg/test/4ece84b1cfb8.jpg: 256x256 1 opacity, Done. (0.031s)\nimage 376/1263 /kaggle/input/siim-covid19-resized-to-256px-jpg/test/4eceeddd00ca.jpg: 256x256 2 opacitys, Done. (0.032s)\nimage 377/1263 /kaggle/input/siim-covid19-resized-to-256px-jpg/test/4eecfe2a4de1.jpg: 256x256 Done. (0.031s)\nimage 378/1263 /kaggle/input/siim-covid19-resized-to-256px-jpg/test/4f1ad3374103.jpg: 256x256 Done. (0.028s)\nimage 379/1263 /kaggle/input/siim-covid19-resized-to-256px-jpg/test/4f7f40e478b1.jpg: 256x256 Done. (0.029s)\nimage 380/1263 /kaggle/input/siim-covid19-resized-to-256px-jpg/test/4f83ec489a15.jpg: 256x256 2 opacitys, Done. (0.028s)\nimage 381/1263 /kaggle/input/siim-covid19-resized-to-256px-jpg/test/4fc12ae446a8.jpg: 256x256 2 opacitys, Done. (0.028s)\nimage 382/1263 /kaggle/input/siim-covid19-resized-to-256px-jpg/test/4fe0444d7fc5.jpg: 256x256 1 opacity, Done. (0.029s)\nimage 383/1263 /kaggle/input/siim-covid19-resized-to-256px-jpg/test/4fe79f658041.jpg: 256x256 Done. (0.028s)\nimage 384/1263 /kaggle/input/siim-covid19-resized-to-256px-jpg/test/4ffdca4189d5.jpg: 256x256 Done. (0.025s)\nimage 385/1263 /kaggle/input/siim-covid19-resized-to-256px-jpg/test/4fff9ae1ff37.jpg: 256x256 Done. (0.019s)\nimage 386/1263 /kaggle/input/siim-covid19-resized-to-256px-jpg/test/50201fe80b1b.jpg: 256x256 2 opacitys, Done. (0.019s)\nimage 387/1263 /kaggle/input/siim-covid19-resized-to-256px-jpg/test/5020cd97beb8.jpg: 256x256 1 opacity, Done. (0.020s)\nimage 388/1263 /kaggle/input/siim-covid19-resized-to-256px-jpg/test/50243b2cdb56.jpg: 256x256 1 opacity, Done. (0.019s)\nimage 389/1263 /kaggle/input/siim-covid19-resized-to-256px-jpg/test/503a6e0884c6.jpg: 256x256 1 opacity, Done. (0.019s)\nimage 390/1263 /kaggle/input/siim-covid19-resized-to-256px-jpg/test/50537bcf4cc2.jpg: 256x256 Done. (0.018s)\nimage 391/1263 /kaggle/input/siim-covid19-resized-to-256px-jpg/test/5058f3b157e3.jpg: 256x256 Done. (0.018s)\nimage 392/1263 /kaggle/input/siim-covid19-resized-to-256px-jpg/test/509c535a3dc1.jpg: 256x256 1 opacity, Done. (0.020s)\nimage 393/1263 /kaggle/input/siim-covid19-resized-to-256px-jpg/test/50c0e40fd929.jpg: 256x256 1 opacity, Done. (0.019s)\nimage 394/1263 /kaggle/input/siim-covid19-resized-to-256px-jpg/test/50de91c4297d.jpg: 256x256 2 opacitys, Done. (0.020s)\nimage 395/1263 /kaggle/input/siim-covid19-resized-to-256px-jpg/test/50dfcc0c2826.jpg: 256x256 2 opacitys, Done. (0.019s)\nimage 396/1263 /kaggle/input/siim-covid19-resized-to-256px-jpg/test/51635cbfbe18.jpg: 256x256 1 opacity, Done. (0.020s)\nimage 397/1263 /kaggle/input/siim-covid19-resized-to-256px-jpg/test/5163e54f5fc1.jpg: 256x256 Done. (0.019s)\nimage 398/1263 /kaggle/input/siim-covid19-resized-to-256px-jpg/test/516d9b3ee48c.jpg: 256x256 Done. (0.020s)\nimage 399/1263 /kaggle/input/siim-covid19-resized-to-256px-jpg/test/516e4adba012.jpg: 256x256 Done. (0.018s)\nimage 400/1263 /kaggle/input/siim-covid19-resized-to-256px-jpg/test/5175b9a4a25e.jpg: 256x256 Done. (0.020s)\nimage 401/1263 /kaggle/input/siim-covid19-resized-to-256px-jpg/test/51a0100c5921.jpg: 256x256 Done. (0.019s)\nimage 402/1263 /kaggle/input/siim-covid19-resized-to-256px-jpg/test/51aedbecbf46.jpg: 256x256 Done. (0.018s)\nimage 403/1263 /kaggle/input/siim-covid19-resized-to-256px-jpg/test/51cbf7662bee.jpg: 256x256 1 opacity, Done. (0.020s)\nimage 404/1263 /kaggle/input/siim-covid19-resized-to-256px-jpg/test/51d2f37f3f60.jpg: 256x256 Done. (0.018s)\nimage 405/1263 /kaggle/input/siim-covid19-resized-to-256px-jpg/test/51d9dda5e493.jpg: 256x256 Done. (0.020s)\nimage 406/1263 /kaggle/input/siim-covid19-resized-to-256px-jpg/test/51ea4e1227bd.jpg: 256x256 Done. (0.018s)\nimage 407/1263 /kaggle/input/siim-covid19-resized-to-256px-jpg/test/520a1a7b039b.jpg: 256x256 Done. (0.018s)\nimage 408/1263 /kaggle/input/siim-covid19-resized-to-256px-jpg/test/52168ec4f7c5.jpg: 256x256 Done. (0.018s)\nimage 409/1263 /kaggle/input/siim-covid19-resized-to-256px-jpg/test/5232ab4c4671.jpg: 256x256 Done. (0.018s)\nimage 410/1263 /kaggle/input/siim-covid19-resized-to-256px-jpg/test/52f02af216bb.jpg: 256x256 Done. (0.018s)\nimage 411/1263 /kaggle/input/siim-covid19-resized-to-256px-jpg/test/53316aefede6.jpg: 256x256 1 opacity, Done. (0.019s)\nimage 412/1263 /kaggle/input/siim-covid19-resized-to-256px-jpg/test/536da2d8df21.jpg: 256x256 Done. (0.018s)\nimage 413/1263 /kaggle/input/siim-covid19-resized-to-256px-jpg/test/5378fb58d2d1.jpg: 256x256 2 opacitys, Done. (0.019s)\nimage 414/1263 /kaggle/input/siim-covid19-resized-to-256px-jpg/test/539931eced05.jpg: 256x256 2 opacitys, Done. (0.020s)\nimage 415/1263 /kaggle/input/siim-covid19-resized-to-256px-jpg/test/53b0dc275cb0.jpg: 256x256 2 opacitys, Done. (0.019s)\nimage 416/1263 /kaggle/input/siim-covid19-resized-to-256px-jpg/test/53b4af5b74d7.jpg: 256x256 Done. (0.019s)\nimage 417/1263 /kaggle/input/siim-covid19-resized-to-256px-jpg/test/53c971120ab1.jpg: 256x256 1 opacity, Done. (0.019s)\nimage 418/1263 /kaggle/input/siim-covid19-resized-to-256px-jpg/test/54066d711ef9.jpg: 256x256 Done. (0.019s)\nimage 419/1263 /kaggle/input/siim-covid19-resized-to-256px-jpg/test/5472531dd991.jpg: 256x256 Done. (0.018s)\nimage 420/1263 /kaggle/input/siim-covid19-resized-to-256px-jpg/test/550a6a9ee91e.jpg: 256x256 Done. (0.018s)\nimage 421/1263 /kaggle/input/siim-covid19-resized-to-256px-jpg/test/551957feafcc.jpg: 256x256 1 opacity, Done. (0.019s)\nimage 422/1263 /kaggle/input/siim-covid19-resized-to-256px-jpg/test/553cc2a7b556.jpg: 256x256 1 opacity, Done. (0.019s)\nimage 423/1263 /kaggle/input/siim-covid19-resized-to-256px-jpg/test/55433651ec05.jpg: 256x256 Done. (0.019s)\nimage 424/1263 /kaggle/input/siim-covid19-resized-to-256px-jpg/test/557a70442928.jpg: 256x256 Done. (0.018s)\nimage 425/1263 /kaggle/input/siim-covid19-resized-to-256px-jpg/test/5592c8778ae2.jpg: 256x256 Done. (0.019s)\nimage 426/1263 /kaggle/input/siim-covid19-resized-to-256px-jpg/test/5596c4063d58.jpg: 256x256 Done. (0.018s)\nimage 427/1263 /kaggle/input/siim-covid19-resized-to-256px-jpg/test/55ea6ce07bdd.jpg: 256x256 2 opacitys, Done. (0.020s)\nimage 428/1263 /kaggle/input/siim-covid19-resized-to-256px-jpg/test/55ecad406759.jpg: 256x256 1 opacity, Done. (0.019s)\nimage 429/1263 /kaggle/input/siim-covid19-resized-to-256px-jpg/test/55f69f03ee2f.jpg: 256x256 1 opacity, Done. (0.020s)\nimage 430/1263 /kaggle/input/siim-covid19-resized-to-256px-jpg/test/56414fb3f177.jpg: 256x256 2 opacitys, Done. (0.019s)\nimage 431/1263 /kaggle/input/siim-covid19-resized-to-256px-jpg/test/5699fc89704f.jpg: 256x256 2 opacitys, Done. (0.020s)\nimage 432/1263 /kaggle/input/siim-covid19-resized-to-256px-jpg/test/56a3fb6663bf.jpg: 256x256 1 opacity, Done. (0.019s)\nimage 433/1263 /kaggle/input/siim-covid19-resized-to-256px-jpg/test/56b010725833.jpg: 256x256 Done. (0.018s)\nimage 434/1263 /kaggle/input/siim-covid19-resized-to-256px-jpg/test/572d5c14fc66.jpg: 256x256 2 opacitys, Done. (0.019s)\nimage 435/1263 /kaggle/input/siim-covid19-resized-to-256px-jpg/test/574b38d8f6ee.jpg: 256x256 2 opacitys, Done. (0.019s)\nimage 436/1263 /kaggle/input/siim-covid19-resized-to-256px-jpg/test/5765f6b4707d.jpg: 256x256 1 opacity, Done. (0.020s)\nimage 437/1263 /kaggle/input/siim-covid19-resized-to-256px-jpg/test/576cbe3e3680.jpg: 256x256 Done. (0.018s)\nimage 438/1263 /kaggle/input/siim-covid19-resized-to-256px-jpg/test/57879f49e8a7.jpg: 256x256 Done. (0.019s)\nimage 439/1263 /kaggle/input/siim-covid19-resized-to-256px-jpg/test/57d169dabba7.jpg: 256x256 Done. (0.018s)\nimage 440/1263 /kaggle/input/siim-covid19-resized-to-256px-jpg/test/586b00a19a17.jpg: 256x256 Done. (0.019s)\nimage 441/1263 /kaggle/input/siim-covid19-resized-to-256px-jpg/test/5878b290f09a.jpg: 256x256 2 opacitys, Done. (0.019s)\nimage 442/1263 /kaggle/input/siim-covid19-resized-to-256px-jpg/test/58bc298e0f9f.jpg: 256x256 2 opacitys, Done. (0.019s)\nimage 443/1263 /kaggle/input/siim-covid19-resized-to-256px-jpg/test/59911e31f963.jpg: 256x256 1 opacity, Done. (0.019s)\nimage 444/1263 /kaggle/input/siim-covid19-resized-to-256px-jpg/test/59a0fc64bd20.jpg: 256x256 2 opacitys, Done. (0.019s)\nimage 445/1263 /kaggle/input/siim-covid19-resized-to-256px-jpg/test/59c4bfbf8b5b.jpg: 256x256 Done. (0.019s)\nimage 446/1263 /kaggle/input/siim-covid19-resized-to-256px-jpg/test/59d238641bee.jpg: 256x256 Done. (0.018s)\nimage 447/1263 /kaggle/input/siim-covid19-resized-to-256px-jpg/test/5a0de0207028.jpg: 256x256 Done. (0.019s)\nimage 448/1263 /kaggle/input/siim-covid19-resized-to-256px-jpg/test/5a2b8c736aa3.jpg: 256x256 Done. (0.018s)\nimage 449/1263 /kaggle/input/siim-covid19-resized-to-256px-jpg/test/5a73ab51749e.jpg: 256x256 Done. (0.019s)\nimage 450/1263 /kaggle/input/siim-covid19-resized-to-256px-jpg/test/5aa20bb0feb2.jpg: 256x256 Done. (0.018s)\nimage 451/1263 /kaggle/input/siim-covid19-resized-to-256px-jpg/test/5ac874337f82.jpg: 256x256 Done. (0.019s)\nimage 452/1263 /kaggle/input/siim-covid19-resized-to-256px-jpg/test/5adf919e765a.jpg: 256x256 Done. (0.018s)\nimage 453/1263 /kaggle/input/siim-covid19-resized-to-256px-jpg/test/5af15b21333b.jpg: 256x256 2 opacitys, Done. (0.020s)\nimage 454/1263 /kaggle/input/siim-covid19-resized-to-256px-jpg/test/5b12f6b2c93e.jpg: 256x256 1 opacity, Done. (0.019s)\nimage 455/1263 /kaggle/input/siim-covid19-resized-to-256px-jpg/test/5b27050cfb90.jpg: 256x256 Done. (0.018s)\nimage 456/1263 /kaggle/input/siim-covid19-resized-to-256px-jpg/test/5b75a1de503b.jpg: 256x256 2 opacitys, Done. (0.019s)\nimage 457/1263 /kaggle/input/siim-covid19-resized-to-256px-jpg/test/5b8ee5baa1d5.jpg: 256x256 Done. (0.018s)\nimage 458/1263 /kaggle/input/siim-covid19-resized-to-256px-jpg/test/5ba33931fc64.jpg: 256x256 Done. (0.019s)\nimage 459/1263 /kaggle/input/siim-covid19-resized-to-256px-jpg/test/5bab1b955f2a.jpg: 256x256 Done. (0.018s)\nimage 460/1263 /kaggle/input/siim-covid19-resized-to-256px-jpg/test/5badf765648c.jpg: 256x256 Done. (0.019s)\nimage 461/1263 /kaggle/input/siim-covid19-resized-to-256px-jpg/test/5c4c752c1e46.jpg: 256x256 Done. (0.018s)\nimage 462/1263 /kaggle/input/siim-covid19-resized-to-256px-jpg/test/5c88a5fc55e7.jpg: 256x256 2 opacitys, Done. (0.020s)\nimage 463/1263 /kaggle/input/siim-covid19-resized-to-256px-jpg/test/5c8c441a0650.jpg: 256x256 Done. (0.018s)\nimage 464/1263 /kaggle/input/siim-covid19-resized-to-256px-jpg/test/5c90beaa5c48.jpg: 256x256 2 opacitys, Done. (0.020s)\nimage 465/1263 /kaggle/input/siim-covid19-resized-to-256px-jpg/test/5c9f41283e7c.jpg: 256x256 Done. (0.018s)\nimage 466/1263 /kaggle/input/siim-covid19-resized-to-256px-jpg/test/5cb984539107.jpg: 256x256 1 opacity, Done. (0.020s)\nimage 467/1263 /kaggle/input/siim-covid19-resized-to-256px-jpg/test/5db9599cf9f7.jpg: 256x256 2 opacitys, Done. (0.019s)\nimage 468/1263 /kaggle/input/siim-covid19-resized-to-256px-jpg/test/5dba2b3647b1.jpg: 256x256 2 opacitys, Done. (0.019s)\nimage 469/1263 /kaggle/input/siim-covid19-resized-to-256px-jpg/test/5dd9e477a6ee.jpg: 256x256 1 opacity, Done. (0.020s)\nimage 470/1263 /kaggle/input/siim-covid19-resized-to-256px-jpg/test/5dfad16f8d65.jpg: 256x256 2 opacitys, Done. (0.019s)\nimage 471/1263 /kaggle/input/siim-covid19-resized-to-256px-jpg/test/5e0e7acd9c7d.jpg: 256x256 1 opacity, Done. (0.020s)\nimage 472/1263 /kaggle/input/siim-covid19-resized-to-256px-jpg/test/5e64da034f7a.jpg: 256x256 1 opacity, Done. (0.019s)\nimage 473/1263 /kaggle/input/siim-covid19-resized-to-256px-jpg/test/5e8ac1fe2b82.jpg: 256x256 2 opacitys, Done. (0.020s)\nimage 474/1263 /kaggle/input/siim-covid19-resized-to-256px-jpg/test/5e8d99b9ab38.jpg: 256x256 2 opacitys, Done. (0.019s)\nimage 475/1263 /kaggle/input/siim-covid19-resized-to-256px-jpg/test/5eb97e03c468.jpg: 256x256 1 opacity, Done. (0.019s)\nimage 476/1263 /kaggle/input/siim-covid19-resized-to-256px-jpg/test/5ee582e2463a.jpg: 256x256 2 opacitys, Done. (0.020s)\nimage 477/1263 /kaggle/input/siim-covid19-resized-to-256px-jpg/test/5f65421ff6fd.jpg: 256x256 Done. (0.018s)\nimage 478/1263 /kaggle/input/siim-covid19-resized-to-256px-jpg/test/5fa584b8b4ad.jpg: 256x256 1 opacity, Done. (0.020s)\nimage 479/1263 /kaggle/input/siim-covid19-resized-to-256px-jpg/test/5fba37ac7937.jpg: 256x256 1 opacity, Done. (0.019s)\nimage 480/1263 /kaggle/input/siim-covid19-resized-to-256px-jpg/test/5fbc3a77d700.jpg: 256x256 2 opacitys, Done. (0.019s)\nimage 481/1263 /kaggle/input/siim-covid19-resized-to-256px-jpg/test/5fbec0b4056c.jpg: 256x256 2 opacitys, Done. (0.019s)\nimage 482/1263 /kaggle/input/siim-covid19-resized-to-256px-jpg/test/60197b6237e4.jpg: 256x256 Done. (0.018s)\nimage 483/1263 /kaggle/input/siim-covid19-resized-to-256px-jpg/test/603addd70746.jpg: 256x256 2 opacitys, Done. (0.020s)\nimage 484/1263 /kaggle/input/siim-covid19-resized-to-256px-jpg/test/604bd55c21c6.jpg: 256x256 2 opacitys, Done. (0.019s)\nimage 485/1263 /kaggle/input/siim-covid19-resized-to-256px-jpg/test/609361f18122.jpg: 256x256 2 opacitys, Done. (0.020s)\nimage 486/1263 /kaggle/input/siim-covid19-resized-to-256px-jpg/test/60f94703051a.jpg: 256x256 Done. (0.018s)\nimage 487/1263 /kaggle/input/siim-covid19-resized-to-256px-jpg/test/61505043bc32.jpg: 256x256 Done. (0.019s)\nimage 488/1263 /kaggle/input/siim-covid19-resized-to-256px-jpg/test/61884a13a399.jpg: 256x256 1 opacity, Done. (0.019s)\nimage 489/1263 /kaggle/input/siim-covid19-resized-to-256px-jpg/test/620191dbdfa4.jpg: 256x256 Done. (0.019s)\nimage 490/1263 /kaggle/input/siim-covid19-resized-to-256px-jpg/test/629ef3bd6a66.jpg: 256x256 2 opacitys, Done. (0.019s)\nimage 491/1263 /kaggle/input/siim-covid19-resized-to-256px-jpg/test/62eca401e981.jpg: 256x256 1 opacity, Done. (0.019s)\nimage 492/1263 /kaggle/input/siim-covid19-resized-to-256px-jpg/test/62fb484194fb.jpg: 256x256 1 opacity, Done. (0.019s)\nimage 493/1263 /kaggle/input/siim-covid19-resized-to-256px-jpg/test/63173909bed5.jpg: 256x256 2 opacitys, Done. (0.019s)\nimage 494/1263 /kaggle/input/siim-covid19-resized-to-256px-jpg/test/633e41912f6e.jpg: 256x256 2 opacitys, Done. (0.020s)\nimage 495/1263 /kaggle/input/siim-covid19-resized-to-256px-jpg/test/639f6bf3c727.jpg: 256x256 Done. (0.018s)\nimage 496/1263 /kaggle/input/siim-covid19-resized-to-256px-jpg/test/649b529933d6.jpg: 256x256 2 opacitys, Done. (0.020s)\nimage 497/1263 /kaggle/input/siim-covid19-resized-to-256px-jpg/test/64c64a317c96.jpg: 256x256 2 opacitys, Done. (0.019s)\nimage 498/1263 /kaggle/input/siim-covid19-resized-to-256px-jpg/test/64ea82b1343f.jpg: 256x256 1 opacity, Done. (0.020s)\nimage 499/1263 /kaggle/input/siim-covid19-resized-to-256px-jpg/test/65045f5ef280.jpg: 256x256 Done. (0.018s)\nimage 500/1263 /kaggle/input/siim-covid19-resized-to-256px-jpg/test/65a02e95292e.jpg: 256x256 Done. (0.018s)\nimage 501/1263 /kaggle/input/siim-covid19-resized-to-256px-jpg/test/65a5d46ef968.jpg: 256x256 1 opacity, Done. (0.019s)\nimage 502/1263 /kaggle/input/siim-covid19-resized-to-256px-jpg/test/65acc1fb99a3.jpg: 256x256 Done. (0.018s)\nimage 503/1263 /kaggle/input/siim-covid19-resized-to-256px-jpg/test/65be7fc2448a.jpg: 256x256 1 opacity, Done. (0.021s)\nimage 504/1263 /kaggle/input/siim-covid19-resized-to-256px-jpg/test/6610e4632963.jpg: 256x256 Done. (0.018s)\nimage 505/1263 /kaggle/input/siim-covid19-resized-to-256px-jpg/test/661343e25b55.jpg: 256x256 2 opacitys, Done. (0.020s)\nimage 506/1263 /kaggle/input/siim-covid19-resized-to-256px-jpg/test/664250f0f623.jpg: 256x256 Done. (0.018s)\nimage 507/1263 /kaggle/input/siim-covid19-resized-to-256px-jpg/test/66ca7bb52ab9.jpg: 256x256 Done. (0.019s)\nimage 508/1263 /kaggle/input/siim-covid19-resized-to-256px-jpg/test/66d812201e73.jpg: 256x256 Done. (0.018s)\nimage 509/1263 /kaggle/input/siim-covid19-resized-to-256px-jpg/test/6707b082f3c9.jpg: 256x256 2 opacitys, Done. (0.020s)\nimage 510/1263 /kaggle/input/siim-covid19-resized-to-256px-jpg/test/670989e56968.jpg: 256x256 1 opacity, Done. (0.019s)\nimage 511/1263 /kaggle/input/siim-covid19-resized-to-256px-jpg/test/6746a1932779.jpg: 256x256 Done. (0.018s)\nimage 512/1263 /kaggle/input/siim-covid19-resized-to-256px-jpg/test/6758e5ed7742.jpg: 256x256 2 opacitys, Done. (0.019s)\nimage 513/1263 /kaggle/input/siim-covid19-resized-to-256px-jpg/test/67f192ad1a53.jpg: 256x256 2 opacitys, Done. (0.019s)\nimage 514/1263 /kaggle/input/siim-covid19-resized-to-256px-jpg/test/681766974456.jpg: 256x256 Done. (0.019s)\nimage 515/1263 /kaggle/input/siim-covid19-resized-to-256px-jpg/test/6828795ea830.jpg: 256x256 2 opacitys, Done. (0.019s)\nimage 516/1263 /kaggle/input/siim-covid19-resized-to-256px-jpg/test/68b95eed58ed.jpg: 256x256 Done. (0.019s)\nimage 517/1263 /kaggle/input/siim-covid19-resized-to-256px-jpg/test/695e2c6dede4.jpg: 256x256 Done. (0.018s)\nimage 518/1263 /kaggle/input/siim-covid19-resized-to-256px-jpg/test/697a674d44e0.jpg: 256x256 2 opacitys, Done. (0.020s)\nimage 519/1263 /kaggle/input/siim-covid19-resized-to-256px-jpg/test/699fc1ec26f9.jpg: 256x256 2 opacitys, Done. (0.019s)\nimage 520/1263 /kaggle/input/siim-covid19-resized-to-256px-jpg/test/69ace2980660.jpg: 256x256 Done. (0.019s)\nimage 521/1263 /kaggle/input/siim-covid19-resized-to-256px-jpg/test/69d1134dccc6.jpg: 256x256 Done. (0.018s)\nimage 522/1263 /kaggle/input/siim-covid19-resized-to-256px-jpg/test/69ffab5539ec.jpg: 256x256 1 opacity, Done. (0.019s)\nimage 523/1263 /kaggle/input/siim-covid19-resized-to-256px-jpg/test/6a0889223a38.jpg: 256x256 Done. (0.018s)\nimage 524/1263 /kaggle/input/siim-covid19-resized-to-256px-jpg/test/6a5a6eaef699.jpg: 256x256 1 opacity, Done. (0.019s)\nimage 525/1263 /kaggle/input/siim-covid19-resized-to-256px-jpg/test/6a99f80ffa1b.jpg: 256x256 Done. (0.020s)\nimage 526/1263 /kaggle/input/siim-covid19-resized-to-256px-jpg/test/6aedc81fb62d.jpg: 256x256 Done. (0.018s)\nimage 527/1263 /kaggle/input/siim-covid19-resized-to-256px-jpg/test/6af96c8a94c9.jpg: 256x256 1 opacity, Done. (0.020s)\nimage 528/1263 /kaggle/input/siim-covid19-resized-to-256px-jpg/test/6b07294c7674.jpg: 256x256 Done. (0.018s)\nimage 529/1263 /kaggle/input/siim-covid19-resized-to-256px-jpg/test/6bce1f945580.jpg: 256x256 Done. (0.019s)\nimage 530/1263 /kaggle/input/siim-covid19-resized-to-256px-jpg/test/6be23f5c40f3.jpg: 256x256 Done. (0.018s)\nimage 531/1263 /kaggle/input/siim-covid19-resized-to-256px-jpg/test/6be63db536d7.jpg: 256x256 2 opacitys, Done. (0.020s)\nimage 532/1263 /kaggle/input/siim-covid19-resized-to-256px-jpg/test/6c0e9f010b2b.jpg: 256x256 2 opacitys, Done. (0.019s)\nimage 533/1263 /kaggle/input/siim-covid19-resized-to-256px-jpg/test/6c42a41a6c6e.jpg: 256x256 Done. (0.019s)\nimage 534/1263 /kaggle/input/siim-covid19-resized-to-256px-jpg/test/6c45d9b8e386.jpg: 256x256 1 opacity, Done. (0.019s)\nimage 535/1263 /kaggle/input/siim-covid19-resized-to-256px-jpg/test/6c4cdd180e0d.jpg: 256x256 Done. (0.018s)\nimage 536/1263 /kaggle/input/siim-covid19-resized-to-256px-jpg/test/6ca497c845ef.jpg: 256x256 1 opacity, Done. (0.019s)\nimage 537/1263 /kaggle/input/siim-covid19-resized-to-256px-jpg/test/6ca7b75a4796.jpg: 256x256 Done. (0.018s)\nimage 538/1263 /kaggle/input/siim-covid19-resized-to-256px-jpg/test/6cc1a9065abb.jpg: 256x256 2 opacitys, Done. (0.019s)\nimage 539/1263 /kaggle/input/siim-covid19-resized-to-256px-jpg/test/6cc1f1900818.jpg: 256x256 Done. (0.018s)\nimage 540/1263 /kaggle/input/siim-covid19-resized-to-256px-jpg/test/6ce67071aa0e.jpg: 256x256 1 opacity, Done. (0.020s)\nimage 541/1263 /kaggle/input/siim-covid19-resized-to-256px-jpg/test/6d3f777f0a8c.jpg: 256x256 Done. (0.018s)\nimage 542/1263 /kaggle/input/siim-covid19-resized-to-256px-jpg/test/6d66127d071d.jpg: 256x256 1 opacity, Done. (0.020s)\nimage 543/1263 /kaggle/input/siim-covid19-resized-to-256px-jpg/test/6dd0cdbd225f.jpg: 256x256 2 opacitys, Done. (0.019s)\nimage 544/1263 /kaggle/input/siim-covid19-resized-to-256px-jpg/test/6de46911f968.jpg: 256x256 Done. (0.019s)\nimage 545/1263 /kaggle/input/siim-covid19-resized-to-256px-jpg/test/6dea3c3d1efa.jpg: 256x256 1 opacity, Done. (0.019s)\nimage 546/1263 /kaggle/input/siim-covid19-resized-to-256px-jpg/test/6e13fdb97952.jpg: 256x256 Done. (0.018s)\nimage 547/1263 /kaggle/input/siim-covid19-resized-to-256px-jpg/test/6e798a5025b7.jpg: 256x256 Done. (0.019s)\nimage 548/1263 /kaggle/input/siim-covid19-resized-to-256px-jpg/test/6ea59a2ee627.jpg: 256x256 Done. (0.025s)\nimage 549/1263 /kaggle/input/siim-covid19-resized-to-256px-jpg/test/6eb71d191dec.jpg: 256x256 Done. (0.019s)\nimage 550/1263 /kaggle/input/siim-covid19-resized-to-256px-jpg/test/6f3931d7257e.jpg: 256x256 Done. (0.018s)\nimage 551/1263 /kaggle/input/siim-covid19-resized-to-256px-jpg/test/6f423b9b0633.jpg: 256x256 Done. (0.019s)\nimage 552/1263 /kaggle/input/siim-covid19-resized-to-256px-jpg/test/6f9d2683e93e.jpg: 256x256 Done. (0.018s)\nimage 553/1263 /kaggle/input/siim-covid19-resized-to-256px-jpg/test/6fd59d569aa1.jpg: 256x256 Done. (0.019s)\nimage 554/1263 /kaggle/input/siim-covid19-resized-to-256px-jpg/test/6fd7971538df.jpg: 256x256 Done. (0.018s)\nimage 555/1263 /kaggle/input/siim-covid19-resized-to-256px-jpg/test/700b4524a9cf.jpg: 256x256 Done. (0.019s)\nimage 556/1263 /kaggle/input/siim-covid19-resized-to-256px-jpg/test/7035dc2026f0.jpg: 256x256 2 opacitys, Done. (0.019s)\nimage 557/1263 /kaggle/input/siim-covid19-resized-to-256px-jpg/test/70bee63a6740.jpg: 256x256 1 opacity, Done. (0.020s)\nimage 558/1263 /kaggle/input/siim-covid19-resized-to-256px-jpg/test/714c44f479b0.jpg: 256x256 Done. (0.018s)\nimage 559/1263 /kaggle/input/siim-covid19-resized-to-256px-jpg/test/7169a450d1bf.jpg: 256x256 Done. (0.019s)\nimage 560/1263 /kaggle/input/siim-covid19-resized-to-256px-jpg/test/718676f11609.jpg: 256x256 Done. (0.018s)\nimage 561/1263 /kaggle/input/siim-covid19-resized-to-256px-jpg/test/71a354af0223.jpg: 256x256 Done. (0.019s)\nimage 562/1263 /kaggle/input/siim-covid19-resized-to-256px-jpg/test/71dc3bd13f18.jpg: 256x256 2 opacitys, Done. (0.023s)\nimage 563/1263 /kaggle/input/siim-covid19-resized-to-256px-jpg/test/71dfba1a08de.jpg: 256x256 Done. (0.018s)\nimage 564/1263 /kaggle/input/siim-covid19-resized-to-256px-jpg/test/7205313f062a.jpg: 256x256 Done. (0.019s)\nimage 565/1263 /kaggle/input/siim-covid19-resized-to-256px-jpg/test/720a67515500.jpg: 256x256 2 opacitys, Done. (0.019s)\nimage 566/1263 /kaggle/input/siim-covid19-resized-to-256px-jpg/test/7230234e120a.jpg: 256x256 2 opacitys, Done. (0.020s)\nimage 567/1263 /kaggle/input/siim-covid19-resized-to-256px-jpg/test/7230f166720e.jpg: 256x256 2 opacitys, Done. (0.019s)\nimage 568/1263 /kaggle/input/siim-covid19-resized-to-256px-jpg/test/731910f93559.jpg: 256x256 Done. (0.019s)\nimage 569/1263 /kaggle/input/siim-covid19-resized-to-256px-jpg/test/731b94c566ef.jpg: 256x256 1 opacity, Done. (0.019s)\nimage 570/1263 /kaggle/input/siim-covid19-resized-to-256px-jpg/test/73eb8898d211.jpg: 256x256 Done. (0.019s)\nimage 571/1263 /kaggle/input/siim-covid19-resized-to-256px-jpg/test/7509f6912049.jpg: 256x256 Done. (0.018s)\nimage 572/1263 /kaggle/input/siim-covid19-resized-to-256px-jpg/test/7529a3e9745b.jpg: 256x256 2 opacitys, Done. (0.019s)\nimage 573/1263 /kaggle/input/siim-covid19-resized-to-256px-jpg/test/7553bffc2232.jpg: 256x256 Done. (0.018s)\nimage 574/1263 /kaggle/input/siim-covid19-resized-to-256px-jpg/test/7571cda597cb.jpg: 256x256 1 opacity, Done. (0.019s)\nimage 575/1263 /kaggle/input/siim-covid19-resized-to-256px-jpg/test/75a172588bc8.jpg: 256x256 2 opacitys, Done. (0.020s)\nimage 576/1263 /kaggle/input/siim-covid19-resized-to-256px-jpg/test/75b2c9f1f232.jpg: 256x256 2 opacitys, Done. (0.019s)\nimage 577/1263 /kaggle/input/siim-covid19-resized-to-256px-jpg/test/7603bfc07ffd.jpg: 256x256 Done. (0.019s)\nimage 578/1263 /kaggle/input/siim-covid19-resized-to-256px-jpg/test/760acda93997.jpg: 256x256 Done. (0.018s)\nimage 579/1263 /kaggle/input/siim-covid19-resized-to-256px-jpg/test/767f10b9aab5.jpg: 256x256 2 opacitys, Done. (0.020s)\nimage 580/1263 /kaggle/input/siim-covid19-resized-to-256px-jpg/test/7731db2caed2.jpg: 256x256 2 opacitys, Done. (0.019s)\nimage 581/1263 /kaggle/input/siim-covid19-resized-to-256px-jpg/test/773998cb3cbe.jpg: 256x256 Done. (0.018s)\nimage 582/1263 /kaggle/input/siim-covid19-resized-to-256px-jpg/test/7750ed45ff97.jpg: 256x256 2 opacitys, Done. (0.019s)\nimage 583/1263 /kaggle/input/siim-covid19-resized-to-256px-jpg/test/776686ca2f1b.jpg: 256x256 Done. (0.018s)\nimage 584/1263 /kaggle/input/siim-covid19-resized-to-256px-jpg/test/781a92a65529.jpg: 256x256 1 opacity, Done. (0.020s)\nimage 585/1263 /kaggle/input/siim-covid19-resized-to-256px-jpg/test/789ef0f544c3.jpg: 256x256 2 opacitys, Done. (0.019s)\nimage 586/1263 /kaggle/input/siim-covid19-resized-to-256px-jpg/test/78adeeaa636c.jpg: 256x256 2 opacitys, Done. (0.020s)\nimage 587/1263 /kaggle/input/siim-covid19-resized-to-256px-jpg/test/78d62cb36b01.jpg: 256x256 Done. (0.018s)\nimage 588/1263 /kaggle/input/siim-covid19-resized-to-256px-jpg/test/78ff4d296adf.jpg: 256x256 Done. (0.019s)\nimage 589/1263 /kaggle/input/siim-covid19-resized-to-256px-jpg/test/793167fdec10.jpg: 256x256 Done. (0.018s)\nimage 590/1263 /kaggle/input/siim-covid19-resized-to-256px-jpg/test/7934201faebb.jpg: 256x256 Done. (0.019s)\nimage 591/1263 /kaggle/input/siim-covid19-resized-to-256px-jpg/test/797fe7acf67b.jpg: 256x256 2 opacitys, Done. (0.019s)\nimage 592/1263 /kaggle/input/siim-covid19-resized-to-256px-jpg/test/7984338fa964.jpg: 256x256 2 opacitys, Done. (0.019s)\nimage 593/1263 /kaggle/input/siim-covid19-resized-to-256px-jpg/test/79e957055a36.jpg: 256x256 1 opacity, Done. (0.020s)\nimage 594/1263 /kaggle/input/siim-covid19-resized-to-256px-jpg/test/7a09311ec3fa.jpg: 256x256 Done. (0.019s)\nimage 595/1263 /kaggle/input/siim-covid19-resized-to-256px-jpg/test/7a31d8763221.jpg: 256x256 2 opacitys, Done. (0.020s)\nimage 596/1263 /kaggle/input/siim-covid19-resized-to-256px-jpg/test/7a608ecc4868.jpg: 256x256 2 opacitys, Done. (0.019s)\nimage 597/1263 /kaggle/input/siim-covid19-resized-to-256px-jpg/test/7b0e22a045ef.jpg: 256x256 Done. (0.018s)\nimage 598/1263 /kaggle/input/siim-covid19-resized-to-256px-jpg/test/7b2ccb25396a.jpg: 256x256 Done. (0.018s)\nimage 599/1263 /kaggle/input/siim-covid19-resized-to-256px-jpg/test/7b5d82423dec.jpg: 256x256 1 opacity, Done. (0.019s)\nimage 600/1263 /kaggle/input/siim-covid19-resized-to-256px-jpg/test/7bba27555fe4.jpg: 256x256 Done. (0.019s)\nimage 601/1263 /kaggle/input/siim-covid19-resized-to-256px-jpg/test/7bbafcdea0cc.jpg: 256x256 Done. (0.019s)\nimage 602/1263 /kaggle/input/siim-covid19-resized-to-256px-jpg/test/7bf91ffc125c.jpg: 256x256 Done. (0.020s)\nimage 603/1263 /kaggle/input/siim-covid19-resized-to-256px-jpg/test/7c77f9aa3a25.jpg: 256x256 Done. (0.018s)\nimage 604/1263 /kaggle/input/siim-covid19-resized-to-256px-jpg/test/7c95cf673952.jpg: 256x256 2 opacitys, Done. (0.020s)\nimage 605/1263 /kaggle/input/siim-covid19-resized-to-256px-jpg/test/7cc2f3d9b469.jpg: 256x256 2 opacitys, Done. (0.019s)\nimage 606/1263 /kaggle/input/siim-covid19-resized-to-256px-jpg/test/7d0b75feaa8a.jpg: 256x256 Done. (0.020s)\nimage 607/1263 /kaggle/input/siim-covid19-resized-to-256px-jpg/test/7d27573ab0c5.jpg: 256x256 Done. (0.019s)\nimage 608/1263 /kaggle/input/siim-covid19-resized-to-256px-jpg/test/7d68127f8818.jpg: 256x256 Done. (0.019s)\nimage 609/1263 /kaggle/input/siim-covid19-resized-to-256px-jpg/test/7e11aff74953.jpg: 256x256 Done. (0.020s)\nimage 610/1263 /kaggle/input/siim-covid19-resized-to-256px-jpg/test/7e2e014e1656.jpg: 256x256 Done. (0.018s)\nimage 611/1263 /kaggle/input/siim-covid19-resized-to-256px-jpg/test/7e3c0527ddb7.jpg: 256x256 2 opacitys, Done. (0.020s)\nimage 612/1263 /kaggle/input/siim-covid19-resized-to-256px-jpg/test/7ea12126a6e3.jpg: 256x256 Done. (0.018s)\nimage 613/1263 /kaggle/input/siim-covid19-resized-to-256px-jpg/test/7f090fbd8e7c.jpg: 256x256 Done. (0.020s)\nimage 614/1263 /kaggle/input/siim-covid19-resized-to-256px-jpg/test/7f30a3c92da5.jpg: 256x256 Done. (0.019s)\nimage 615/1263 /kaggle/input/siim-covid19-resized-to-256px-jpg/test/7f49e2face0c.jpg: 256x256 1 opacity, Done. (0.021s)\nimage 616/1263 /kaggle/input/siim-covid19-resized-to-256px-jpg/test/7f4b304253ac.jpg: 256x256 2 opacitys, Done. (0.019s)\nimage 617/1263 /kaggle/input/siim-covid19-resized-to-256px-jpg/test/7fb9c360a3a0.jpg: 256x256 Done. (0.019s)\nimage 618/1263 /kaggle/input/siim-covid19-resized-to-256px-jpg/test/802b634297a0.jpg: 256x256 2 opacitys, Done. (0.021s)\nimage 619/1263 /kaggle/input/siim-covid19-resized-to-256px-jpg/test/8032d270ede6.jpg: 256x256 Done. (0.018s)\nimage 620/1263 /kaggle/input/siim-covid19-resized-to-256px-jpg/test/804538984842.jpg: 256x256 Done. (0.020s)\nimage 621/1263 /kaggle/input/siim-covid19-resized-to-256px-jpg/test/80af9d802a16.jpg: 256x256 Done. (0.019s)\nimage 622/1263 /kaggle/input/siim-covid19-resized-to-256px-jpg/test/80e7a6e59bde.jpg: 256x256 Done. (0.020s)\nimage 623/1263 /kaggle/input/siim-covid19-resized-to-256px-jpg/test/81646eb45af3.jpg: 256x256 Done. (0.019s)\nimage 624/1263 /kaggle/input/siim-covid19-resized-to-256px-jpg/test/816bb3680b2a.jpg: 256x256 Done. (0.020s)\nimage 625/1263 /kaggle/input/siim-covid19-resized-to-256px-jpg/test/817301ec71da.jpg: 256x256 Done. (0.018s)\nimage 626/1263 /kaggle/input/siim-covid19-resized-to-256px-jpg/test/818065156194.jpg: 256x256 2 opacitys, Done. (0.020s)\nimage 627/1263 /kaggle/input/siim-covid19-resized-to-256px-jpg/test/8180af690aef.jpg: 256x256 Done. (0.019s)\nimage 628/1263 /kaggle/input/siim-covid19-resized-to-256px-jpg/test/81bae2b0c027.jpg: 256x256 1 opacity, Done. (0.020s)\nimage 629/1263 /kaggle/input/siim-covid19-resized-to-256px-jpg/test/81ca75341b65.jpg: 256x256 1 opacity, Done. (0.022s)\nimage 630/1263 /kaggle/input/siim-covid19-resized-to-256px-jpg/test/81eb1b621a83.jpg: 256x256 Done. (0.019s)\nimage 631/1263 /kaggle/input/siim-covid19-resized-to-256px-jpg/test/82198019c4a4.jpg: 256x256 1 opacity, Done. (0.021s)\nimage 632/1263 /kaggle/input/siim-covid19-resized-to-256px-jpg/test/822b6007287e.jpg: 256x256 Done. (0.019s)\nimage 633/1263 /kaggle/input/siim-covid19-resized-to-256px-jpg/test/82589da89e95.jpg: 256x256 Done. (0.022s)\nimage 634/1263 /kaggle/input/siim-covid19-resized-to-256px-jpg/test/825dd8f7aca2.jpg: 256x256 1 opacity, Done. (0.035s)\nimage 635/1263 /kaggle/input/siim-covid19-resized-to-256px-jpg/test/8262b27852b3.jpg: 256x256 2 opacitys, Done. (0.035s)\nimage 636/1263 /kaggle/input/siim-covid19-resized-to-256px-jpg/test/82af7f7081d7.jpg: 256x256 2 opacitys, Done. (0.028s)\nimage 637/1263 /kaggle/input/siim-covid19-resized-to-256px-jpg/test/82b36d045a12.jpg: 256x256 Done. (0.029s)\nimage 638/1263 /kaggle/input/siim-covid19-resized-to-256px-jpg/test/82c5cf0b451c.jpg: 256x256 2 opacitys, Done. (0.028s)\nimage 639/1263 /kaggle/input/siim-covid19-resized-to-256px-jpg/test/82d09edcbfc4.jpg: 256x256 2 opacitys, Done. (0.041s)\nimage 640/1263 /kaggle/input/siim-covid19-resized-to-256px-jpg/test/82da4f94ce03.jpg: 256x256 Done. (0.029s)\nimage 641/1263 /kaggle/input/siim-covid19-resized-to-256px-jpg/test/82e1a7088c64.jpg: 256x256 Done. (0.029s)\nimage 642/1263 /kaggle/input/siim-covid19-resized-to-256px-jpg/test/82eed39dfb6b.jpg: 256x256 Done. (0.032s)\nimage 643/1263 /kaggle/input/siim-covid19-resized-to-256px-jpg/test/833fc5c718dd.jpg: 256x256 2 opacitys, Done. (0.028s)\nimage 644/1263 /kaggle/input/siim-covid19-resized-to-256px-jpg/test/83594e6ad0ba.jpg: 256x256 Done. (0.028s)\nimage 645/1263 /kaggle/input/siim-covid19-resized-to-256px-jpg/test/84680684e418.jpg: 256x256 Done. (0.029s)\nimage 646/1263 /kaggle/input/siim-covid19-resized-to-256px-jpg/test/849c83d5af12.jpg: 256x256 2 opacitys, Done. (0.030s)\nimage 647/1263 /kaggle/input/siim-covid19-resized-to-256px-jpg/test/84d25a1cef94.jpg: 256x256 Done. (0.029s)\nimage 648/1263 /kaggle/input/siim-covid19-resized-to-256px-jpg/test/84dd9eff2ecf.jpg: 256x256 Done. (0.028s)\nimage 649/1263 /kaggle/input/siim-covid19-resized-to-256px-jpg/test/854f9f3e562f.jpg: 256x256 Done. (0.028s)\nimage 650/1263 /kaggle/input/siim-covid19-resized-to-256px-jpg/test/858667501a67.jpg: 256x256 1 opacity, Done. (0.030s)\nimage 651/1263 /kaggle/input/siim-covid19-resized-to-256px-jpg/test/859cac874454.jpg: 256x256 Done. (0.029s)\nimage 652/1263 /kaggle/input/siim-covid19-resized-to-256px-jpg/test/85b6452b47cc.jpg: 256x256 1 opacity, Done. (0.028s)\nimage 653/1263 /kaggle/input/siim-covid19-resized-to-256px-jpg/test/864372de3df3.jpg: 256x256 Done. (0.028s)\nimage 654/1263 /kaggle/input/siim-covid19-resized-to-256px-jpg/test/866f58f2ff1f.jpg: 256x256 Done. (0.030s)\nimage 655/1263 /kaggle/input/siim-covid19-resized-to-256px-jpg/test/86734b7cc20f.jpg: 256x256 2 opacitys, Done. (0.031s)\nimage 656/1263 /kaggle/input/siim-covid19-resized-to-256px-jpg/test/8727f101e9f6.jpg: 256x256 Done. (0.025s)\nimage 657/1263 /kaggle/input/siim-covid19-resized-to-256px-jpg/test/8757ce9b582c.jpg: 256x256 Done. (0.020s)\nimage 658/1263 /kaggle/input/siim-covid19-resized-to-256px-jpg/test/875cf71bd22a.jpg: 256x256 Done. (0.020s)\nimage 659/1263 /kaggle/input/siim-covid19-resized-to-256px-jpg/test/877b017a6d20.jpg: 256x256 Done. (0.019s)\nimage 660/1263 /kaggle/input/siim-covid19-resized-to-256px-jpg/test/87a0829f53c1.jpg: 256x256 1 opacity, Done. (0.021s)\nimage 661/1263 /kaggle/input/siim-covid19-resized-to-256px-jpg/test/87c38eda11ed.jpg: 256x256 Done. (0.020s)\nimage 662/1263 /kaggle/input/siim-covid19-resized-to-256px-jpg/test/87c51db67bf7.jpg: 256x256 1 opacity, Done. (0.020s)\nimage 663/1263 /kaggle/input/siim-covid19-resized-to-256px-jpg/test/87d8baf120a6.jpg: 256x256 1 opacity, Done. (0.022s)\nimage 664/1263 /kaggle/input/siim-covid19-resized-to-256px-jpg/test/8829d22c3e2b.jpg: 256x256 1 opacity, Done. (0.020s)\nimage 665/1263 /kaggle/input/siim-covid19-resized-to-256px-jpg/test/885136bc24c1.jpg: 256x256 Done. (0.021s)\nimage 666/1263 /kaggle/input/siim-covid19-resized-to-256px-jpg/test/8857adac8318.jpg: 256x256 Done. (0.020s)\nimage 667/1263 /kaggle/input/siim-covid19-resized-to-256px-jpg/test/88782677cbec.jpg: 256x256 2 opacitys, Done. (0.020s)\nimage 668/1263 /kaggle/input/siim-covid19-resized-to-256px-jpg/test/8887b33c4bb3.jpg: 256x256 Done. (0.021s)\nimage 669/1263 /kaggle/input/siim-covid19-resized-to-256px-jpg/test/88b9ca325a4c.jpg: 256x256 Done. (0.020s)\nimage 670/1263 /kaggle/input/siim-covid19-resized-to-256px-jpg/test/88debce8e1c3.jpg: 256x256 Done. (0.021s)\nimage 671/1263 /kaggle/input/siim-covid19-resized-to-256px-jpg/test/88e9dabee5fc.jpg: 256x256 Done. (0.019s)\nimage 672/1263 /kaggle/input/siim-covid19-resized-to-256px-jpg/test/89015a2258aa.jpg: 256x256 2 opacitys, Done. (0.021s)\nimage 673/1263 /kaggle/input/siim-covid19-resized-to-256px-jpg/test/89128c0fa9f4.jpg: 256x256 Done. (0.019s)\nimage 674/1263 /kaggle/input/siim-covid19-resized-to-256px-jpg/test/8927235865c9.jpg: 256x256 1 opacity, Done. (0.020s)\nimage 675/1263 /kaggle/input/siim-covid19-resized-to-256px-jpg/test/89426c0c18a8.jpg: 256x256 Done. (0.021s)\nimage 676/1263 /kaggle/input/siim-covid19-resized-to-256px-jpg/test/895701fa488e.jpg: 256x256 Done. (0.019s)\nimage 677/1263 /kaggle/input/siim-covid19-resized-to-256px-jpg/test/896d667947af.jpg: 256x256 Done. (0.021s)\nimage 678/1263 /kaggle/input/siim-covid19-resized-to-256px-jpg/test/897e2799654c.jpg: 256x256 Done. (0.019s)\nimage 679/1263 /kaggle/input/siim-covid19-resized-to-256px-jpg/test/898d24f3cda6.jpg: 256x256 1 opacity, Done. (0.021s)\nimage 680/1263 /kaggle/input/siim-covid19-resized-to-256px-jpg/test/89ee5be93326.jpg: 256x256 1 opacity, Done. (0.021s)\nimage 681/1263 /kaggle/input/siim-covid19-resized-to-256px-jpg/test/89f860cec129.jpg: 256x256 Done. (0.019s)\nimage 682/1263 /kaggle/input/siim-covid19-resized-to-256px-jpg/test/8ad2e769d2b0.jpg: 256x256 Done. (0.019s)\nimage 683/1263 /kaggle/input/siim-covid19-resized-to-256px-jpg/test/8b3366ec66d4.jpg: 256x256 Done. (0.019s)\nimage 684/1263 /kaggle/input/siim-covid19-resized-to-256px-jpg/test/8b354d4a216f.jpg: 256x256 2 opacitys, Done. (0.020s)\nimage 685/1263 /kaggle/input/siim-covid19-resized-to-256px-jpg/test/8b6ebd55c8c8.jpg: 256x256 2 opacitys, Done. (0.019s)\nimage 686/1263 /kaggle/input/siim-covid19-resized-to-256px-jpg/test/8b7e42d19053.jpg: 256x256 2 opacitys, Done. (0.020s)\nimage 687/1263 /kaggle/input/siim-covid19-resized-to-256px-jpg/test/8b901c5f333a.jpg: 256x256 2 opacitys, Done. (0.019s)\nimage 688/1263 /kaggle/input/siim-covid19-resized-to-256px-jpg/test/8bc924bcab6f.jpg: 256x256 1 opacity, Done. (0.020s)\nimage 689/1263 /kaggle/input/siim-covid19-resized-to-256px-jpg/test/8be9683b4acc.jpg: 256x256 Done. (0.018s)\nimage 690/1263 /kaggle/input/siim-covid19-resized-to-256px-jpg/test/8c3864112d54.jpg: 256x256 1 opacity, Done. (0.020s)\nimage 691/1263 /kaggle/input/siim-covid19-resized-to-256px-jpg/test/8c452e8e1278.jpg: 256x256 2 opacitys, Done. (0.019s)\nimage 692/1263 /kaggle/input/siim-covid19-resized-to-256px-jpg/test/8c6d6a69d5dd.jpg: 256x256 Done. (0.018s)\nimage 693/1263 /kaggle/input/siim-covid19-resized-to-256px-jpg/test/8cf062b99674.jpg: 256x256 Done. (0.018s)\nimage 694/1263 /kaggle/input/siim-covid19-resized-to-256px-jpg/test/8d2c75ff8149.jpg: 256x256 Done. (0.018s)\nimage 695/1263 /kaggle/input/siim-covid19-resized-to-256px-jpg/test/8d6d32d0822e.jpg: 256x256 2 opacitys, Done. (0.020s)\nimage 696/1263 /kaggle/input/siim-covid19-resized-to-256px-jpg/test/8d6dea06a032.jpg: 256x256 1 opacity, Done. (0.019s)\nimage 697/1263 /kaggle/input/siim-covid19-resized-to-256px-jpg/test/8e4fd6198ae9.jpg: 256x256 Done. (0.019s)\nimage 698/1263 /kaggle/input/siim-covid19-resized-to-256px-jpg/test/8ea54e20fd42.jpg: 256x256 1 opacity, Done. (0.019s)\nimage 699/1263 /kaggle/input/siim-covid19-resized-to-256px-jpg/test/8f1894f52499.jpg: 256x256 1 opacity, Done. (0.020s)\nimage 700/1263 /kaggle/input/siim-covid19-resized-to-256px-jpg/test/8f925628e0f2.jpg: 256x256 2 opacitys, Done. (0.019s)\nimage 701/1263 /kaggle/input/siim-covid19-resized-to-256px-jpg/test/8fbc90b33f87.jpg: 256x256 2 opacitys, Done. (0.019s)\nimage 702/1263 /kaggle/input/siim-covid19-resized-to-256px-jpg/test/904141862f44.jpg: 256x256 Done. (0.018s)\nimage 703/1263 /kaggle/input/siim-covid19-resized-to-256px-jpg/test/904324209389.jpg: 256x256 Done. (0.018s)\nimage 704/1263 /kaggle/input/siim-covid19-resized-to-256px-jpg/test/90fa4db1ab87.jpg: 256x256 2 opacitys, Done. (0.019s)\nimage 705/1263 /kaggle/input/siim-covid19-resized-to-256px-jpg/test/9114c5437cfb.jpg: 256x256 2 opacitys, Done. (0.019s)\nimage 706/1263 /kaggle/input/siim-covid19-resized-to-256px-jpg/test/91558723b2cd.jpg: 256x256 2 opacitys, Done. (0.021s)\nimage 707/1263 /kaggle/input/siim-covid19-resized-to-256px-jpg/test/9188ac2c54fe.jpg: 256x256 Done. (0.018s)\nimage 708/1263 /kaggle/input/siim-covid19-resized-to-256px-jpg/test/91a36aae8b27.jpg: 256x256 Done. (0.019s)\nimage 709/1263 /kaggle/input/siim-covid19-resized-to-256px-jpg/test/91e5e9e37c58.jpg: 256x256 2 opacitys, Done. (0.019s)\nimage 710/1263 /kaggle/input/siim-covid19-resized-to-256px-jpg/test/91faf22d3721.jpg: 256x256 Done. (0.019s)\nimage 711/1263 /kaggle/input/siim-covid19-resized-to-256px-jpg/test/926aeec260b1.jpg: 256x256 1 opacity, Done. (0.019s)\nimage 712/1263 /kaggle/input/siim-covid19-resized-to-256px-jpg/test/9271b6df7062.jpg: 256x256 Done. (0.018s)\nimage 713/1263 /kaggle/input/siim-covid19-resized-to-256px-jpg/test/927bd54fd2dd.jpg: 256x256 2 opacitys, Done. (0.022s)\nimage 714/1263 /kaggle/input/siim-covid19-resized-to-256px-jpg/test/92c25d90d0a8.jpg: 256x256 1 opacity, Done. (0.019s)\nimage 715/1263 /kaggle/input/siim-covid19-resized-to-256px-jpg/test/9310ceec556a.jpg: 256x256 Done. (0.019s)\nimage 716/1263 /kaggle/input/siim-covid19-resized-to-256px-jpg/test/93be428f5dcf.jpg: 256x256 2 opacitys, Done. (0.019s)\nimage 717/1263 /kaggle/input/siim-covid19-resized-to-256px-jpg/test/93dd10a00c51.jpg: 256x256 Done. (0.019s)\nimage 718/1263 /kaggle/input/siim-covid19-resized-to-256px-jpg/test/93ddd4e6eb4c.jpg: 256x256 Done. (0.018s)\nimage 719/1263 /kaggle/input/siim-covid19-resized-to-256px-jpg/test/942313ae4303.jpg: 256x256 Done. (0.019s)\nimage 720/1263 /kaggle/input/siim-covid19-resized-to-256px-jpg/test/94573ab529f3.jpg: 256x256 Done. (0.018s)\nimage 721/1263 /kaggle/input/siim-covid19-resized-to-256px-jpg/test/946a0aa2bb58.jpg: 256x256 1 opacity, Done. (0.020s)\nimage 722/1263 /kaggle/input/siim-covid19-resized-to-256px-jpg/test/948e9f366810.jpg: 256x256 2 opacitys, Done. (0.019s)\nimage 723/1263 /kaggle/input/siim-covid19-resized-to-256px-jpg/test/949b8bf1079a.jpg: 256x256 2 opacitys, Done. (0.020s)\nimage 724/1263 /kaggle/input/siim-covid19-resized-to-256px-jpg/test/949ea39318e2.jpg: 256x256 1 opacity, Done. (0.019s)\nimage 725/1263 /kaggle/input/siim-covid19-resized-to-256px-jpg/test/94cb9518e355.jpg: 256x256 Done. (0.018s)\nimage 726/1263 /kaggle/input/siim-covid19-resized-to-256px-jpg/test/94ddca484ebf.jpg: 256x256 Done. (0.019s)\nimage 727/1263 /kaggle/input/siim-covid19-resized-to-256px-jpg/test/951211f8e1bb.jpg: 256x256 Done. (0.018s)\nimage 728/1263 /kaggle/input/siim-covid19-resized-to-256px-jpg/test/95381cfcbf0c.jpg: 256x256 Done. (0.019s)\nimage 729/1263 /kaggle/input/siim-covid19-resized-to-256px-jpg/test/955bf1edd532.jpg: 256x256 Done. (0.018s)\nimage 730/1263 /kaggle/input/siim-covid19-resized-to-256px-jpg/test/95691f6666a0.jpg: 256x256 Done. (0.019s)\nimage 731/1263 /kaggle/input/siim-covid19-resized-to-256px-jpg/test/957550f711ee.jpg: 256x256 Done. (0.018s)\nimage 732/1263 /kaggle/input/siim-covid19-resized-to-256px-jpg/test/95a69615f643.jpg: 256x256 1 opacity, Done. (0.020s)\nimage 733/1263 /kaggle/input/siim-covid19-resized-to-256px-jpg/test/95b2cd351ef0.jpg: 256x256 Done. (0.018s)\nimage 734/1263 /kaggle/input/siim-covid19-resized-to-256px-jpg/test/95be2813ba36.jpg: 256x256 2 opacitys, Done. (0.020s)\nimage 735/1263 /kaggle/input/siim-covid19-resized-to-256px-jpg/test/95ed767a23e3.jpg: 256x256 Done. (0.018s)\nimage 736/1263 /kaggle/input/siim-covid19-resized-to-256px-jpg/test/9603112b4c2e.jpg: 256x256 2 opacitys, Done. (0.020s)\nimage 737/1263 /kaggle/input/siim-covid19-resized-to-256px-jpg/test/961a766a5511.jpg: 256x256 1 opacity, Done. (0.019s)\nimage 738/1263 /kaggle/input/siim-covid19-resized-to-256px-jpg/test/962e120703d1.jpg: 256x256 Done. (0.019s)\nimage 739/1263 /kaggle/input/siim-covid19-resized-to-256px-jpg/test/966b86658ed3.jpg: 256x256 Done. (0.019s)\nimage 740/1263 /kaggle/input/siim-covid19-resized-to-256px-jpg/test/9677eff4374d.jpg: 256x256 Done. (0.019s)\nimage 741/1263 /kaggle/input/siim-covid19-resized-to-256px-jpg/test/96780bd04f67.jpg: 256x256 1 opacity, Done. (0.019s)\nimage 742/1263 /kaggle/input/siim-covid19-resized-to-256px-jpg/test/96948f97f356.jpg: 256x256 1 opacity, Done. (0.019s)\nimage 743/1263 /kaggle/input/siim-covid19-resized-to-256px-jpg/test/96e1e1cf5431.jpg: 256x256 2 opacitys, Done. (0.019s)\nimage 744/1263 /kaggle/input/siim-covid19-resized-to-256px-jpg/test/97324905f48f.jpg: 256x256 1 opacity, Done. (0.019s)\nimage 745/1263 /kaggle/input/siim-covid19-resized-to-256px-jpg/test/977a20a10137.jpg: 256x256 2 opacitys, Done. (0.020s)\nimage 746/1263 /kaggle/input/siim-covid19-resized-to-256px-jpg/test/978e985f0c70.jpg: 256x256 Done. (0.018s)\nimage 747/1263 /kaggle/input/siim-covid19-resized-to-256px-jpg/test/97998832742c.jpg: 256x256 2 opacitys, Done. (0.020s)\nimage 748/1263 /kaggle/input/siim-covid19-resized-to-256px-jpg/test/97de5453f769.jpg: 256x256 1 opacity, Done. (0.019s)\nimage 749/1263 /kaggle/input/siim-covid19-resized-to-256px-jpg/test/98118511c57b.jpg: 256x256 2 opacitys, Done. (0.023s)\nimage 750/1263 /kaggle/input/siim-covid19-resized-to-256px-jpg/test/9850b5470fd6.jpg: 256x256 1 opacity, Done. (0.030s)\nimage 751/1263 /kaggle/input/siim-covid19-resized-to-256px-jpg/test/9883f5325492.jpg: 256x256 2 opacitys, Done. (0.029s)\nimage 752/1263 /kaggle/input/siim-covid19-resized-to-256px-jpg/test/98bab257d89b.jpg: 256x256 1 opacity, Done. (0.030s)\nimage 753/1263 /kaggle/input/siim-covid19-resized-to-256px-jpg/test/98fbac3667c9.jpg: 256x256 1 opacity, Done. (0.028s)\nimage 754/1263 /kaggle/input/siim-covid19-resized-to-256px-jpg/test/9951f793880c.jpg: 256x256 Done. (0.035s)\nimage 755/1263 /kaggle/input/siim-covid19-resized-to-256px-jpg/test/99978f106a39.jpg: 256x256 Done. (0.033s)\nimage 756/1263 /kaggle/input/siim-covid19-resized-to-256px-jpg/test/9998acc77910.jpg: 256x256 2 opacitys, Done. (0.032s)\nimage 757/1263 /kaggle/input/siim-covid19-resized-to-256px-jpg/test/99b475d1d2ec.jpg: 256x256 2 opacitys, Done. (0.031s)\nimage 758/1263 /kaggle/input/siim-covid19-resized-to-256px-jpg/test/9a1185f5ff34.jpg: 256x256 1 opacity, Done. (0.028s)\nimage 759/1263 /kaggle/input/siim-covid19-resized-to-256px-jpg/test/9a526c2b4891.jpg: 256x256 Done. (0.027s)\nimage 760/1263 /kaggle/input/siim-covid19-resized-to-256px-jpg/test/9aa2c2119c43.jpg: 256x256 1 opacity, Done. (0.028s)\nimage 761/1263 /kaggle/input/siim-covid19-resized-to-256px-jpg/test/9ad1e1a0f97d.jpg: 256x256 Done. (0.021s)\nimage 762/1263 /kaggle/input/siim-covid19-resized-to-256px-jpg/test/9ad80e79362f.jpg: 256x256 Done. (0.018s)\nimage 763/1263 /kaggle/input/siim-covid19-resized-to-256px-jpg/test/9b0ab5582681.jpg: 256x256 Done. (0.020s)\nimage 764/1263 /kaggle/input/siim-covid19-resized-to-256px-jpg/test/9b3eae4045c8.jpg: 256x256 1 opacity, Done. (0.019s)\nimage 765/1263 /kaggle/input/siim-covid19-resized-to-256px-jpg/test/9b7cee40d0a7.jpg: 256x256 2 opacitys, Done. (0.020s)\nimage 766/1263 /kaggle/input/siim-covid19-resized-to-256px-jpg/test/9b8610d78de1.jpg: 256x256 1 opacity, Done. (0.019s)\nimage 767/1263 /kaggle/input/siim-covid19-resized-to-256px-jpg/test/9b934d581e5d.jpg: 256x256 Done. (0.020s)\nimage 768/1263 /kaggle/input/siim-covid19-resized-to-256px-jpg/test/9bc2041c6ac0.jpg: 256x256 1 opacity, Done. (0.019s)\nimage 769/1263 /kaggle/input/siim-covid19-resized-to-256px-jpg/test/9bce1b51617d.jpg: 256x256 Done. (0.018s)\nimage 770/1263 /kaggle/input/siim-covid19-resized-to-256px-jpg/test/9bee9808a9d4.jpg: 256x256 1 opacity, Done. (0.019s)\nimage 771/1263 /kaggle/input/siim-covid19-resized-to-256px-jpg/test/9c297e900f67.jpg: 256x256 Done. (0.018s)\nimage 772/1263 /kaggle/input/siim-covid19-resized-to-256px-jpg/test/9c460da48071.jpg: 256x256 Done. (0.020s)\nimage 773/1263 /kaggle/input/siim-covid19-resized-to-256px-jpg/test/9cbc2fd041a7.jpg: 256x256 1 opacity, Done. (0.019s)\nimage 774/1263 /kaggle/input/siim-covid19-resized-to-256px-jpg/test/9cd592696284.jpg: 256x256 Done. (0.019s)\nimage 775/1263 /kaggle/input/siim-covid19-resized-to-256px-jpg/test/9d0f2c2645da.jpg: 256x256 1 opacity, Done. (0.019s)\nimage 776/1263 /kaggle/input/siim-covid19-resized-to-256px-jpg/test/9d2e46f17c72.jpg: 256x256 Done. (0.019s)\nimage 777/1263 /kaggle/input/siim-covid19-resized-to-256px-jpg/test/9e525f16490a.jpg: 256x256 1 opacity, Done. (0.019s)\nimage 778/1263 /kaggle/input/siim-covid19-resized-to-256px-jpg/test/9e63fbef3c21.jpg: 256x256 Done. (0.019s)\nimage 779/1263 /kaggle/input/siim-covid19-resized-to-256px-jpg/test/9e78e0ae2f3e.jpg: 256x256 1 opacity, Done. (0.019s)\nimage 780/1263 /kaggle/input/siim-covid19-resized-to-256px-jpg/test/9eb5cb68d2ca.jpg: 256x256 Done. (0.018s)\nimage 781/1263 /kaggle/input/siim-covid19-resized-to-256px-jpg/test/9f10e1534e81.jpg: 256x256 Done. (0.018s)\nimage 782/1263 /kaggle/input/siim-covid19-resized-to-256px-jpg/test/9f1c1a909d7f.jpg: 256x256 Done. (0.018s)\nimage 783/1263 /kaggle/input/siim-covid19-resized-to-256px-jpg/test/9f525be80c70.jpg: 256x256 1 opacity, Done. (0.019s)\nimage 784/1263 /kaggle/input/siim-covid19-resized-to-256px-jpg/test/9f526498d12b.jpg: 256x256 Done. (0.018s)\nimage 785/1263 /kaggle/input/siim-covid19-resized-to-256px-jpg/test/9f6cc74b0062.jpg: 256x256 Done. (0.019s)\nimage 786/1263 /kaggle/input/siim-covid19-resized-to-256px-jpg/test/a0f473f71878.jpg: 256x256 2 opacitys, Done. (0.019s)\nimage 787/1263 /kaggle/input/siim-covid19-resized-to-256px-jpg/test/a0f6e42396fc.jpg: 256x256 2 opacitys, Done. (0.020s)\nimage 788/1263 /kaggle/input/siim-covid19-resized-to-256px-jpg/test/a1883aeaa8f0.jpg: 256x256 1 opacity, Done. (0.019s)\nimage 789/1263 /kaggle/input/siim-covid19-resized-to-256px-jpg/test/a22e6a0c0ec3.jpg: 256x256 Done. (0.018s)\nimage 790/1263 /kaggle/input/siim-covid19-resized-to-256px-jpg/test/a2460d88071d.jpg: 256x256 1 opacity, Done. (0.019s)\nimage 791/1263 /kaggle/input/siim-covid19-resized-to-256px-jpg/test/a24bc9ab2ea8.jpg: 256x256 2 opacitys, Done. (0.019s)\nimage 792/1263 /kaggle/input/siim-covid19-resized-to-256px-jpg/test/a269f69b335e.jpg: 256x256 Done. (0.020s)\nimage 793/1263 /kaggle/input/siim-covid19-resized-to-256px-jpg/test/a27f34f4faa2.jpg: 256x256 Done. (0.018s)\nimage 794/1263 /kaggle/input/siim-covid19-resized-to-256px-jpg/test/a29c5a68b07b.jpg: 256x256 2 opacitys, Done. (0.020s)\nimage 795/1263 /kaggle/input/siim-covid19-resized-to-256px-jpg/test/a2bc78e322a8.jpg: 256x256 Done. (0.018s)\nimage 796/1263 /kaggle/input/siim-covid19-resized-to-256px-jpg/test/a2c0d74fda88.jpg: 256x256 Done. (0.019s)\nimage 797/1263 /kaggle/input/siim-covid19-resized-to-256px-jpg/test/a356db474991.jpg: 256x256 Done. (0.018s)\nimage 798/1263 /kaggle/input/siim-covid19-resized-to-256px-jpg/test/a37a362df0ac.jpg: 256x256 Done. (0.019s)\nimage 799/1263 /kaggle/input/siim-covid19-resized-to-256px-jpg/test/a3d2fd5ef626.jpg: 256x256 Done. (0.018s)\nimage 800/1263 /kaggle/input/siim-covid19-resized-to-256px-jpg/test/a4067adac314.jpg: 256x256 Done. (0.020s)\nimage 801/1263 /kaggle/input/siim-covid19-resized-to-256px-jpg/test/a43200bd5ceb.jpg: 256x256 Done. (0.018s)\nimage 802/1263 /kaggle/input/siim-covid19-resized-to-256px-jpg/test/a43e755ee84f.jpg: 256x256 Done. (0.019s)\nimage 803/1263 /kaggle/input/siim-covid19-resized-to-256px-jpg/test/a459429226e0.jpg: 256x256 2 opacitys, Done. (0.019s)\nimage 804/1263 /kaggle/input/siim-covid19-resized-to-256px-jpg/test/a489286e78c1.jpg: 256x256 1 opacity, Done. (0.019s)\nimage 805/1263 /kaggle/input/siim-covid19-resized-to-256px-jpg/test/a492841dcf21.jpg: 256x256 2 opacitys, Done. (0.020s)\nimage 806/1263 /kaggle/input/siim-covid19-resized-to-256px-jpg/test/a4c570b129c3.jpg: 256x256 2 opacitys, Done. (0.019s)\nimage 807/1263 /kaggle/input/siim-covid19-resized-to-256px-jpg/test/a522fd19d916.jpg: 256x256 1 opacity, Done. (0.020s)\nimage 808/1263 /kaggle/input/siim-covid19-resized-to-256px-jpg/test/a52729755130.jpg: 256x256 1 opacity, Done. (0.019s)\nimage 809/1263 /kaggle/input/siim-covid19-resized-to-256px-jpg/test/a591e663f4d8.jpg: 256x256 Done. (0.019s)\nimage 810/1263 /kaggle/input/siim-covid19-resized-to-256px-jpg/test/a5f2fd8c90cf.jpg: 256x256 Done. (0.018s)\nimage 811/1263 /kaggle/input/siim-covid19-resized-to-256px-jpg/test/a67ef603134f.jpg: 256x256 2 opacitys, Done. (0.020s)\nimage 812/1263 /kaggle/input/siim-covid19-resized-to-256px-jpg/test/a6a0ba6efa97.jpg: 256x256 2 opacitys, Done. (0.019s)\nimage 813/1263 /kaggle/input/siim-covid19-resized-to-256px-jpg/test/a6fae2436886.jpg: 256x256 Done. (0.018s)\nimage 814/1263 /kaggle/input/siim-covid19-resized-to-256px-jpg/test/a706ebbc447a.jpg: 256x256 1 opacity, Done. (0.020s)\nimage 815/1263 /kaggle/input/siim-covid19-resized-to-256px-jpg/test/a72e1270f4cd.jpg: 256x256 2 opacitys, Done. (0.019s)\nimage 816/1263 /kaggle/input/siim-covid19-resized-to-256px-jpg/test/a74e51891aa8.jpg: 256x256 2 opacitys, Done. (0.021s)\nimage 817/1263 /kaggle/input/siim-covid19-resized-to-256px-jpg/test/a8217ee2d2a0.jpg: 256x256 1 opacity, Done. (0.019s)\nimage 818/1263 /kaggle/input/siim-covid19-resized-to-256px-jpg/test/a82ca8f37fb6.jpg: 256x256 2 opacitys, Done. (0.020s)\nimage 819/1263 /kaggle/input/siim-covid19-resized-to-256px-jpg/test/a840d15a7cdc.jpg: 256x256 2 opacitys, Done. (0.019s)\nimage 820/1263 /kaggle/input/siim-covid19-resized-to-256px-jpg/test/a84c79aac3c0.jpg: 256x256 1 opacity, Done. (0.019s)\nimage 821/1263 /kaggle/input/siim-covid19-resized-to-256px-jpg/test/a88f38a36bb2.jpg: 256x256 Done. (0.020s)\nimage 822/1263 /kaggle/input/siim-covid19-resized-to-256px-jpg/test/a8de2b8aae69.jpg: 256x256 2 opacitys, Done. (0.020s)\nimage 823/1263 /kaggle/input/siim-covid19-resized-to-256px-jpg/test/a9035a2d34f2.jpg: 256x256 Done. (0.020s)\nimage 824/1263 /kaggle/input/siim-covid19-resized-to-256px-jpg/test/a91b4b59c145.jpg: 256x256 2 opacitys, Done. (0.019s)\nimage 825/1263 /kaggle/input/siim-covid19-resized-to-256px-jpg/test/a9330037dce2.jpg: 256x256 1 opacity, Done. (0.021s)\nimage 826/1263 /kaggle/input/siim-covid19-resized-to-256px-jpg/test/a9d318c0b89e.jpg: 256x256 2 opacitys, Done. (0.019s)\nimage 827/1263 /kaggle/input/siim-covid19-resized-to-256px-jpg/test/aa55fc6c616c.jpg: 256x256 Done. (0.019s)\nimage 828/1263 /kaggle/input/siim-covid19-resized-to-256px-jpg/test/aa6b768d3161.jpg: 256x256 2 opacitys, Done. (0.020s)\nimage 829/1263 /kaggle/input/siim-covid19-resized-to-256px-jpg/test/aa6c8c46a05f.jpg: 256x256 2 opacitys, Done. (0.019s)\nimage 830/1263 /kaggle/input/siim-covid19-resized-to-256px-jpg/test/aad5bc70a20e.jpg: 256x256 1 opacity, Done. (0.020s)\nimage 831/1263 /kaggle/input/siim-covid19-resized-to-256px-jpg/test/aaef254ce2b3.jpg: 256x256 Done. (0.018s)\nimage 832/1263 /kaggle/input/siim-covid19-resized-to-256px-jpg/test/ab0a95dee3b0.jpg: 256x256 Done. (0.019s)\nimage 833/1263 /kaggle/input/siim-covid19-resized-to-256px-jpg/test/ab15692269fc.jpg: 256x256 Done. (0.018s)\nimage 834/1263 /kaggle/input/siim-covid19-resized-to-256px-jpg/test/ab276c041ef9.jpg: 256x256 Done. (0.019s)\nimage 835/1263 /kaggle/input/siim-covid19-resized-to-256px-jpg/test/ab46f325ad85.jpg: 256x256 Done. (0.018s)\nimage 836/1263 /kaggle/input/siim-covid19-resized-to-256px-jpg/test/ab471797d0a8.jpg: 256x256 Done. (0.019s)\nimage 837/1263 /kaggle/input/siim-covid19-resized-to-256px-jpg/test/ab97e736a971.jpg: 256x256 1 opacity, Done. (0.019s)\nimage 838/1263 /kaggle/input/siim-covid19-resized-to-256px-jpg/test/aba653aebd55.jpg: 256x256 Done. (0.018s)\nimage 839/1263 /kaggle/input/siim-covid19-resized-to-256px-jpg/test/abd45a0023eb.jpg: 256x256 1 opacity, Done. (0.019s)\nimage 840/1263 /kaggle/input/siim-covid19-resized-to-256px-jpg/test/abe007e3fc08.jpg: 256x256 Done. (0.019s)\nimage 841/1263 /kaggle/input/siim-covid19-resized-to-256px-jpg/test/abedbc04a891.jpg: 256x256 Done. (0.018s)\nimage 842/1263 /kaggle/input/siim-covid19-resized-to-256px-jpg/test/abee6a2d0bf5.jpg: 256x256 1 opacity, Done. (0.019s)\nimage 843/1263 /kaggle/input/siim-covid19-resized-to-256px-jpg/test/ac238e67fdc5.jpg: 256x256 Done. (0.020s)\nimage 844/1263 /kaggle/input/siim-covid19-resized-to-256px-jpg/test/ac2562a40897.jpg: 256x256 Done. (0.018s)\nimage 845/1263 /kaggle/input/siim-covid19-resized-to-256px-jpg/test/ac634dd7e884.jpg: 256x256 Done. (0.020s)\nimage 846/1263 /kaggle/input/siim-covid19-resized-to-256px-jpg/test/acab76326ba1.jpg: 256x256 2 opacitys, Done. (0.019s)\nimage 847/1263 /kaggle/input/siim-covid19-resized-to-256px-jpg/test/acc3e6eff7c8.jpg: 256x256 Done. (0.020s)\nimage 848/1263 /kaggle/input/siim-covid19-resized-to-256px-jpg/test/acc80ec7e327.jpg: 256x256 Done. (0.018s)\nimage 849/1263 /kaggle/input/siim-covid19-resized-to-256px-jpg/test/accc3b15a2d4.jpg: 256x256 1 opacity, Done. (0.020s)\nimage 850/1263 /kaggle/input/siim-covid19-resized-to-256px-jpg/test/acd735d74d02.jpg: 256x256 Done. (0.018s)\nimage 851/1263 /kaggle/input/siim-covid19-resized-to-256px-jpg/test/ad3e33d5f844.jpg: 256x256 Done. (0.018s)\nimage 852/1263 /kaggle/input/siim-covid19-resized-to-256px-jpg/test/ad56b89a81c7.jpg: 256x256 2 opacitys, Done. (0.020s)\nimage 853/1263 /kaggle/input/siim-covid19-resized-to-256px-jpg/test/ad7c68b8f111.jpg: 256x256 Done. (0.018s)\nimage 854/1263 /kaggle/input/siim-covid19-resized-to-256px-jpg/test/ad97e89134ca.jpg: 256x256 1 opacity, Done. (0.020s)\nimage 855/1263 /kaggle/input/siim-covid19-resized-to-256px-jpg/test/ad98af65ad2a.jpg: 256x256 2 opacitys, Done. (0.019s)\nimage 856/1263 /kaggle/input/siim-covid19-resized-to-256px-jpg/test/adb60ba82edf.jpg: 256x256 2 opacitys, Done. (0.020s)\nimage 857/1263 /kaggle/input/siim-covid19-resized-to-256px-jpg/test/adc2ac4726e2.jpg: 256x256 Done. (0.018s)\nimage 858/1263 /kaggle/input/siim-covid19-resized-to-256px-jpg/test/ae001742d48b.jpg: 256x256 Done. (0.019s)\nimage 859/1263 /kaggle/input/siim-covid19-resized-to-256px-jpg/test/ae357fad39c2.jpg: 256x256 1 opacity, Done. (0.019s)\nimage 860/1263 /kaggle/input/siim-covid19-resized-to-256px-jpg/test/ae9849096225.jpg: 256x256 1 opacity, Done. (0.019s)\nimage 861/1263 /kaggle/input/siim-covid19-resized-to-256px-jpg/test/ae9c9f0b03da.jpg: 256x256 1 opacity, Done. (0.020s)\nimage 862/1263 /kaggle/input/siim-covid19-resized-to-256px-jpg/test/aeaa44932cdd.jpg: 256x256 Done. (0.019s)\nimage 863/1263 /kaggle/input/siim-covid19-resized-to-256px-jpg/test/aebc1d3a968d.jpg: 256x256 Done. (0.020s)\nimage 864/1263 /kaggle/input/siim-covid19-resized-to-256px-jpg/test/aee5e3feb1a2.jpg: 256x256 2 opacitys, Done. (0.019s)\nimage 865/1263 /kaggle/input/siim-covid19-resized-to-256px-jpg/test/af13d77fc159.jpg: 256x256 2 opacitys, Done. (0.020s)\nimage 866/1263 /kaggle/input/siim-covid19-resized-to-256px-jpg/test/af31df978fe9.jpg: 256x256 Done. (0.018s)\nimage 867/1263 /kaggle/input/siim-covid19-resized-to-256px-jpg/test/af6abf791a39.jpg: 256x256 Done. (0.019s)\nimage 868/1263 /kaggle/input/siim-covid19-resized-to-256px-jpg/test/af7d1bd1d629.jpg: 256x256 Done. (0.018s)\nimage 869/1263 /kaggle/input/siim-covid19-resized-to-256px-jpg/test/afc074e1bdb7.jpg: 256x256 2 opacitys, Done. (0.020s)\nimage 870/1263 /kaggle/input/siim-covid19-resized-to-256px-jpg/test/afce260dc959.jpg: 256x256 2 opacitys, Done. (0.019s)\nimage 871/1263 /kaggle/input/siim-covid19-resized-to-256px-jpg/test/afd960320c38.jpg: 256x256 2 opacitys, Done. (0.019s)\nimage 872/1263 /kaggle/input/siim-covid19-resized-to-256px-jpg/test/afe360acb63b.jpg: 256x256 1 opacity, Done. (0.020s)\nimage 873/1263 /kaggle/input/siim-covid19-resized-to-256px-jpg/test/b04178e642ed.jpg: 256x256 2 opacitys, Done. (0.019s)\nimage 874/1263 /kaggle/input/siim-covid19-resized-to-256px-jpg/test/b081d24bd60f.jpg: 256x256 2 opacitys, Done. (0.020s)\nimage 875/1263 /kaggle/input/siim-covid19-resized-to-256px-jpg/test/b08f26e45762.jpg: 256x256 2 opacitys, Done. (0.019s)\nimage 876/1263 /kaggle/input/siim-covid19-resized-to-256px-jpg/test/b09b20b44640.jpg: 256x256 Done. (0.019s)\nimage 877/1263 /kaggle/input/siim-covid19-resized-to-256px-jpg/test/b0e7fab418bc.jpg: 256x256 2 opacitys, Done. (0.019s)\nimage 878/1263 /kaggle/input/siim-covid19-resized-to-256px-jpg/test/b1115b344129.jpg: 256x256 1 opacity, Done. (0.019s)\nimage 879/1263 /kaggle/input/siim-covid19-resized-to-256px-jpg/test/b138b32605b0.jpg: 256x256 Done. (0.018s)\nimage 880/1263 /kaggle/input/siim-covid19-resized-to-256px-jpg/test/b150add375b5.jpg: 256x256 2 opacitys, Done. (0.019s)\nimage 881/1263 /kaggle/input/siim-covid19-resized-to-256px-jpg/test/b168e230f3f5.jpg: 256x256 Done. (0.019s)\nimage 882/1263 /kaggle/input/siim-covid19-resized-to-256px-jpg/test/b16a04496b57.jpg: 256x256 2 opacitys, Done. (0.019s)\nimage 883/1263 /kaggle/input/siim-covid19-resized-to-256px-jpg/test/b1b46fa2505e.jpg: 256x256 2 opacitys, Done. (0.020s)\nimage 884/1263 /kaggle/input/siim-covid19-resized-to-256px-jpg/test/b1c455a826eb.jpg: 256x256 2 opacitys, Done. (0.020s)\nimage 885/1263 /kaggle/input/siim-covid19-resized-to-256px-jpg/test/b1e35564ea39.jpg: 256x256 Done. (0.022s)\nimage 886/1263 /kaggle/input/siim-covid19-resized-to-256px-jpg/test/b22a9e82f34e.jpg: 256x256 Done. (0.030s)\nimage 887/1263 /kaggle/input/siim-covid19-resized-to-256px-jpg/test/b246eb99760f.jpg: 256x256 2 opacitys, Done. (0.019s)\nimage 888/1263 /kaggle/input/siim-covid19-resized-to-256px-jpg/test/b30d2aef985f.jpg: 256x256 1 opacity, Done. (0.020s)\nimage 889/1263 /kaggle/input/siim-covid19-resized-to-256px-jpg/test/b362aec0b6c5.jpg: 256x256 Done. (0.018s)\nimage 890/1263 /kaggle/input/siim-covid19-resized-to-256px-jpg/test/b37ae8cb220b.jpg: 256x256 Done. (0.019s)\nimage 891/1263 /kaggle/input/siim-covid19-resized-to-256px-jpg/test/b39bb8f504fb.jpg: 256x256 2 opacitys, Done. (0.019s)\nimage 892/1263 /kaggle/input/siim-covid19-resized-to-256px-jpg/test/b3c8408f4064.jpg: 256x256 Done. (0.018s)\nimage 893/1263 /kaggle/input/siim-covid19-resized-to-256px-jpg/test/b3d87adb933b.jpg: 256x256 1 opacity, Done. (0.019s)\nimage 894/1263 /kaggle/input/siim-covid19-resized-to-256px-jpg/test/b3e31b3aeba4.jpg: 256x256 Done. (0.018s)\nimage 895/1263 /kaggle/input/siim-covid19-resized-to-256px-jpg/test/b411d3c30168.jpg: 256x256 Done. (0.020s)\nimage 896/1263 /kaggle/input/siim-covid19-resized-to-256px-jpg/test/b4a7026fe17c.jpg: 256x256 Done. (0.019s)\nimage 897/1263 /kaggle/input/siim-covid19-resized-to-256px-jpg/test/b4b6e82b3dc9.jpg: 256x256 1 opacity, Done. (0.020s)\nimage 898/1263 /kaggle/input/siim-covid19-resized-to-256px-jpg/test/b4d04b517ef8.jpg: 256x256 Done. (0.018s)\nimage 899/1263 /kaggle/input/siim-covid19-resized-to-256px-jpg/test/b4eed879daf4.jpg: 256x256 Done. (0.019s)\nimage 900/1263 /kaggle/input/siim-covid19-resized-to-256px-jpg/test/b56f4eda9cea.jpg: 256x256 Done. (0.018s)\nimage 901/1263 /kaggle/input/siim-covid19-resized-to-256px-jpg/test/b576b0f1eeac.jpg: 256x256 Done. (0.019s)\nimage 902/1263 /kaggle/input/siim-covid19-resized-to-256px-jpg/test/b57e134bbaef.jpg: 256x256 2 opacitys, Done. (0.019s)\nimage 903/1263 /kaggle/input/siim-covid19-resized-to-256px-jpg/test/b5a75701a05e.jpg: 256x256 Done. (0.019s)\nimage 904/1263 /kaggle/input/siim-covid19-resized-to-256px-jpg/test/b5b00763a191.jpg: 256x256 Done. (0.018s)\nimage 905/1263 /kaggle/input/siim-covid19-resized-to-256px-jpg/test/b5b53f0a4947.jpg: 256x256 2 opacitys, Done. (0.019s)\nimage 906/1263 /kaggle/input/siim-covid19-resized-to-256px-jpg/test/b5e287db5781.jpg: 256x256 Done. (0.018s)\nimage 907/1263 /kaggle/input/siim-covid19-resized-to-256px-jpg/test/b5f9a65597f2.jpg: 256x256 Done. (0.018s)\nimage 908/1263 /kaggle/input/siim-covid19-resized-to-256px-jpg/test/b69c808bc09b.jpg: 256x256 Done. (0.018s)\nimage 909/1263 /kaggle/input/siim-covid19-resized-to-256px-jpg/test/b6e6bb7b58d1.jpg: 256x256 Done. (0.018s)\nimage 910/1263 /kaggle/input/siim-covid19-resized-to-256px-jpg/test/b708990b8e03.jpg: 256x256 2 opacitys, Done. (0.020s)\nimage 911/1263 /kaggle/input/siim-covid19-resized-to-256px-jpg/test/b717534f157a.jpg: 256x256 Done. (0.018s)\nimage 912/1263 /kaggle/input/siim-covid19-resized-to-256px-jpg/test/b74f81d65e79.jpg: 256x256 Done. (0.019s)\nimage 913/1263 /kaggle/input/siim-covid19-resized-to-256px-jpg/test/b7eb3f96fb93.jpg: 256x256 2 opacitys, Done. (0.019s)\nimage 914/1263 /kaggle/input/siim-covid19-resized-to-256px-jpg/test/b7ec5afe1084.jpg: 256x256 2 opacitys, Done. (0.021s)\nimage 915/1263 /kaggle/input/siim-covid19-resized-to-256px-jpg/test/b83b916b6714.jpg: 256x256 1 opacity, Done. (0.019s)\nimage 916/1263 /kaggle/input/siim-covid19-resized-to-256px-jpg/test/b854ff324fbb.jpg: 256x256 2 opacitys, Done. (0.019s)\nimage 917/1263 /kaggle/input/siim-covid19-resized-to-256px-jpg/test/b873cfe5cead.jpg: 256x256 Done. (0.018s)\nimage 918/1263 /kaggle/input/siim-covid19-resized-to-256px-jpg/test/b92e6f1b6c1b.jpg: 256x256 2 opacitys, Done. (0.019s)\nimage 919/1263 /kaggle/input/siim-covid19-resized-to-256px-jpg/test/b93887026df6.jpg: 256x256 1 opacity, Done. (0.020s)\nimage 920/1263 /kaggle/input/siim-covid19-resized-to-256px-jpg/test/b96333d66af7.jpg: 256x256 2 opacitys, Done. (0.019s)\nimage 921/1263 /kaggle/input/siim-covid19-resized-to-256px-jpg/test/b9ebfc00c1b5.jpg: 256x256 1 opacity, Done. (0.020s)\nimage 922/1263 /kaggle/input/siim-covid19-resized-to-256px-jpg/test/b9f9619f02ba.jpg: 256x256 1 opacity, Done. (0.019s)\nimage 923/1263 /kaggle/input/siim-covid19-resized-to-256px-jpg/test/ba0b49821b69.jpg: 256x256 Done. (0.018s)\nimage 924/1263 /kaggle/input/siim-covid19-resized-to-256px-jpg/test/ba0cf340582d.jpg: 256x256 2 opacitys, Done. (0.019s)\nimage 925/1263 /kaggle/input/siim-covid19-resized-to-256px-jpg/test/ba2d7962e757.jpg: 256x256 Done. (0.018s)\nimage 926/1263 /kaggle/input/siim-covid19-resized-to-256px-jpg/test/ba4b17aaafc2.jpg: 256x256 2 opacitys, Done. (0.020s)\nimage 927/1263 /kaggle/input/siim-covid19-resized-to-256px-jpg/test/ba91d37ee459.jpg: 256x256 2 opacitys, Done. (0.019s)\nimage 928/1263 /kaggle/input/siim-covid19-resized-to-256px-jpg/test/bab3c8aa789b.jpg: 256x256 2 opacitys, Done. (0.020s)\nimage 929/1263 /kaggle/input/siim-covid19-resized-to-256px-jpg/test/bb1d9e39b848.jpg: 256x256 2 opacitys, Done. (0.019s)\nimage 930/1263 /kaggle/input/siim-covid19-resized-to-256px-jpg/test/bb425c8a4aae.jpg: 256x256 Done. (0.019s)\nimage 931/1263 /kaggle/input/siim-covid19-resized-to-256px-jpg/test/bb6f8089e6df.jpg: 256x256 Done. (0.018s)\nimage 932/1263 /kaggle/input/siim-covid19-resized-to-256px-jpg/test/bb6fc945fc18.jpg: 256x256 2 opacitys, Done. (0.020s)\nimage 933/1263 /kaggle/input/siim-covid19-resized-to-256px-jpg/test/bbb202078733.jpg: 256x256 2 opacitys, Done. (0.019s)\nimage 934/1263 /kaggle/input/siim-covid19-resized-to-256px-jpg/test/bbbd7ab57e75.jpg: 256x256 Done. (0.018s)\nimage 935/1263 /kaggle/input/siim-covid19-resized-to-256px-jpg/test/bc72a19f5d87.jpg: 256x256 Done. (0.018s)\nimage 936/1263 /kaggle/input/siim-covid19-resized-to-256px-jpg/test/bca76008a759.jpg: 256x256 1 opacity, Done. (0.019s)\nimage 937/1263 /kaggle/input/siim-covid19-resized-to-256px-jpg/test/bcefb8e50563.jpg: 256x256 Done. (0.019s)\nimage 938/1263 /kaggle/input/siim-covid19-resized-to-256px-jpg/test/bdd60ba8638e.jpg: 256x256 Done. (0.018s)\nimage 939/1263 /kaggle/input/siim-covid19-resized-to-256px-jpg/test/be4b4301c5e4.jpg: 256x256 2 opacitys, Done. (0.020s)\nimage 940/1263 /kaggle/input/siim-covid19-resized-to-256px-jpg/test/be53bfb563b3.jpg: 256x256 2 opacitys, Done. (0.019s)\nimage 941/1263 /kaggle/input/siim-covid19-resized-to-256px-jpg/test/be6bf80c7071.jpg: 256x256 Done. (0.019s)\nimage 942/1263 /kaggle/input/siim-covid19-resized-to-256px-jpg/test/bea59325e32c.jpg: 256x256 Done. (0.019s)\nimage 943/1263 /kaggle/input/siim-covid19-resized-to-256px-jpg/test/beb51e05dbc5.jpg: 256x256 Done. (0.019s)\nimage 944/1263 /kaggle/input/siim-covid19-resized-to-256px-jpg/test/beb80bb88a6e.jpg: 256x256 1 opacity, Done. (0.019s)\nimage 945/1263 /kaggle/input/siim-covid19-resized-to-256px-jpg/test/beeb1db9f010.jpg: 256x256 Done. (0.018s)\nimage 946/1263 /kaggle/input/siim-covid19-resized-to-256px-jpg/test/bef0837ba654.jpg: 256x256 Done. (0.020s)\nimage 947/1263 /kaggle/input/siim-covid19-resized-to-256px-jpg/test/bf30cc575dc9.jpg: 256x256 2 opacitys, Done. (0.019s)\nimage 948/1263 /kaggle/input/siim-covid19-resized-to-256px-jpg/test/bf5c7ef3b72a.jpg: 256x256 2 opacitys, Done. (0.020s)\nimage 949/1263 /kaggle/input/siim-covid19-resized-to-256px-jpg/test/bf8e59f80d5c.jpg: 256x256 2 opacitys, Done. (0.019s)\nimage 950/1263 /kaggle/input/siim-covid19-resized-to-256px-jpg/test/bfaffdf740f5.jpg: 256x256 Done. (0.020s)\nimage 951/1263 /kaggle/input/siim-covid19-resized-to-256px-jpg/test/c00bae0e7714.jpg: 256x256 Done. (0.018s)\nimage 952/1263 /kaggle/input/siim-covid19-resized-to-256px-jpg/test/c010822b2938.jpg: 256x256 Done. (0.018s)\nimage 953/1263 /kaggle/input/siim-covid19-resized-to-256px-jpg/test/c02ef6a70c7e.jpg: 256x256 2 opacitys, Done. (0.019s)\nimage 954/1263 /kaggle/input/siim-covid19-resized-to-256px-jpg/test/c0a746ef9f9f.jpg: 256x256 2 opacitys, Done. (0.019s)\nimage 955/1263 /kaggle/input/siim-covid19-resized-to-256px-jpg/test/c0b95ee9cc9f.jpg: 256x256 Done. (0.019s)\nimage 956/1263 /kaggle/input/siim-covid19-resized-to-256px-jpg/test/c0c89f864fda.jpg: 256x256 Done. (0.018s)\nimage 957/1263 /kaggle/input/siim-covid19-resized-to-256px-jpg/test/c0f5131b1c99.jpg: 256x256 2 opacitys, Done. (0.020s)\nimage 958/1263 /kaggle/input/siim-covid19-resized-to-256px-jpg/test/c13357e59083.jpg: 256x256 Done. (0.018s)\nimage 959/1263 /kaggle/input/siim-covid19-resized-to-256px-jpg/test/c1bb54cfe02f.jpg: 256x256 Done. (0.019s)\nimage 960/1263 /kaggle/input/siim-covid19-resized-to-256px-jpg/test/c1de38ec41d6.jpg: 256x256 Done. (0.018s)\nimage 961/1263 /kaggle/input/siim-covid19-resized-to-256px-jpg/test/c22134ea64bc.jpg: 256x256 Done. (0.020s)\nimage 962/1263 /kaggle/input/siim-covid19-resized-to-256px-jpg/test/c24b6850df7d.jpg: 256x256 Done. (0.018s)\nimage 963/1263 /kaggle/input/siim-covid19-resized-to-256px-jpg/test/c263b1e9aa64.jpg: 256x256 2 opacitys, Done. (0.019s)\nimage 964/1263 /kaggle/input/siim-covid19-resized-to-256px-jpg/test/c26e3ae08056.jpg: 256x256 Done. (0.019s)\nimage 965/1263 /kaggle/input/siim-covid19-resized-to-256px-jpg/test/c28570a073d9.jpg: 256x256 2 opacitys, Done. (0.019s)\nimage 966/1263 /kaggle/input/siim-covid19-resized-to-256px-jpg/test/c34113e0228a.jpg: 256x256 Done. (0.019s)\nimage 967/1263 /kaggle/input/siim-covid19-resized-to-256px-jpg/test/c39146cbda47.jpg: 256x256 2 opacitys, Done. (0.019s)\nimage 968/1263 /kaggle/input/siim-covid19-resized-to-256px-jpg/test/c3afb9da2ebc.jpg: 256x256 Done. (0.019s)\nimage 969/1263 /kaggle/input/siim-covid19-resized-to-256px-jpg/test/c3c99fea8c77.jpg: 256x256 2 opacitys, Done. (0.019s)\nimage 970/1263 /kaggle/input/siim-covid19-resized-to-256px-jpg/test/c3d0378f8856.jpg: 256x256 1 opacity, Done. (0.019s)\nimage 971/1263 /kaggle/input/siim-covid19-resized-to-256px-jpg/test/c3d79bd7e833.jpg: 256x256 2 opacitys, Done. (0.019s)\nimage 972/1263 /kaggle/input/siim-covid19-resized-to-256px-jpg/test/c3deaf98bf56.jpg: 256x256 2 opacitys, Done. (0.019s)\nimage 973/1263 /kaggle/input/siim-covid19-resized-to-256px-jpg/test/c3ded8550e66.jpg: 256x256 Done. (0.019s)\nimage 974/1263 /kaggle/input/siim-covid19-resized-to-256px-jpg/test/c43e88a44468.jpg: 256x256 Done. (0.018s)\nimage 975/1263 /kaggle/input/siim-covid19-resized-to-256px-jpg/test/c440ed025b38.jpg: 256x256 Done. (0.019s)\nimage 976/1263 /kaggle/input/siim-covid19-resized-to-256px-jpg/test/c47fc2a4baaf.jpg: 256x256 Done. (0.018s)\nimage 977/1263 /kaggle/input/siim-covid19-resized-to-256px-jpg/test/c4cea0fb5e7d.jpg: 256x256 Done. (0.019s)\nimage 978/1263 /kaggle/input/siim-covid19-resized-to-256px-jpg/test/c5a76564ef83.jpg: 256x256 Done. (0.018s)\nimage 979/1263 /kaggle/input/siim-covid19-resized-to-256px-jpg/test/c5ac37cc6234.jpg: 256x256 Done. (0.019s)\nimage 980/1263 /kaggle/input/siim-covid19-resized-to-256px-jpg/test/c5b3475f3ea5.jpg: 256x256 Done. (0.018s)\nimage 981/1263 /kaggle/input/siim-covid19-resized-to-256px-jpg/test/c5c3fab94f6f.jpg: 256x256 Done. (0.019s)\nimage 982/1263 /kaggle/input/siim-covid19-resized-to-256px-jpg/test/c5d9340b49ee.jpg: 256x256 Done. (0.018s)\nimage 983/1263 /kaggle/input/siim-covid19-resized-to-256px-jpg/test/c614d8c2e47e.jpg: 256x256 1 opacity, Done. (0.020s)\nimage 984/1263 /kaggle/input/siim-covid19-resized-to-256px-jpg/test/c61fe263d5e3.jpg: 256x256 2 opacitys, Done. (0.019s)\nimage 985/1263 /kaggle/input/siim-covid19-resized-to-256px-jpg/test/c6a555431645.jpg: 256x256 2 opacitys, Done. (0.019s)\nimage 986/1263 /kaggle/input/siim-covid19-resized-to-256px-jpg/test/c6c9bf98487a.jpg: 256x256 1 opacity, Done. (0.019s)\nimage 987/1263 /kaggle/input/siim-covid19-resized-to-256px-jpg/test/c6fa6b9b8093.jpg: 256x256 Done. (0.018s)\nimage 988/1263 /kaggle/input/siim-covid19-resized-to-256px-jpg/test/c75d657e8065.jpg: 256x256 Done. (0.019s)\nimage 989/1263 /kaggle/input/siim-covid19-resized-to-256px-jpg/test/c788095df8f2.jpg: 256x256 2 opacitys, Done. (0.019s)\nimage 990/1263 /kaggle/input/siim-covid19-resized-to-256px-jpg/test/c7ef36caa2fa.jpg: 256x256 Done. (0.019s)\nimage 991/1263 /kaggle/input/siim-covid19-resized-to-256px-jpg/test/c81d1d4a4d70.jpg: 256x256 Done. (0.018s)\nimage 992/1263 /kaggle/input/siim-covid19-resized-to-256px-jpg/test/c836922a723b.jpg: 256x256 Done. (0.019s)\nimage 993/1263 /kaggle/input/siim-covid19-resized-to-256px-jpg/test/c8538fe73673.jpg: 256x256 2 opacitys, Done. (0.019s)\nimage 994/1263 /kaggle/input/siim-covid19-resized-to-256px-jpg/test/c8ebcc491f27.jpg: 256x256 Done. (0.019s)\nimage 995/1263 /kaggle/input/siim-covid19-resized-to-256px-jpg/test/c955b7274092.jpg: 256x256 Done. (0.018s)\nimage 996/1263 /kaggle/input/siim-covid19-resized-to-256px-jpg/test/ca107bb3a592.jpg: 256x256 1 opacity, Done. (0.019s)\nimage 997/1263 /kaggle/input/siim-covid19-resized-to-256px-jpg/test/ca7b91d018c7.jpg: 256x256 2 opacitys, Done. (0.019s)\nimage 998/1263 /kaggle/input/siim-covid19-resized-to-256px-jpg/test/caa431721668.jpg: 256x256 Done. (0.018s)\nimage 999/1263 /kaggle/input/siim-covid19-resized-to-256px-jpg/test/cad5ad977e21.jpg: 256x256 Done. (0.019s)\nimage 1000/1263 /kaggle/input/siim-covid19-resized-to-256px-jpg/test/cb26c1aef6fb.jpg: 256x256 Done. (0.018s)\nimage 1001/1263 /kaggle/input/siim-covid19-resized-to-256px-jpg/test/cb3eb8d1abd3.jpg: 256x256 Done. (0.019s)\nimage 1002/1263 /kaggle/input/siim-covid19-resized-to-256px-jpg/test/cb75251076c7.jpg: 256x256 1 opacity, Done. (0.019s)\nimage 1003/1263 /kaggle/input/siim-covid19-resized-to-256px-jpg/test/cbb693ad2012.jpg: 256x256 2 opacitys, Done. (0.020s)\nimage 1004/1263 /kaggle/input/siim-covid19-resized-to-256px-jpg/test/cc2c3a3d2f4b.jpg: 256x256 Done. (0.018s)\nimage 1005/1263 /kaggle/input/siim-covid19-resized-to-256px-jpg/test/cc495995f8f5.jpg: 256x256 Done. (0.020s)\nimage 1006/1263 /kaggle/input/siim-covid19-resized-to-256px-jpg/test/cca081560d98.jpg: 256x256 2 opacitys, Done. (0.019s)\nimage 1007/1263 /kaggle/input/siim-covid19-resized-to-256px-jpg/test/ccb685c76038.jpg: 256x256 Done. (0.018s)\nimage 1008/1263 /kaggle/input/siim-covid19-resized-to-256px-jpg/test/ccc5b63ca96d.jpg: 256x256 Done. (0.018s)\nimage 1009/1263 /kaggle/input/siim-covid19-resized-to-256px-jpg/test/cd6acf7eecab.jpg: 256x256 2 opacitys, Done. (0.019s)\nimage 1010/1263 /kaggle/input/siim-covid19-resized-to-256px-jpg/test/cdc508b061fa.jpg: 256x256 Done. (0.019s)\nimage 1011/1263 /kaggle/input/siim-covid19-resized-to-256px-jpg/test/cdc6e15cc1a6.jpg: 256x256 2 opacitys, Done. (0.019s)\nimage 1012/1263 /kaggle/input/siim-covid19-resized-to-256px-jpg/test/cdcfbf2ca285.jpg: 256x256 Done. (0.019s)\nimage 1013/1263 /kaggle/input/siim-covid19-resized-to-256px-jpg/test/cdd9c6e8d821.jpg: 256x256 Done. (0.018s)\nimage 1014/1263 /kaggle/input/siim-covid19-resized-to-256px-jpg/test/cdfdbadb85c1.jpg: 256x256 2 opacitys, Done. (0.020s)\nimage 1015/1263 /kaggle/input/siim-covid19-resized-to-256px-jpg/test/ce34bdbe98b5.jpg: 256x256 Done. (0.018s)\nimage 1016/1263 /kaggle/input/siim-covid19-resized-to-256px-jpg/test/cea591e99b8a.jpg: 256x256 1 opacity, Done. (0.020s)\nimage 1017/1263 /kaggle/input/siim-covid19-resized-to-256px-jpg/test/ced40f593496.jpg: 256x256 Done. (0.018s)\nimage 1018/1263 /kaggle/input/siim-covid19-resized-to-256px-jpg/test/cede944b70a5.jpg: 256x256 Done. (0.020s)\nimage 1019/1263 /kaggle/input/siim-covid19-resized-to-256px-jpg/test/cee98095dd28.jpg: 256x256 2 opacitys, Done. (0.019s)\nimage 1020/1263 /kaggle/input/siim-covid19-resized-to-256px-jpg/test/cf0007295ff6.jpg: 256x256 1 opacity, Done. (0.019s)\nimage 1021/1263 /kaggle/input/siim-covid19-resized-to-256px-jpg/test/cf0bf9859b12.jpg: 256x256 1 opacity, Done. (0.020s)\nimage 1022/1263 /kaggle/input/siim-covid19-resized-to-256px-jpg/test/cf292f843e25.jpg: 256x256 Done. (0.018s)\nimage 1023/1263 /kaggle/input/siim-covid19-resized-to-256px-jpg/test/cf2bb9880db5.jpg: 256x256 Done. (0.019s)\nimage 1024/1263 /kaggle/input/siim-covid19-resized-to-256px-jpg/test/cfcbddf07c58.jpg: 256x256 Done. (0.018s)\nimage 1025/1263 /kaggle/input/siim-covid19-resized-to-256px-jpg/test/d021e4e09628.jpg: 256x256 2 opacitys, Done. (0.021s)\nimage 1026/1263 /kaggle/input/siim-covid19-resized-to-256px-jpg/test/d0439f9e0dcd.jpg: 256x256 Done. (0.018s)\nimage 1027/1263 /kaggle/input/siim-covid19-resized-to-256px-jpg/test/d09b2158a7c3.jpg: 256x256 Done. (0.018s)\nimage 1028/1263 /kaggle/input/siim-covid19-resized-to-256px-jpg/test/d0b546b42023.jpg: 256x256 1 opacity, Done. (0.019s)\nimage 1029/1263 /kaggle/input/siim-covid19-resized-to-256px-jpg/test/d0c7ebd93e70.jpg: 256x256 Done. (0.018s)\nimage 1030/1263 /kaggle/input/siim-covid19-resized-to-256px-jpg/test/d0d3d60f8914.jpg: 256x256 Done. (0.019s)\nimage 1031/1263 /kaggle/input/siim-covid19-resized-to-256px-jpg/test/d0de673a7b63.jpg: 256x256 Done. (0.018s)\nimage 1032/1263 /kaggle/input/siim-covid19-resized-to-256px-jpg/test/d0e4465e3731.jpg: 256x256 2 opacitys, Done. (0.020s)\nimage 1033/1263 /kaggle/input/siim-covid19-resized-to-256px-jpg/test/d0e829b775fe.jpg: 256x256 Done. (0.018s)\nimage 1034/1263 /kaggle/input/siim-covid19-resized-to-256px-jpg/test/d16be9684636.jpg: 256x256 1 opacity, Done. (0.020s)\nimage 1035/1263 /kaggle/input/siim-covid19-resized-to-256px-jpg/test/d1912847d707.jpg: 256x256 1 opacity, Done. (0.019s)\nimage 1036/1263 /kaggle/input/siim-covid19-resized-to-256px-jpg/test/d1a0f21a848f.jpg: 256x256 2 opacitys, Done. (0.020s)\nimage 1037/1263 /kaggle/input/siim-covid19-resized-to-256px-jpg/test/d1be32513936.jpg: 256x256 1 opacity, Done. (0.019s)\nimage 1038/1263 /kaggle/input/siim-covid19-resized-to-256px-jpg/test/d1e5994d79de.jpg: 256x256 1 opacity, Done. (0.019s)\nimage 1039/1263 /kaggle/input/siim-covid19-resized-to-256px-jpg/test/d2289e68cca1.jpg: 256x256 2 opacitys, Done. (0.019s)\nimage 1040/1263 /kaggle/input/siim-covid19-resized-to-256px-jpg/test/d25061b50086.jpg: 256x256 2 opacitys, Done. (0.019s)\nimage 1041/1263 /kaggle/input/siim-covid19-resized-to-256px-jpg/test/d3270449d5c5.jpg: 256x256 Done. (0.019s)\nimage 1042/1263 /kaggle/input/siim-covid19-resized-to-256px-jpg/test/d35dc6f25249.jpg: 256x256 1 opacity, Done. (0.019s)\nimage 1043/1263 /kaggle/input/siim-covid19-resized-to-256px-jpg/test/d393233d1b40.jpg: 256x256 Done. (0.019s)\nimage 1044/1263 /kaggle/input/siim-covid19-resized-to-256px-jpg/test/d3b7a21b2ce2.jpg: 256x256 Done. (0.018s)\nimage 1045/1263 /kaggle/input/siim-covid19-resized-to-256px-jpg/test/d3d02532e1cf.jpg: 256x256 2 opacitys, Done. (0.020s)\nimage 1046/1263 /kaggle/input/siim-covid19-resized-to-256px-jpg/test/d40d1b28e300.jpg: 256x256 2 opacitys, Done. (0.019s)\nimage 1047/1263 /kaggle/input/siim-covid19-resized-to-256px-jpg/test/d42b21e5f6cd.jpg: 256x256 1 opacity, Done. (0.019s)\nimage 1048/1263 /kaggle/input/siim-covid19-resized-to-256px-jpg/test/d42cadfaac8f.jpg: 256x256 Done. (0.018s)\nimage 1049/1263 /kaggle/input/siim-covid19-resized-to-256px-jpg/test/d438ffd35a00.jpg: 256x256 2 opacitys, Done. (0.019s)\nimage 1050/1263 /kaggle/input/siim-covid19-resized-to-256px-jpg/test/d4a4dc17bb61.jpg: 256x256 1 opacity, Done. (0.020s)\nimage 1051/1263 /kaggle/input/siim-covid19-resized-to-256px-jpg/test/d4afc9da3448.jpg: 256x256 Done. (0.018s)\nimage 1052/1263 /kaggle/input/siim-covid19-resized-to-256px-jpg/test/d4f61c144f48.jpg: 256x256 2 opacitys, Done. (0.020s)\nimage 1053/1263 /kaggle/input/siim-covid19-resized-to-256px-jpg/test/d4ffcfab21d4.jpg: 256x256 Done. (0.018s)\nimage 1054/1263 /kaggle/input/siim-covid19-resized-to-256px-jpg/test/d50e6d47864b.jpg: 256x256 1 opacity, Done. (0.020s)\nimage 1055/1263 /kaggle/input/siim-covid19-resized-to-256px-jpg/test/d519913779f2.jpg: 256x256 Done. (0.018s)\nimage 1056/1263 /kaggle/input/siim-covid19-resized-to-256px-jpg/test/d5911a060ee4.jpg: 256x256 2 opacitys, Done. (0.020s)\nimage 1057/1263 /kaggle/input/siim-covid19-resized-to-256px-jpg/test/d5a056bedf60.jpg: 256x256 1 opacity, Done. (0.019s)\nimage 1058/1263 /kaggle/input/siim-covid19-resized-to-256px-jpg/test/d5d3ededa34e.jpg: 256x256 2 opacitys, Done. (0.019s)\nimage 1059/1263 /kaggle/input/siim-covid19-resized-to-256px-jpg/test/d62e3d8adae9.jpg: 256x256 1 opacity, Done. (0.020s)\nimage 1060/1263 /kaggle/input/siim-covid19-resized-to-256px-jpg/test/d6387e1c8161.jpg: 256x256 Done. (0.018s)\nimage 1061/1263 /kaggle/input/siim-covid19-resized-to-256px-jpg/test/d6809af17965.jpg: 256x256 Done. (0.020s)\nimage 1062/1263 /kaggle/input/siim-covid19-resized-to-256px-jpg/test/d69b4547fc69.jpg: 256x256 Done. (0.019s)\nimage 1063/1263 /kaggle/input/siim-covid19-resized-to-256px-jpg/test/d6af3acc4ce6.jpg: 256x256 Done. (0.020s)\nimage 1064/1263 /kaggle/input/siim-covid19-resized-to-256px-jpg/test/d6bfc693ebd0.jpg: 256x256 Done. (0.019s)\nimage 1065/1263 /kaggle/input/siim-covid19-resized-to-256px-jpg/test/d6c2f07ca4ba.jpg: 256x256 1 opacity, Done. (0.020s)\nimage 1066/1263 /kaggle/input/siim-covid19-resized-to-256px-jpg/test/d706eea1b70c.jpg: 256x256 Done. (0.018s)\nimage 1067/1263 /kaggle/input/siim-covid19-resized-to-256px-jpg/test/d750be1736db.jpg: 256x256 2 opacitys, Done. (0.019s)\nimage 1068/1263 /kaggle/input/siim-covid19-resized-to-256px-jpg/test/d764b622b4b5.jpg: 256x256 2 opacitys, Done. (0.020s)\nimage 1069/1263 /kaggle/input/siim-covid19-resized-to-256px-jpg/test/d7aaf0a52df3.jpg: 256x256 1 opacity, Done. (0.019s)\nimage 1070/1263 /kaggle/input/siim-covid19-resized-to-256px-jpg/test/d7cb763ec2b1.jpg: 256x256 Done. (0.019s)\nimage 1071/1263 /kaggle/input/siim-covid19-resized-to-256px-jpg/test/d7e440b4dc62.jpg: 256x256 Done. (0.018s)\nimage 1072/1263 /kaggle/input/siim-covid19-resized-to-256px-jpg/test/d832414be226.jpg: 256x256 Done. (0.019s)\nimage 1073/1263 /kaggle/input/siim-covid19-resized-to-256px-jpg/test/d8407edd456b.jpg: 256x256 2 opacitys, Done. (0.019s)\nimage 1074/1263 /kaggle/input/siim-covid19-resized-to-256px-jpg/test/d866b471de43.jpg: 256x256 Done. (0.019s)\nimage 1075/1263 /kaggle/input/siim-covid19-resized-to-256px-jpg/test/d88e65063aef.jpg: 256x256 Done. (0.018s)\nimage 1076/1263 /kaggle/input/siim-covid19-resized-to-256px-jpg/test/d8b8ef2bcbf6.jpg: 256x256 Done. (0.019s)\nimage 1077/1263 /kaggle/input/siim-covid19-resized-to-256px-jpg/test/d8e2ec854be4.jpg: 256x256 2 opacitys, Done. (0.019s)\nimage 1078/1263 /kaggle/input/siim-covid19-resized-to-256px-jpg/test/d916d2169020.jpg: 256x256 Done. (0.019s)\nimage 1079/1263 /kaggle/input/siim-covid19-resized-to-256px-jpg/test/d91b58caa74d.jpg: 256x256 Done. (0.018s)\nimage 1080/1263 /kaggle/input/siim-covid19-resized-to-256px-jpg/test/d997c6c6a9b4.jpg: 256x256 2 opacitys, Done. (0.020s)\nimage 1081/1263 /kaggle/input/siim-covid19-resized-to-256px-jpg/test/da263425b379.jpg: 256x256 Done. (0.020s)\nimage 1082/1263 /kaggle/input/siim-covid19-resized-to-256px-jpg/test/da3860170bad.jpg: 256x256 1 opacity, Done. (0.019s)\nimage 1083/1263 /kaggle/input/siim-covid19-resized-to-256px-jpg/test/da66593f5d16.jpg: 256x256 1 opacity, Done. (0.020s)\nimage 1084/1263 /kaggle/input/siim-covid19-resized-to-256px-jpg/test/daf0bd7ba1b4.jpg: 256x256 1 opacity, Done. (0.019s)\nimage 1085/1263 /kaggle/input/siim-covid19-resized-to-256px-jpg/test/db15ead7ab00.jpg: 256x256 Done. (0.020s)\nimage 1086/1263 /kaggle/input/siim-covid19-resized-to-256px-jpg/test/db1af486b119.jpg: 256x256 Done. (0.018s)\nimage 1087/1263 /kaggle/input/siim-covid19-resized-to-256px-jpg/test/db4cecc08fe8.jpg: 256x256 Done. (0.019s)\nimage 1088/1263 /kaggle/input/siim-covid19-resized-to-256px-jpg/test/db9da8404d58.jpg: 256x256 Done. (0.018s)\nimage 1089/1263 /kaggle/input/siim-covid19-resized-to-256px-jpg/test/db9ea9c5067e.jpg: 256x256 2 opacitys, Done. (0.020s)\nimage 1090/1263 /kaggle/input/siim-covid19-resized-to-256px-jpg/test/dba0caa176ce.jpg: 256x256 Done. (0.018s)\nimage 1091/1263 /kaggle/input/siim-covid19-resized-to-256px-jpg/test/dbae9b9b9500.jpg: 256x256 Done. (0.018s)\nimage 1092/1263 /kaggle/input/siim-covid19-resized-to-256px-jpg/test/dc0b4b3495c4.jpg: 256x256 2 opacitys, Done. (0.019s)\nimage 1093/1263 /kaggle/input/siim-covid19-resized-to-256px-jpg/test/dc5141a2316a.jpg: 256x256 2 opacitys, Done. (0.019s)\nimage 1094/1263 /kaggle/input/siim-covid19-resized-to-256px-jpg/test/dc58aecf62e3.jpg: 256x256 2 opacitys, Done. (0.020s)\nimage 1095/1263 /kaggle/input/siim-covid19-resized-to-256px-jpg/test/dc6834a1efa6.jpg: 256x256 Done. (0.018s)\nimage 1096/1263 /kaggle/input/siim-covid19-resized-to-256px-jpg/test/dcf6740dbc49.jpg: 256x256 2 opacitys, Done. (0.021s)\nimage 1097/1263 /kaggle/input/siim-covid19-resized-to-256px-jpg/test/ddd7ad8b0c41.jpg: 256x256 2 opacitys, Done. (0.019s)\nimage 1098/1263 /kaggle/input/siim-covid19-resized-to-256px-jpg/test/dded54f9de15.jpg: 256x256 Done. (0.018s)\nimage 1099/1263 /kaggle/input/siim-covid19-resized-to-256px-jpg/test/de0cf08fcad0.jpg: 256x256 Done. (0.023s)\nimage 1100/1263 /kaggle/input/siim-covid19-resized-to-256px-jpg/test/de1b8900bf84.jpg: 256x256 2 opacitys, Done. (0.020s)\nimage 1101/1263 /kaggle/input/siim-covid19-resized-to-256px-jpg/test/de56c2d5b778.jpg: 256x256 Done. (0.021s)\nimage 1102/1263 /kaggle/input/siim-covid19-resized-to-256px-jpg/test/dea7079400f8.jpg: 256x256 Done. (0.019s)\nimage 1103/1263 /kaggle/input/siim-covid19-resized-to-256px-jpg/test/deb2db0a0efb.jpg: 256x256 Done. (0.019s)\nimage 1104/1263 /kaggle/input/siim-covid19-resized-to-256px-jpg/test/dee71f5c5b9c.jpg: 256x256 2 opacitys, Done. (0.020s)\nimage 1105/1263 /kaggle/input/siim-covid19-resized-to-256px-jpg/test/df829b7602ce.jpg: 256x256 Done. (0.018s)\nimage 1106/1263 /kaggle/input/siim-covid19-resized-to-256px-jpg/test/df937504e546.jpg: 256x256 Done. (0.019s)\nimage 1107/1263 /kaggle/input/siim-covid19-resized-to-256px-jpg/test/dfb6a487e854.jpg: 256x256 1 opacity, Done. (0.019s)\nimage 1108/1263 /kaggle/input/siim-covid19-resized-to-256px-jpg/test/dfc5c09a50bc.jpg: 256x256 1 opacity, Done. (0.020s)\nimage 1109/1263 /kaggle/input/siim-covid19-resized-to-256px-jpg/test/e002731bb6cb.jpg: 256x256 Done. (0.018s)\nimage 1110/1263 /kaggle/input/siim-covid19-resized-to-256px-jpg/test/e00b7784d1eb.jpg: 256x256 1 opacity, Done. (0.019s)\nimage 1111/1263 /kaggle/input/siim-covid19-resized-to-256px-jpg/test/e036a057d0cf.jpg: 256x256 Done. (0.020s)\nimage 1112/1263 /kaggle/input/siim-covid19-resized-to-256px-jpg/test/e0daaf8d36a4.jpg: 256x256 2 opacitys, Done. (0.019s)\nimage 1113/1263 /kaggle/input/siim-covid19-resized-to-256px-jpg/test/e134e2ffdfaf.jpg: 256x256 Done. (0.019s)\nimage 1114/1263 /kaggle/input/siim-covid19-resized-to-256px-jpg/test/e150241b43a4.jpg: 256x256 2 opacitys, Done. (0.019s)\nimage 1115/1263 /kaggle/input/siim-covid19-resized-to-256px-jpg/test/e1635f289c95.jpg: 256x256 Done. (0.018s)\nimage 1116/1263 /kaggle/input/siim-covid19-resized-to-256px-jpg/test/e19d8286b13b.jpg: 256x256 2 opacitys, Done. (0.019s)\nimage 1117/1263 /kaggle/input/siim-covid19-resized-to-256px-jpg/test/e20cf732e8eb.jpg: 256x256 Done. (0.018s)\nimage 1118/1263 /kaggle/input/siim-covid19-resized-to-256px-jpg/test/e226747a2d76.jpg: 256x256 2 opacitys, Done. (0.020s)\nimage 1119/1263 /kaggle/input/siim-covid19-resized-to-256px-jpg/test/e23027c8bea6.jpg: 256x256 Done. (0.018s)\nimage 1120/1263 /kaggle/input/siim-covid19-resized-to-256px-jpg/test/e252ffbf487e.jpg: 256x256 Done. (0.020s)\nimage 1121/1263 /kaggle/input/siim-covid19-resized-to-256px-jpg/test/e2c038335c9a.jpg: 256x256 1 opacity, Done. (0.019s)\nimage 1122/1263 /kaggle/input/siim-covid19-resized-to-256px-jpg/test/e2f83c4e9c79.jpg: 256x256 Done. (0.018s)\nimage 1123/1263 /kaggle/input/siim-covid19-resized-to-256px-jpg/test/e3179eb2ff82.jpg: 256x256 Done. (0.019s)\nimage 1124/1263 /kaggle/input/siim-covid19-resized-to-256px-jpg/test/e32589cd4421.jpg: 256x256 2 opacitys, Done. (0.019s)\nimage 1125/1263 /kaggle/input/siim-covid19-resized-to-256px-jpg/test/e3a4dddc69b6.jpg: 256x256 Done. (0.021s)\nimage 1126/1263 /kaggle/input/siim-covid19-resized-to-256px-jpg/test/e3cd1fdf2444.jpg: 256x256 Done. (0.018s)\nimage 1127/1263 /kaggle/input/siim-covid19-resized-to-256px-jpg/test/e3eeddbfba24.jpg: 256x256 2 opacitys, Done. (0.020s)\nimage 1128/1263 /kaggle/input/siim-covid19-resized-to-256px-jpg/test/e420d66bb7f8.jpg: 256x256 1 opacity, Done. (0.020s)\nimage 1129/1263 /kaggle/input/siim-covid19-resized-to-256px-jpg/test/e427d54f3926.jpg: 256x256 Done. (0.018s)\nimage 1130/1263 /kaggle/input/siim-covid19-resized-to-256px-jpg/test/e47df1ad9ccf.jpg: 256x256 2 opacitys, Done. (0.021s)\nimage 1131/1263 /kaggle/input/siim-covid19-resized-to-256px-jpg/test/e49489fcf5c0.jpg: 256x256 1 opacity, Done. (0.019s)\nimage 1132/1263 /kaggle/input/siim-covid19-resized-to-256px-jpg/test/e53c7af3541a.jpg: 256x256 Done. (0.020s)\nimage 1133/1263 /kaggle/input/siim-covid19-resized-to-256px-jpg/test/e59126042b0e.jpg: 256x256 2 opacitys, Done. (0.036s)\nimage 1134/1263 /kaggle/input/siim-covid19-resized-to-256px-jpg/test/e5a860104190.jpg: 256x256 Done. (0.037s)\nimage 1135/1263 /kaggle/input/siim-covid19-resized-to-256px-jpg/test/e5c56ef2d194.jpg: 256x256 2 opacitys, Done. (0.033s)\nimage 1136/1263 /kaggle/input/siim-covid19-resized-to-256px-jpg/test/e5e44940be7a.jpg: 256x256 Done. (0.026s)\nimage 1137/1263 /kaggle/input/siim-covid19-resized-to-256px-jpg/test/e5f1d33714e6.jpg: 256x256 2 opacitys, Done. (0.034s)\nimage 1138/1263 /kaggle/input/siim-covid19-resized-to-256px-jpg/test/e61e420938b6.jpg: 256x256 1 opacity, Done. (0.031s)\nimage 1139/1263 /kaggle/input/siim-covid19-resized-to-256px-jpg/test/e71a18669122.jpg: 256x256 Done. (0.031s)\nimage 1140/1263 /kaggle/input/siim-covid19-resized-to-256px-jpg/test/e730aa7fca0a.jpg: 256x256 2 opacitys, Done. (0.033s)\nimage 1141/1263 /kaggle/input/siim-covid19-resized-to-256px-jpg/test/e78f51cdf0b8.jpg: 256x256 1 opacity, Done. (0.032s)\nimage 1142/1263 /kaggle/input/siim-covid19-resized-to-256px-jpg/test/e7b2a9418b98.jpg: 256x256 2 opacitys, Done. (0.030s)\nimage 1143/1263 /kaggle/input/siim-covid19-resized-to-256px-jpg/test/e831bebfa015.jpg: 256x256 1 opacity, Done. (0.033s)\nimage 1144/1263 /kaggle/input/siim-covid19-resized-to-256px-jpg/test/e85bb0bcca1f.jpg: 256x256 Done. (0.019s)\nimage 1145/1263 /kaggle/input/siim-covid19-resized-to-256px-jpg/test/e88f293bc83a.jpg: 256x256 Done. (0.020s)\nimage 1146/1263 /kaggle/input/siim-covid19-resized-to-256px-jpg/test/e8b4525ec41f.jpg: 256x256 Done. (0.018s)\nimage 1147/1263 /kaggle/input/siim-covid19-resized-to-256px-jpg/test/e8cc6a2f117c.jpg: 256x256 1 opacity, Done. (0.019s)\nimage 1148/1263 /kaggle/input/siim-covid19-resized-to-256px-jpg/test/e8d690e0d67d.jpg: 256x256 Done. (0.019s)\nimage 1149/1263 /kaggle/input/siim-covid19-resized-to-256px-jpg/test/e8d801584d89.jpg: 256x256 Done. (0.018s)\nimage 1150/1263 /kaggle/input/siim-covid19-resized-to-256px-jpg/test/e92b08b5a77c.jpg: 256x256 Done. (0.019s)\nimage 1151/1263 /kaggle/input/siim-covid19-resized-to-256px-jpg/test/e95803934fc4.jpg: 256x256 Done. (0.018s)\nimage 1152/1263 /kaggle/input/siim-covid19-resized-to-256px-jpg/test/e9783e91ed84.jpg: 256x256 2 opacitys, Done. (0.020s)\nimage 1153/1263 /kaggle/input/siim-covid19-resized-to-256px-jpg/test/e987cb5ca98b.jpg: 256x256 Done. (0.018s)\nimage 1154/1263 /kaggle/input/siim-covid19-resized-to-256px-jpg/test/e9a3b9253cd3.jpg: 256x256 Done. (0.018s)\nimage 1155/1263 /kaggle/input/siim-covid19-resized-to-256px-jpg/test/ea1c164158da.jpg: 256x256 Done. (0.018s)\nimage 1156/1263 /kaggle/input/siim-covid19-resized-to-256px-jpg/test/ea39ebfacca2.jpg: 256x256 Done. (0.018s)\nimage 1157/1263 /kaggle/input/siim-covid19-resized-to-256px-jpg/test/ea5341f767eb.jpg: 256x256 Done. (0.019s)\nimage 1158/1263 /kaggle/input/siim-covid19-resized-to-256px-jpg/test/ea71a8b95d30.jpg: 256x256 2 opacitys, Done. (0.019s)\nimage 1159/1263 /kaggle/input/siim-covid19-resized-to-256px-jpg/test/ea7909e782fe.jpg: 256x256 Done. (0.020s)\nimage 1160/1263 /kaggle/input/siim-covid19-resized-to-256px-jpg/test/ea79274e2bfd.jpg: 256x256 Done. (0.018s)\nimage 1161/1263 /kaggle/input/siim-covid19-resized-to-256px-jpg/test/ea9ee4d59c59.jpg: 256x256 1 opacity, Done. (0.020s)\nimage 1162/1263 /kaggle/input/siim-covid19-resized-to-256px-jpg/test/eaa1d528538f.jpg: 256x256 Done. (0.018s)\nimage 1163/1263 /kaggle/input/siim-covid19-resized-to-256px-jpg/test/eaad41dd9fe3.jpg: 256x256 2 opacitys, Done. (0.019s)\nimage 1164/1263 /kaggle/input/siim-covid19-resized-to-256px-jpg/test/eaec01e48714.jpg: 256x256 2 opacitys, Done. (0.020s)\nimage 1165/1263 /kaggle/input/siim-covid19-resized-to-256px-jpg/test/eb3fe9eb8e39.jpg: 256x256 1 opacity, Done. (0.019s)\nimage 1166/1263 /kaggle/input/siim-covid19-resized-to-256px-jpg/test/eb4d5d8af5a5.jpg: 256x256 Done. (0.019s)\nimage 1167/1263 /kaggle/input/siim-covid19-resized-to-256px-jpg/test/eb5787b68520.jpg: 256x256 Done. (0.018s)\nimage 1168/1263 /kaggle/input/siim-covid19-resized-to-256px-jpg/test/eb632adfa113.jpg: 256x256 1 opacity, Done. (0.020s)\nimage 1169/1263 /kaggle/input/siim-covid19-resized-to-256px-jpg/test/eb6cabb0b9f2.jpg: 256x256 2 opacitys, Done. (0.019s)\nimage 1170/1263 /kaggle/input/siim-covid19-resized-to-256px-jpg/test/eb793f1aa7a1.jpg: 256x256 Done. (0.020s)\nimage 1171/1263 /kaggle/input/siim-covid19-resized-to-256px-jpg/test/eb9a9b9a0870.jpg: 256x256 Done. (0.018s)\nimage 1172/1263 /kaggle/input/siim-covid19-resized-to-256px-jpg/test/ebaebf6b1e02.jpg: 256x256 2 opacitys, Done. (0.019s)\nimage 1173/1263 /kaggle/input/siim-covid19-resized-to-256px-jpg/test/ebcc9bedfa05.jpg: 256x256 Done. (0.018s)\nimage 1174/1263 /kaggle/input/siim-covid19-resized-to-256px-jpg/test/ebf5edbbed2d.jpg: 256x256 1 opacity, Done. (0.019s)\nimage 1175/1263 /kaggle/input/siim-covid19-resized-to-256px-jpg/test/ec563919514c.jpg: 256x256 Done. (0.020s)\nimage 1176/1263 /kaggle/input/siim-covid19-resized-to-256px-jpg/test/ecb545d2ff15.jpg: 256x256 Done. (0.019s)\nimage 1177/1263 /kaggle/input/siim-covid19-resized-to-256px-jpg/test/ecdd379e2a9b.jpg: 256x256 1 opacity, Done. (0.021s)\nimage 1178/1263 /kaggle/input/siim-covid19-resized-to-256px-jpg/test/ecebf3314fbd.jpg: 256x256 Done. (0.019s)\nimage 1179/1263 /kaggle/input/siim-covid19-resized-to-256px-jpg/test/ed74d42fc445.jpg: 256x256 1 opacity, Done. (0.022s)\nimage 1180/1263 /kaggle/input/siim-covid19-resized-to-256px-jpg/test/edd69153435a.jpg: 256x256 Done. (0.018s)\nimage 1181/1263 /kaggle/input/siim-covid19-resized-to-256px-jpg/test/ede662a3de87.jpg: 256x256 2 opacitys, Done. (0.019s)\nimage 1182/1263 /kaggle/input/siim-covid19-resized-to-256px-jpg/test/ee27ca277911.jpg: 256x256 1 opacity, Done. (0.020s)\nimage 1183/1263 /kaggle/input/siim-covid19-resized-to-256px-jpg/test/ee2b112cdd91.jpg: 256x256 1 opacity, Done. (0.019s)\nimage 1184/1263 /kaggle/input/siim-covid19-resized-to-256px-jpg/test/ee580bf07fa1.jpg: 256x256 Done. (0.020s)\nimage 1185/1263 /kaggle/input/siim-covid19-resized-to-256px-jpg/test/eea4c86f42d5.jpg: 256x256 Done. (0.018s)\nimage 1186/1263 /kaggle/input/siim-covid19-resized-to-256px-jpg/test/eebfaa5e1a65.jpg: 256x256 1 opacity, Done. (0.021s)\nimage 1187/1263 /kaggle/input/siim-covid19-resized-to-256px-jpg/test/eeeb7da65659.jpg: 256x256 Done. (0.019s)\nimage 1188/1263 /kaggle/input/siim-covid19-resized-to-256px-jpg/test/eeff73683974.jpg: 256x256 Done. (0.020s)\nimage 1189/1263 /kaggle/input/siim-covid19-resized-to-256px-jpg/test/ef25824e7b3a.jpg: 256x256 2 opacitys, Done. (0.019s)\nimage 1190/1263 /kaggle/input/siim-covid19-resized-to-256px-jpg/test/ef661638c8c0.jpg: 256x256 2 opacitys, Done. (0.019s)\nimage 1191/1263 /kaggle/input/siim-covid19-resized-to-256px-jpg/test/efcfaa82fcb8.jpg: 256x256 Done. (0.018s)\nimage 1192/1263 /kaggle/input/siim-covid19-resized-to-256px-jpg/test/efd8a04416af.jpg: 256x256 Done. (0.018s)\nimage 1193/1263 /kaggle/input/siim-covid19-resized-to-256px-jpg/test/eff9f15c7e9b.jpg: 256x256 1 opacity, Done. (0.021s)\nimage 1194/1263 /kaggle/input/siim-covid19-resized-to-256px-jpg/test/f016fe5579d7.jpg: 256x256 Done. (0.019s)\nimage 1195/1263 /kaggle/input/siim-covid19-resized-to-256px-jpg/test/f02e557a36dc.jpg: 256x256 2 opacitys, Done. (0.021s)\nimage 1196/1263 /kaggle/input/siim-covid19-resized-to-256px-jpg/test/f038e6d16303.jpg: 256x256 Done. (0.019s)\nimage 1197/1263 /kaggle/input/siim-covid19-resized-to-256px-jpg/test/f07e4a04078a.jpg: 256x256 Done. (0.019s)\nimage 1198/1263 /kaggle/input/siim-covid19-resized-to-256px-jpg/test/f1774ffc9c4b.jpg: 256x256 2 opacitys, Done. (0.020s)\nimage 1199/1263 /kaggle/input/siim-covid19-resized-to-256px-jpg/test/f17999420b3f.jpg: 256x256 Done. (0.019s)\nimage 1200/1263 /kaggle/input/siim-covid19-resized-to-256px-jpg/test/f1b66ff8f4eb.jpg: 256x256 2 opacitys, Done. (0.021s)\nimage 1201/1263 /kaggle/input/siim-covid19-resized-to-256px-jpg/test/f1b95b972b74.jpg: 256x256 Done. (0.018s)\nimage 1202/1263 /kaggle/input/siim-covid19-resized-to-256px-jpg/test/f2038cb67c83.jpg: 256x256 2 opacitys, Done. (0.021s)\nimage 1203/1263 /kaggle/input/siim-covid19-resized-to-256px-jpg/test/f2200b845e93.jpg: 256x256 1 opacity, Done. (0.019s)\nimage 1204/1263 /kaggle/input/siim-covid19-resized-to-256px-jpg/test/f2be75ff15ba.jpg: 256x256 Done. (0.019s)\nimage 1205/1263 /kaggle/input/siim-covid19-resized-to-256px-jpg/test/f2d98750a22c.jpg: 256x256 1 opacity, Done. (0.019s)\nimage 1206/1263 /kaggle/input/siim-covid19-resized-to-256px-jpg/test/f2eaa573742f.jpg: 256x256 Done. (0.018s)\nimage 1207/1263 /kaggle/input/siim-covid19-resized-to-256px-jpg/test/f31bb833e467.jpg: 256x256 2 opacitys, Done. (0.019s)\nimage 1208/1263 /kaggle/input/siim-covid19-resized-to-256px-jpg/test/f3239829a8dc.jpg: 256x256 2 opacitys, Done. (0.019s)\nimage 1209/1263 /kaggle/input/siim-covid19-resized-to-256px-jpg/test/f34e1aaea8a0.jpg: 256x256 Done. (0.019s)\nimage 1210/1263 /kaggle/input/siim-covid19-resized-to-256px-jpg/test/f35d7c728684.jpg: 256x256 Done. (0.018s)\nimage 1211/1263 /kaggle/input/siim-covid19-resized-to-256px-jpg/test/f39044d6c511.jpg: 256x256 Done. (0.019s)\nimage 1212/1263 /kaggle/input/siim-covid19-resized-to-256px-jpg/test/f3f3ea70d5a7.jpg: 256x256 Done. (0.018s)\nimage 1213/1263 /kaggle/input/siim-covid19-resized-to-256px-jpg/test/f49845505871.jpg: 256x256 2 opacitys, Done. (0.020s)\nimage 1214/1263 /kaggle/input/siim-covid19-resized-to-256px-jpg/test/f504d269be24.jpg: 256x256 Done. (0.018s)\nimage 1215/1263 /kaggle/input/siim-covid19-resized-to-256px-jpg/test/f533f5259633.jpg: 256x256 2 opacitys, Done. (0.020s)\nimage 1216/1263 /kaggle/input/siim-covid19-resized-to-256px-jpg/test/f554169c1277.jpg: 256x256 2 opacitys, Done. (0.019s)\nimage 1217/1263 /kaggle/input/siim-covid19-resized-to-256px-jpg/test/f58258eeaa42.jpg: 256x256 Done. (0.019s)\nimage 1218/1263 /kaggle/input/siim-covid19-resized-to-256px-jpg/test/f5b45b497add.jpg: 256x256 2 opacitys, Done. (0.018s)\nimage 1219/1263 /kaggle/input/siim-covid19-resized-to-256px-jpg/test/f625309a6d62.jpg: 256x256 Done. (0.018s)\nimage 1220/1263 /kaggle/input/siim-covid19-resized-to-256px-jpg/test/f6ba3df9a8be.jpg: 256x256 Done. (0.018s)\nimage 1221/1263 /kaggle/input/siim-covid19-resized-to-256px-jpg/test/f7036442740b.jpg: 256x256 Done. (0.018s)\nimage 1222/1263 /kaggle/input/siim-covid19-resized-to-256px-jpg/test/f77d7d1aebab.jpg: 256x256 Done. (0.018s)\nimage 1223/1263 /kaggle/input/siim-covid19-resized-to-256px-jpg/test/f785f9c6bbf7.jpg: 256x256 2 opacitys, Done. (0.019s)\nimage 1224/1263 /kaggle/input/siim-covid19-resized-to-256px-jpg/test/f78ec02bc8d8.jpg: 256x256 2 opacitys, Done. (0.019s)\nimage 1225/1263 /kaggle/input/siim-covid19-resized-to-256px-jpg/test/f7cbc735f105.jpg: 256x256 Done. (0.018s)\nimage 1226/1263 /kaggle/input/siim-covid19-resized-to-256px-jpg/test/f87f1ab5729e.jpg: 256x256 Done. (0.019s)\nimage 1227/1263 /kaggle/input/siim-covid19-resized-to-256px-jpg/test/f8ed7c6111f1.jpg: 256x256 2 opacitys, Done. (0.019s)\nimage 1228/1263 /kaggle/input/siim-covid19-resized-to-256px-jpg/test/f900aac4111b.jpg: 256x256 Done. (0.019s)\nimage 1229/1263 /kaggle/input/siim-covid19-resized-to-256px-jpg/test/f90deb13b3e2.jpg: 256x256 1 opacity, Done. (0.019s)\nimage 1230/1263 /kaggle/input/siim-covid19-resized-to-256px-jpg/test/f91fbbfe4682.jpg: 256x256 2 opacitys, Done. (0.020s)\nimage 1231/1263 /kaggle/input/siim-covid19-resized-to-256px-jpg/test/f97bf716e365.jpg: 256x256 Done. (0.023s)\nimage 1232/1263 /kaggle/input/siim-covid19-resized-to-256px-jpg/test/f99f9714b911.jpg: 256x256 2 opacitys, Done. (0.021s)\nimage 1233/1263 /kaggle/input/siim-covid19-resized-to-256px-jpg/test/fa0c84ee4577.jpg: 256x256 2 opacitys, Done. (0.020s)\nimage 1234/1263 /kaggle/input/siim-covid19-resized-to-256px-jpg/test/fa29fd163597.jpg: 256x256 1 opacity, Done. (0.019s)\nimage 1235/1263 /kaggle/input/siim-covid19-resized-to-256px-jpg/test/faf630376fa9.jpg: 256x256 Done. (0.019s)\nimage 1236/1263 /kaggle/input/siim-covid19-resized-to-256px-jpg/test/fb073252b364.jpg: 256x256 Done. (0.018s)\nimage 1237/1263 /kaggle/input/siim-covid19-resized-to-256px-jpg/test/fb1e3b68864d.jpg: 256x256 1 opacity, Done. (0.020s)\nimage 1238/1263 /kaggle/input/siim-covid19-resized-to-256px-jpg/test/fbb175d04c3b.jpg: 256x256 Done. (0.018s)\nimage 1239/1263 /kaggle/input/siim-covid19-resized-to-256px-jpg/test/fbc094e9276f.jpg: 256x256 Done. (0.018s)\nimage 1240/1263 /kaggle/input/siim-covid19-resized-to-256px-jpg/test/fbdb5bff26f2.jpg: 256x256 Done. (0.018s)\nimage 1241/1263 /kaggle/input/siim-covid19-resized-to-256px-jpg/test/fbf41ac72bdb.jpg: 256x256 1 opacity, Done. (0.019s)\nimage 1242/1263 /kaggle/input/siim-covid19-resized-to-256px-jpg/test/fbf51388c4ff.jpg: 256x256 Done. (0.018s)\nimage 1243/1263 /kaggle/input/siim-covid19-resized-to-256px-jpg/test/fc332a1e51c9.jpg: 256x256 Done. (0.018s)\nimage 1244/1263 /kaggle/input/siim-covid19-resized-to-256px-jpg/test/fc45a3b144a7.jpg: 256x256 Done. (0.018s)\nimage 1245/1263 /kaggle/input/siim-covid19-resized-to-256px-jpg/test/fcc09eaa77c4.jpg: 256x256 Done. (0.018s)\nimage 1246/1263 /kaggle/input/siim-covid19-resized-to-256px-jpg/test/fcdb115a918f.jpg: 256x256 2 opacitys, Done. (0.020s)\nimage 1247/1263 /kaggle/input/siim-covid19-resized-to-256px-jpg/test/fce43e07637a.jpg: 256x256 2 opacitys, Done. (0.019s)\nimage 1248/1263 /kaggle/input/siim-covid19-resized-to-256px-jpg/test/fd322d964dc7.jpg: 256x256 1 opacity, Done. (0.021s)\nimage 1249/1263 /kaggle/input/siim-covid19-resized-to-256px-jpg/test/fd435a3c012d.jpg: 256x256 2 opacitys, Done. (0.019s)\nimage 1250/1263 /kaggle/input/siim-covid19-resized-to-256px-jpg/test/fd65cc14da23.jpg: 256x256 2 opacitys, Done. (0.020s)\nimage 1251/1263 /kaggle/input/siim-covid19-resized-to-256px-jpg/test/fd7f440d5444.jpg: 256x256 2 opacitys, Done. (0.019s)\nimage 1252/1263 /kaggle/input/siim-covid19-resized-to-256px-jpg/test/fdbaf93d6c5b.jpg: 256x256 Done. (0.018s)\nimage 1253/1263 /kaggle/input/siim-covid19-resized-to-256px-jpg/test/fe0cf147b965.jpg: 256x256 Done. (0.020s)\nimage 1254/1263 /kaggle/input/siim-covid19-resized-to-256px-jpg/test/fe2c1dc506e7.jpg: 256x256 Done. (0.018s)\nimage 1255/1263 /kaggle/input/siim-covid19-resized-to-256px-jpg/test/fe501aa91e43.jpg: 256x256 2 opacitys, Done. (0.020s)\nimage 1256/1263 /kaggle/input/siim-covid19-resized-to-256px-jpg/test/fe508ca896d7.jpg: 256x256 Done. (0.018s)\nimage 1257/1263 /kaggle/input/siim-covid19-resized-to-256px-jpg/test/fe97de4edad5.jpg: 256x256 Done. (0.020s)\nimage 1258/1263 /kaggle/input/siim-covid19-resized-to-256px-jpg/test/fec0249d70e4.jpg: 256x256 Done. (0.018s)\nimage 1259/1263 /kaggle/input/siim-covid19-resized-to-256px-jpg/test/fed3a460884c.jpg: 256x256 Done. (0.019s)\nimage 1260/1263 /kaggle/input/siim-covid19-resized-to-256px-jpg/test/ff5448be90d5.jpg: 256x256 Done. (0.018s)\nimage 1261/1263 /kaggle/input/siim-covid19-resized-to-256px-jpg/test/ff88ed1df29b.jpg: 256x256 Done. (0.021s)\nimage 1262/1263 /kaggle/input/siim-covid19-resized-to-256px-jpg/test/ffb8115a304c.jpg: 256x256 Done. (0.018s)\nimage 1263/1263 /kaggle/input/siim-covid19-resized-to-256px-jpg/test/ffc66893d9ea.jpg: 256x256 Done. (0.020s)\nResults saved to runs/detect/exp3\n583 labels saved to runs/detect/exp3/labels\nDone. (34.619s)\n",
          "output_type": "stream"
        }
      ]
    },
    {
      "cell_type": "markdown",
      "metadata": {
        "id": "WItPpcQW_2cj"
      },
      "source": [
        "### How to find the confidence score?\n",
        "\n",
        "1. First first the [W&B run page](https://wandb.ai/ayush-thakur/kaggle-siim-covid/runs/jbt74n7q) generated by training the YOLOv5 model. \n",
        "\n",
        "2. Go to the media panel -> click on the F1_curve.png file to get a rough estimate of the threshold -> go to the Bounding Box Debugger panel and interactively adjust the confidence threshold. \n",
        "\n",
        "![img](https://i.imgur.com/cCUnTBw.gif)"
      ]
    },
    {
      "cell_type": "markdown",
      "metadata": {
        "id": "4uZGVNNF_2ck"
      },
      "source": [
        "> 📍 The bounding box coordinates are saved as text file per image name. It is saved in this directory `runs/detect/exp3/labels`. "
      ]
    },
    {
      "cell_type": "code",
      "metadata": {
        "scrolled": true,
        "execution": {
          "iopub.status.busy": "2021-05-23T23:49:10.271105Z",
          "iopub.execute_input": "2021-05-23T23:49:10.271450Z",
          "iopub.status.idle": "2021-05-23T23:49:10.900773Z",
          "shell.execute_reply.started": "2021-05-23T23:49:10.271418Z",
          "shell.execute_reply": "2021-05-23T23:49:10.899874Z"
        },
        "_kg_hide-output": true,
        "trusted": true,
        "id": "5PvKyprb_2ck",
        "outputId": "64435290-ef62-476c-fbfd-94c53f1ee020"
      },
      "source": [
        "PRED_PATH = 'runs/detect/exp3/labels'\n",
        "!ls {PRED_PATH}"
      ],
      "execution_count": null,
      "outputs": [
        {
          "name": "stdout",
          "text": "00fc8fc35dc1.txt  409322480a9b.txt  858667501a67.txt  bca76008a759.txt\n03a778f5a68b.txt  413344e1032c.txt  85b6452b47cc.txt  be4b4301c5e4.txt\n042979d394a1.txt  445298de90b9.txt  86734b7cc20f.txt  be53bfb563b3.txt\n04396dd5af2f.txt  458417ad6155.txt  87a0829f53c1.txt  beb80bb88a6e.txt\n04720d7e4e42.txt  4810ae5dbc08.txt  87c51db67bf7.txt  bf30cc575dc9.txt\n049fce8128f9.txt  4905b651a091.txt  87d8baf120a6.txt  bf5c7ef3b72a.txt\n04de800ea41a.txt  49c1b06028a1.txt  8829d22c3e2b.txt  bf8e59f80d5c.txt\n04f4a36c08a2.txt  49e9379c42dc.txt  88782677cbec.txt  c02ef6a70c7e.txt\n05435da60872.txt  49fb3141efe3.txt  89015a2258aa.txt  c0a746ef9f9f.txt\n0562436fde50.txt  4b0058c1f54e.txt  8927235865c9.txt  c0f5131b1c99.txt\n05a70a1c16c1.txt  4c2d931d0f33.txt  898d24f3cda6.txt  c263b1e9aa64.txt\n05feea9719f5.txt  4d56b2fc668c.txt  89ee5be93326.txt  c28570a073d9.txt\n06df1e2fde68.txt  4d6c8e93e7c9.txt  8b354d4a216f.txt  c39146cbda47.txt\n07db3756ec28.txt  4d7b06512cc1.txt  8b6ebd55c8c8.txt  c3c99fea8c77.txt\n08992bd07010.txt  4e01dd0a5fdf.txt  8b7e42d19053.txt  c3d0378f8856.txt\n08b12b305a50.txt  4e126f476f86.txt  8b901c5f333a.txt  c3d79bd7e833.txt\n08bbffaafbe7.txt  4eb36901f082.txt  8bc924bcab6f.txt  c3deaf98bf56.txt\n0a3a99612b28.txt  4ece84b1cfb8.txt  8c3864112d54.txt  c614d8c2e47e.txt\n0cc69a8f538c.txt  4eceeddd00ca.txt  8c452e8e1278.txt  c61fe263d5e3.txt\n0cea7e93db89.txt  4f83ec489a15.txt  8d6d32d0822e.txt  c6a555431645.txt\n0d47ef3e87e4.txt  4fc12ae446a8.txt  8d6dea06a032.txt  c6c9bf98487a.txt\n0d50bce86451.txt  4fe0444d7fc5.txt  8ea54e20fd42.txt  c788095df8f2.txt\n0e97cc4123aa.txt  50201fe80b1b.txt  8f1894f52499.txt  c8538fe73673.txt\n0f01c0517022.txt  5020cd97beb8.txt  8f925628e0f2.txt  ca107bb3a592.txt\n0f147ee4a61b.txt  50243b2cdb56.txt  8fbc90b33f87.txt  ca7b91d018c7.txt\n0feac35cd28b.txt  503a6e0884c6.txt  90fa4db1ab87.txt  cb75251076c7.txt\n0fedf74dc163.txt  509c535a3dc1.txt  9114c5437cfb.txt  cbb693ad2012.txt\n1093f305a358.txt  50c0e40fd929.txt  91558723b2cd.txt  cca081560d98.txt\n11349660bb1a.txt  50de91c4297d.txt  91e5e9e37c58.txt  cd6acf7eecab.txt\n1137ee93363f.txt  50dfcc0c2826.txt  926aeec260b1.txt  cdc6e15cc1a6.txt\n114f7f3baedf.txt  51635cbfbe18.txt  927bd54fd2dd.txt  cdfdbadb85c1.txt\n11541455ef19.txt  51cbf7662bee.txt  92c25d90d0a8.txt  cea591e99b8a.txt\n1177e1bef164.txt  53316aefede6.txt  93be428f5dcf.txt  cee98095dd28.txt\n11b8e5179115.txt  5378fb58d2d1.txt  946a0aa2bb58.txt  cf0007295ff6.txt\n11f8052288c7.txt  539931eced05.txt  948e9f366810.txt  cf0bf9859b12.txt\n127c2b32dd5d.txt  53b0dc275cb0.txt  949b8bf1079a.txt  d021e4e09628.txt\n12ae063a0dda.txt  53c971120ab1.txt  949ea39318e2.txt  d0b546b42023.txt\n130aa9d3716d.txt  551957feafcc.txt  95a69615f643.txt  d0e4465e3731.txt\n1359178e428a.txt  553cc2a7b556.txt  95be2813ba36.txt  d16be9684636.txt\n13a28f6783b2.txt  55ea6ce07bdd.txt  9603112b4c2e.txt  d1912847d707.txt\n14ec6bdb5641.txt  55ecad406759.txt  961a766a5511.txt  d1a0f21a848f.txt\n155f5e326d5e.txt  55f69f03ee2f.txt  96780bd04f67.txt  d1be32513936.txt\n158cc858a485.txt  56414fb3f177.txt  96948f97f356.txt  d1e5994d79de.txt\n160cfef3014f.txt  5699fc89704f.txt  96e1e1cf5431.txt  d2289e68cca1.txt\n16237f3bc333.txt  56a3fb6663bf.txt  97324905f48f.txt  d25061b50086.txt\n164dd63ae571.txt  572d5c14fc66.txt  977a20a10137.txt  d35dc6f25249.txt\n16a0d37747d7.txt  574b38d8f6ee.txt  97998832742c.txt  d3d02532e1cf.txt\n179291642620.txt  5765f6b4707d.txt  97de5453f769.txt  d40d1b28e300.txt\n180a5ea482c5.txt  5878b290f09a.txt  98118511c57b.txt  d42b21e5f6cd.txt\n181a2a300bb8.txt  58bc298e0f9f.txt  9850b5470fd6.txt  d438ffd35a00.txt\n1863b31637f6.txt  59911e31f963.txt  9883f5325492.txt  d4a4dc17bb61.txt\n18a23df4fe99.txt  59a0fc64bd20.txt  98bab257d89b.txt  d4f61c144f48.txt\n1a330ec81ee3.txt  5af15b21333b.txt  98fbac3667c9.txt  d50e6d47864b.txt\n1ab561ec5f7e.txt  5b12f6b2c93e.txt  9998acc77910.txt  d5911a060ee4.txt\n1ade3b5d0699.txt  5b75a1de503b.txt  99b475d1d2ec.txt  d5a056bedf60.txt\n1aff7e4ed470.txt  5c88a5fc55e7.txt  9a1185f5ff34.txt  d5d3ededa34e.txt\n1bc8687f938e.txt  5c90beaa5c48.txt  9aa2c2119c43.txt  d62e3d8adae9.txt\n1c13336fc8a9.txt  5cb984539107.txt  9b3eae4045c8.txt  d6c2f07ca4ba.txt\n1c1c48cb66e4.txt  5db9599cf9f7.txt  9b7cee40d0a7.txt  d750be1736db.txt\n1c8df7067e35.txt  5dba2b3647b1.txt  9b8610d78de1.txt  d764b622b4b5.txt\n1c937e2b91a9.txt  5dd9e477a6ee.txt  9bc2041c6ac0.txt  d7aaf0a52df3.txt\n1c9c9f68941e.txt  5dfad16f8d65.txt  9bee9808a9d4.txt  d8407edd456b.txt\n1ce9abb861b6.txt  5e0e7acd9c7d.txt  9cbc2fd041a7.txt  d8e2ec854be4.txt\n1d674718db40.txt  5e64da034f7a.txt  9d0f2c2645da.txt  d997c6c6a9b4.txt\n1d9a8f9f0eef.txt  5e8ac1fe2b82.txt  9e525f16490a.txt  da3860170bad.txt\n1dfed0992998.txt  5e8d99b9ab38.txt  9e78e0ae2f3e.txt  da66593f5d16.txt\n1e7429ce2e06.txt  5eb97e03c468.txt  9f525be80c70.txt  daf0bd7ba1b4.txt\n1e9b7b493e47.txt  5ee582e2463a.txt  a0f473f71878.txt  db9ea9c5067e.txt\n1eae0890a6ad.txt  5fa584b8b4ad.txt  a0f6e42396fc.txt  dc0b4b3495c4.txt\n1fb5ca50e8d3.txt  5fba37ac7937.txt  a1883aeaa8f0.txt  dc5141a2316a.txt\n1fba9eccac03.txt  5fbc3a77d700.txt  a2460d88071d.txt  dc58aecf62e3.txt\n2083ae742497.txt  5fbec0b4056c.txt  a24bc9ab2ea8.txt  dcf6740dbc49.txt\n21ab319a926c.txt  603addd70746.txt  a29c5a68b07b.txt  ddd7ad8b0c41.txt\n222601cefe1b.txt  604bd55c21c6.txt  a459429226e0.txt  de1b8900bf84.txt\n223115cbf342.txt  609361f18122.txt  a489286e78c1.txt  dee71f5c5b9c.txt\n2250e31a4999.txt  61884a13a399.txt  a492841dcf21.txt  dfb6a487e854.txt\n236d240402cd.txt  629ef3bd6a66.txt  a4c570b129c3.txt  dfc5c09a50bc.txt\n23d8a619f39c.txt  62eca401e981.txt  a522fd19d916.txt  e00b7784d1eb.txt\n240bf89e4d58.txt  62fb484194fb.txt  a52729755130.txt  e0daaf8d36a4.txt\n2413a23a5477.txt  63173909bed5.txt  a67ef603134f.txt  e150241b43a4.txt\n24ef59e133f6.txt  633e41912f6e.txt  a6a0ba6efa97.txt  e19d8286b13b.txt\n2565c5ccfba1.txt  649b529933d6.txt  a706ebbc447a.txt  e226747a2d76.txt\n25b281d5a9f3.txt  64c64a317c96.txt  a72e1270f4cd.txt  e2c038335c9a.txt\n25d33047633c.txt  64ea82b1343f.txt  a74e51891aa8.txt  e32589cd4421.txt\n26102c3f4f0f.txt  65a5d46ef968.txt  a8217ee2d2a0.txt  e3eeddbfba24.txt\n262f3525e16a.txt  65be7fc2448a.txt  a82ca8f37fb6.txt  e420d66bb7f8.txt\n268d472480ec.txt  661343e25b55.txt  a840d15a7cdc.txt  e47df1ad9ccf.txt\n26f55b8a7a94.txt  6707b082f3c9.txt  a84c79aac3c0.txt  e49489fcf5c0.txt\n26fa9834387e.txt  670989e56968.txt  a8de2b8aae69.txt  e59126042b0e.txt\n271bea69026c.txt  6758e5ed7742.txt  a91b4b59c145.txt  e5c56ef2d194.txt\n27a4a0d2b7ec.txt  67f192ad1a53.txt  a9330037dce2.txt  e5f1d33714e6.txt\n2857f0e19e09.txt  6828795ea830.txt  a9d318c0b89e.txt  e61e420938b6.txt\n28d0fa664e61.txt  697a674d44e0.txt  aa6b768d3161.txt  e730aa7fca0a.txt\n290d07d7480f.txt  699fc1ec26f9.txt  aa6c8c46a05f.txt  e78f51cdf0b8.txt\n2a316bf62f59.txt  69ffab5539ec.txt  aad5bc70a20e.txt  e7b2a9418b98.txt\n2b59777ebc31.txt  6a5a6eaef699.txt  ab97e736a971.txt  e831bebfa015.txt\n2b7e9cf46376.txt  6af96c8a94c9.txt  abd45a0023eb.txt  e8cc6a2f117c.txt\n2b9cfe857b00.txt  6be63db536d7.txt  abee6a2d0bf5.txt  e9783e91ed84.txt\n2ba135370ac3.txt  6c0e9f010b2b.txt  acab76326ba1.txt  ea71a8b95d30.txt\n2bc3736cc7bf.txt  6c45d9b8e386.txt  accc3b15a2d4.txt  ea9ee4d59c59.txt\n2be1c227dbf2.txt  6ca497c845ef.txt  ad56b89a81c7.txt  eaad41dd9fe3.txt\n2be224a00fac.txt  6cc1a9065abb.txt  ad97e89134ca.txt  eaec01e48714.txt\n2c1c4ab77d52.txt  6ce67071aa0e.txt  ad98af65ad2a.txt  eb3fe9eb8e39.txt\n2d58009c5ade.txt  6d66127d071d.txt  adb60ba82edf.txt  eb632adfa113.txt\n2d6a4bc38540.txt  6dd0cdbd225f.txt  ae357fad39c2.txt  eb6cabb0b9f2.txt\n2dad900da56f.txt  6dea3c3d1efa.txt  ae9849096225.txt  ebaebf6b1e02.txt\n2de24d1c32bb.txt  7035dc2026f0.txt  ae9c9f0b03da.txt  ebf5edbbed2d.txt\n2fd67e10bfe7.txt  70bee63a6740.txt  aee5e3feb1a2.txt  ecdd379e2a9b.txt\n303840f71bb5.txt  71dc3bd13f18.txt  af13d77fc159.txt  ed74d42fc445.txt\n305870c916a4.txt  720a67515500.txt  afc074e1bdb7.txt  ede662a3de87.txt\n30b1c089724e.txt  7230234e120a.txt  afce260dc959.txt  ee27ca277911.txt\n317df13caea9.txt  7230f166720e.txt  afd960320c38.txt  ee2b112cdd91.txt\n318a1ecb6fc7.txt  731b94c566ef.txt  afe360acb63b.txt  eebfaa5e1a65.txt\n31c07523a69a.txt  7529a3e9745b.txt  b04178e642ed.txt  ef25824e7b3a.txt\n32b211904f5b.txt  7571cda597cb.txt  b081d24bd60f.txt  ef661638c8c0.txt\n32ecb7330e19.txt  75a172588bc8.txt  b08f26e45762.txt  eff9f15c7e9b.txt\n33e0c978d0da.txt  75b2c9f1f232.txt  b0e7fab418bc.txt  f02e557a36dc.txt\n34834851ec56.txt  767f10b9aab5.txt  b1115b344129.txt  f1774ffc9c4b.txt\n34b713a5bb1d.txt  7731db2caed2.txt  b150add375b5.txt  f1b66ff8f4eb.txt\n35271bec39b5.txt  7750ed45ff97.txt  b16a04496b57.txt  f2038cb67c83.txt\n3550632514dc.txt  781a92a65529.txt  b1b46fa2505e.txt  f2200b845e93.txt\n35d6801ca10a.txt  789ef0f544c3.txt  b1c455a826eb.txt  f2d98750a22c.txt\n35dd17ea3e6a.txt  78adeeaa636c.txt  b246eb99760f.txt  f31bb833e467.txt\n363dd47c8b10.txt  797fe7acf67b.txt  b30d2aef985f.txt  f3239829a8dc.txt\n36a2991ffe0e.txt  7984338fa964.txt  b39bb8f504fb.txt  f49845505871.txt\n36b323299f7e.txt  79e957055a36.txt  b3d87adb933b.txt  f533f5259633.txt\n36ba388a18df.txt  7a31d8763221.txt  b4b6e82b3dc9.txt  f554169c1277.txt\n3730eb76afba.txt  7a608ecc4868.txt  b57e134bbaef.txt  f5b45b497add.txt\n374e1b87d7b8.txt  7b5d82423dec.txt  b5b53f0a4947.txt  f785f9c6bbf7.txt\n375b61c5cc94.txt  7c95cf673952.txt  b708990b8e03.txt  f78ec02bc8d8.txt\n376d6d181b25.txt  7cc2f3d9b469.txt  b7eb3f96fb93.txt  f8ed7c6111f1.txt\n37bf83df1b86.txt  7e3c0527ddb7.txt  b7ec5afe1084.txt  f90deb13b3e2.txt\n37c6c0aee54b.txt  7f49e2face0c.txt  b83b916b6714.txt  f91fbbfe4682.txt\n37d6750b5282.txt  7f4b304253ac.txt  b854ff324fbb.txt  f99f9714b911.txt\n386343f0df08.txt  802b634297a0.txt  b92e6f1b6c1b.txt  fa0c84ee4577.txt\n38b2e04ea601.txt  818065156194.txt  b93887026df6.txt  fa29fd163597.txt\n39f8e38c9d43.txt  81bae2b0c027.txt  b96333d66af7.txt  fb1e3b68864d.txt\n3b5f48db44cc.txt  81ca75341b65.txt  b9ebfc00c1b5.txt  fbf41ac72bdb.txt\n3be5852db61e.txt  82198019c4a4.txt  b9f9619f02ba.txt  fcdb115a918f.txt\n3d465a00a9b6.txt  825dd8f7aca2.txt  ba0cf340582d.txt  fce43e07637a.txt\n3d639e7999a5.txt  8262b27852b3.txt  ba4b17aaafc2.txt  fd322d964dc7.txt\n3e4b4468eca3.txt  82af7f7081d7.txt  ba91d37ee459.txt  fd435a3c012d.txt\n3f1439b85338.txt  82c5cf0b451c.txt  bab3c8aa789b.txt  fd65cc14da23.txt\n4040afec3ee4.txt  82d09edcbfc4.txt  bb1d9e39b848.txt  fd7f440d5444.txt\n4041be34745f.txt  833fc5c718dd.txt  bb6fc945fc18.txt  fe501aa91e43.txt\n404d53460643.txt  849c83d5af12.txt  bbb202078733.txt\n",
          "output_type": "stream"
        }
      ]
    },
    {
      "cell_type": "code",
      "metadata": {
        "execution": {
          "iopub.status.busy": "2021-05-23T23:49:14.792212Z",
          "iopub.execute_input": "2021-05-23T23:49:14.792530Z",
          "iopub.status.idle": "2021-05-23T23:49:15.427611Z",
          "shell.execute_reply.started": "2021-05-23T23:49:14.792498Z",
          "shell.execute_reply": "2021-05-23T23:49:15.426681Z"
        },
        "trusted": true,
        "id": "297JSbYV_2cl",
        "outputId": "6cd0f4d7-9e30-4bc6-e862-1e57f3b4c0fc"
      },
      "source": [
        "# Visualize predicted coordinates.\n",
        "%cat runs/detect/exp3/labels/ba91d37ee459.txt"
      ],
      "execution_count": null,
      "outputs": [
        {
          "name": "stdout",
          "text": "1 0.287109 0.294922 0.214844 0.371094 0.446045\n1 0.695312 0.357422 0.210938 0.433594 0.474609\n",
          "output_type": "stream"
        }
      ]
    },
    {
      "cell_type": "markdown",
      "metadata": {
        "id": "Ae-QfOmc_2cm"
      },
      "source": [
        "> 📍 Note: 1 is class id (opacity), the first four float numbers are `x_center`, `y_center`, `width` and `height`. The final float value is `confidence`."
      ]
    },
    {
      "cell_type": "code",
      "metadata": {
        "execution": {
          "iopub.status.busy": "2021-05-23T23:49:17.655442Z",
          "iopub.execute_input": "2021-05-23T23:49:17.655750Z",
          "iopub.status.idle": "2021-05-23T23:49:17.661362Z",
          "shell.execute_reply.started": "2021-05-23T23:49:17.655721Z",
          "shell.execute_reply": "2021-05-23T23:49:17.660382Z"
        },
        "trusted": true,
        "id": "jYA4JMx4_2cn",
        "outputId": "dcb58b71-fb48-4c92-c02b-935f11f9ddb6"
      },
      "source": [
        "prediction_files = os.listdir(PRED_PATH)\n",
        "print('Number of test images predicted as opaque: ', len(prediction_files))"
      ],
      "execution_count": null,
      "outputs": [
        {
          "name": "stdout",
          "text": "Number of test images predicted as opaque:  583\n",
          "output_type": "stream"
        }
      ]
    },
    {
      "cell_type": "markdown",
      "metadata": {
        "id": "W8JGof9B_2co"
      },
      "source": [
        "> 📍 Out of 1263 test images, 583 were predicted with `opacity` label and thus we have that many prediction txt files."
      ]
    },
    {
      "cell_type": "markdown",
      "metadata": {
        "id": "NkEbXilF_2co"
      },
      "source": [
        "# Submission\n",
        "\n",
        "In this section, I will show how you can use YOLOv5 as object detector and prepare `submission.csv` file."
      ]
    },
    {
      "cell_type": "code",
      "metadata": {
        "_kg_hide-input": false,
        "execution": {
          "iopub.status.busy": "2021-05-24T00:04:32.640121Z",
          "iopub.execute_input": "2021-05-24T00:04:32.640474Z",
          "iopub.status.idle": "2021-05-24T00:04:32.649309Z",
          "shell.execute_reply.started": "2021-05-24T00:04:32.640442Z",
          "shell.execute_reply": "2021-05-24T00:04:32.648460Z"
        },
        "trusted": true,
        "id": "QrGaRokU_2cp"
      },
      "source": [
        "# The submisison requires xmin, ymin, xmax, ymax format. \n",
        "# YOLOv5 returns x_center, y_center, width, height\n",
        "def correct_bbox_format(bboxes):\n",
        "    correct_bboxes = []\n",
        "    for b in bboxes:\n",
        "        xc, yc = int(np.round(b[0]*IMG_SIZE)), int(np.round(b[1]*IMG_SIZE))\n",
        "        w, h = int(np.round(b[2]*IMG_SIZE)), int(np.round(b[3]*IMG_SIZE))\n",
        "\n",
        "        xmin = xc - int(np.round(w/2))\n",
        "        xmax = xc + int(np.round(w/2))\n",
        "        ymin = yc - int(np.round(h/2))\n",
        "        ymax = yc + int(np.round(h/2))\n",
        "        \n",
        "        correct_bboxes.append([xmin, xmax, ymin, ymax])\n",
        "        \n",
        "    return correct_bboxes\n",
        "\n",
        "# Read the txt file generated by YOLOv5 during inference and extract \n",
        "# confidence and bounding box coordinates.\n",
        "def get_conf_bboxes(file_path):\n",
        "    confidence = []\n",
        "    bboxes = []\n",
        "    with open(file_path, 'r') as file:\n",
        "        for line in file:\n",
        "            preds = line.strip('\\n').split(' ')\n",
        "            preds = list(map(float, preds))\n",
        "            confidence.append(preds[-1])\n",
        "            bboxes.append(preds[1:-1])\n",
        "    return confidence, bboxes"
      ],
      "execution_count": null,
      "outputs": []
    },
    {
      "cell_type": "code",
      "metadata": {
        "execution": {
          "iopub.status.busy": "2021-05-24T00:04:43.958093Z",
          "iopub.execute_input": "2021-05-24T00:04:43.958403Z",
          "iopub.status.idle": "2021-05-24T00:04:43.977890Z",
          "shell.execute_reply.started": "2021-05-24T00:04:43.958375Z",
          "shell.execute_reply": "2021-05-24T00:04:43.977167Z"
        },
        "trusted": true,
        "id": "pSz6nCSi_2cp",
        "outputId": "c5149f0c-26d3-4689-e30c-739e10fcab86"
      },
      "source": [
        "# Read the submisison file\n",
        "sub_df = pd.read_csv('/kaggle/input/siim-covid19-detection/sample_submission.csv')\n",
        "sub_df.tail()"
      ],
      "execution_count": null,
      "outputs": [
        {
          "execution_count": 161,
          "output_type": "execute_result",
          "data": {
            "text/plain": "                      id PredictionString\n2472  46719b856de1_image   none 1 0 0 1 1\n2473  31c07523a69a_image   none 1 0 0 1 1\n2474  f77d7d1aebab_image   none 1 0 0 1 1\n2475  ccc5b63ca96d_image   none 1 0 0 1 1\n2476  5e8ac1fe2b82_image   none 1 0 0 1 1",
            "text/html": "<div>\n<style scoped>\n    .dataframe tbody tr th:only-of-type {\n        vertical-align: middle;\n    }\n\n    .dataframe tbody tr th {\n        vertical-align: top;\n    }\n\n    .dataframe thead th {\n        text-align: right;\n    }\n</style>\n<table border=\"1\" class=\"dataframe\">\n  <thead>\n    <tr style=\"text-align: right;\">\n      <th></th>\n      <th>id</th>\n      <th>PredictionString</th>\n    </tr>\n  </thead>\n  <tbody>\n    <tr>\n      <th>2472</th>\n      <td>46719b856de1_image</td>\n      <td>none 1 0 0 1 1</td>\n    </tr>\n    <tr>\n      <th>2473</th>\n      <td>31c07523a69a_image</td>\n      <td>none 1 0 0 1 1</td>\n    </tr>\n    <tr>\n      <th>2474</th>\n      <td>f77d7d1aebab_image</td>\n      <td>none 1 0 0 1 1</td>\n    </tr>\n    <tr>\n      <th>2475</th>\n      <td>ccc5b63ca96d_image</td>\n      <td>none 1 0 0 1 1</td>\n    </tr>\n    <tr>\n      <th>2476</th>\n      <td>5e8ac1fe2b82_image</td>\n      <td>none 1 0 0 1 1</td>\n    </tr>\n  </tbody>\n</table>\n</div>"
          },
          "metadata": {}
        }
      ]
    },
    {
      "cell_type": "code",
      "metadata": {
        "execution": {
          "iopub.status.busy": "2021-05-24T00:05:07.787078Z",
          "iopub.execute_input": "2021-05-24T00:05:07.787407Z",
          "iopub.status.idle": "2021-05-24T00:05:08.160354Z",
          "shell.execute_reply.started": "2021-05-24T00:05:07.787378Z",
          "shell.execute_reply": "2021-05-24T00:05:08.159234Z"
        },
        "trusted": true,
        "id": "kSsDKwqp_2cq",
        "outputId": "3a40e9c2-3e66-41cb-c866-cc298e89f391"
      },
      "source": [
        "# Prediction loop for submission\n",
        "predictions = []\n",
        "\n",
        "for i in tqdm(range(len(sub_df))):\n",
        "    row = sub_df.loc[i]\n",
        "    id_name = row.id.split('_')[0]\n",
        "    id_level = row.id.split('_')[-1]\n",
        "    \n",
        "    if id_level == 'study':\n",
        "        # do study-level classification\n",
        "        predictions.append(\"Negative 1 0 0 1 1\") # dummy prediction\n",
        "        \n",
        "    elif id_level == 'image':\n",
        "        # we can do image-level classification here.\n",
        "        # also we can rely on the object detector's classification head.\n",
        "        # for this example submisison we will use YOLO's classification head. \n",
        "        # since we already ran the inference we know which test images belong to opacity.\n",
        "        if f'{id_name}.txt' in prediction_files:\n",
        "            # opacity label\n",
        "            confidence, bboxes = get_conf_bboxes(f'{PRED_PATH}/{id_name}.txt')\n",
        "            bboxes = correct_bbox_format(bboxes)\n",
        "            pred_string = ''\n",
        "            for j, conf in enumerate(confidence):\n",
        "                pred_string += f'opacity {conf} ' + ' '.join(map(str, bboxes[j])) + ' '\n",
        "            predictions.append(pred_string[:-1]) \n",
        "        else:\n",
        "            predictions.append(\"None 1 0 0 1 1\")"
      ],
      "execution_count": null,
      "outputs": [
        {
          "name": "stderr",
          "text": "100%|██████████| 2477/2477 [00:00<00:00, 6829.04it/s] \n",
          "output_type": "stream"
        }
      ]
    },
    {
      "cell_type": "code",
      "metadata": {
        "execution": {
          "iopub.status.busy": "2021-05-24T00:05:14.382633Z",
          "iopub.execute_input": "2021-05-24T00:05:14.382937Z",
          "iopub.status.idle": "2021-05-24T00:05:14.406141Z",
          "shell.execute_reply.started": "2021-05-24T00:05:14.382909Z",
          "shell.execute_reply": "2021-05-24T00:05:14.405412Z"
        },
        "trusted": true,
        "id": "s_wCowon_2cr",
        "outputId": "59fc0242-b689-46ca-83b5-c732deaf630a"
      },
      "source": [
        "sub_df['PredictionString'] = predictions\n",
        "sub_df.to_csv('submission.csv', index=False)\n",
        "sub_df.tail()"
      ],
      "execution_count": null,
      "outputs": [
        {
          "execution_count": 163,
          "output_type": "execute_result",
          "data": {
            "text/plain": "                      id                                   PredictionString\n2472  46719b856de1_image                                     None 1 0 0 1 1\n2473  31c07523a69a_image  opacity 0.42749 53 113 78 200 opacity 0.56543 ...\n2474  f77d7d1aebab_image                                     None 1 0 0 1 1\n2475  ccc5b63ca96d_image                                     None 1 0 0 1 1\n2476  5e8ac1fe2b82_image  opacity 0.319336 166 232 126 242 opacity 0.427...",
            "text/html": "<div>\n<style scoped>\n    .dataframe tbody tr th:only-of-type {\n        vertical-align: middle;\n    }\n\n    .dataframe tbody tr th {\n        vertical-align: top;\n    }\n\n    .dataframe thead th {\n        text-align: right;\n    }\n</style>\n<table border=\"1\" class=\"dataframe\">\n  <thead>\n    <tr style=\"text-align: right;\">\n      <th></th>\n      <th>id</th>\n      <th>PredictionString</th>\n    </tr>\n  </thead>\n  <tbody>\n    <tr>\n      <th>2472</th>\n      <td>46719b856de1_image</td>\n      <td>None 1 0 0 1 1</td>\n    </tr>\n    <tr>\n      <th>2473</th>\n      <td>31c07523a69a_image</td>\n      <td>opacity 0.42749 53 113 78 200 opacity 0.56543 ...</td>\n    </tr>\n    <tr>\n      <th>2474</th>\n      <td>f77d7d1aebab_image</td>\n      <td>None 1 0 0 1 1</td>\n    </tr>\n    <tr>\n      <th>2475</th>\n      <td>ccc5b63ca96d_image</td>\n      <td>None 1 0 0 1 1</td>\n    </tr>\n    <tr>\n      <th>2476</th>\n      <td>5e8ac1fe2b82_image</td>\n      <td>opacity 0.319336 166 232 126 242 opacity 0.427...</td>\n    </tr>\n  </tbody>\n</table>\n</div>"
          },
          "metadata": {}
        }
      ]
    },
    {
      "cell_type": "markdown",
      "metadata": {
        "id": "5-x_HSb1_2cs"
      },
      "source": [
        "# WORK IN PROGRESS\n",
        "\n",
        "Final component is model prediction visualization which is an optional debugging tool I would like to share. :)\n",
        "\n",
        "Consider upvoting if you find the work useful. "
      ]
    }
  ]
}